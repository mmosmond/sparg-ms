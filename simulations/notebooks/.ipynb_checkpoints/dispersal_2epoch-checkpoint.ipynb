{
 "cells": [
  {
   "cell_type": "markdown",
   "metadata": {},
   "source": [
    "# Plotting dispersal estimates, 2 epoch"
   ]
  },
  {
   "cell_type": "markdown",
   "metadata": {},
   "source": [
    "modules"
   ]
  },
  {
   "cell_type": "code",
   "execution_count": 1,
   "metadata": {},
   "outputs": [],
   "source": [
    "import numpy as np\n",
    "import matplotlib.pyplot as plt\n",
    "import matplotlib.ticker as ticker"
   ]
  },
  {
   "cell_type": "markdown",
   "metadata": {},
   "source": [
    "functions"
   ]
  },
  {
   "cell_type": "code",
   "execution_count": 32,
   "metadata": {},
   "outputs": [],
   "source": [
    "def corrxplot(truths, mcle_trues, mcle_infs, mcle_trues_1epoch, mcle_infs_1epoch, fname=None):\n",
    "\n",
    "    # params\n",
    "    cmap = plt.get_cmap('viridis')\n",
    "    labels = [r'inferred trees $\\sigma_x$']\n",
    "    ds = 0.1 #padding\n",
    "    ymin = 0\n",
    "    ymax = 0.75\n",
    "    alpha = 0.75\n",
    "    fontsize = 16\n",
    "    legendfontsize = 12\n",
    "    ticklabelfontsize = 12\n",
    "    legendlabels = ['ancient epoch', 'recent epoch']\n",
    "\n",
    "    # set up\n",
    "    fig = plt.figure(figsize=(5, 5))\n",
    "    ax1 = plt.subplot(1,1,1)\n",
    "\n",
    "    # plot\n",
    "    for i,truth in enumerate(truths):\n",
    "        ax1.scatter(truth, truth, color=cmap(i*100), zorder=4, marker='X') #simulated parameter value\n",
    "        for n in range(NREPS):\n",
    "            if n == 0:\n",
    "                label = legendlabels[i]\n",
    "            else:\n",
    "                label = None\n",
    "            ax1.scatter(mcle_trues[n,i*3], mcle_infs[n,i*3], color = cmap(i*100), alpha = alpha, zorder=3, label=label) #mcle of inf vs true tree (sigmax only)\n",
    "    \n",
    "    for n in range(NREPS):        \n",
    "        ax1.scatter(mcle_trues_1epoch[n,0], mcle_infs_1epoch[n,0], color = 'gray', alpha = alpha, zorder=2, label=label) #mcle of inf vs true tree with 1 epoch(sigmax only)\n",
    "    \n",
    "    ax1.plot([ymin,ymax],[ymin,ymax], color='gray', zorder=1) #1:1 line\n",
    "            \n",
    "    # pretty-up\n",
    "    ax1.set_xlim(ymin, ymax)\n",
    "    ax1.set_ylim(ymin, ymax)\n",
    "    ax1.set_ylabel(labels[0], fontsize=fontsize)\n",
    "    ax1.tick_params(axis='both', labelsize=ticklabelfontsize)\n",
    "    ax1.set_xlabel(r'true trees $\\sigma_x$', fontsize=fontsize)\n",
    "    ax1.xaxis.set_major_locator(ticker.FixedLocator([0.25,0.5]))\n",
    "    ax1.yaxis.set_major_locator(ticker.FixedLocator([0.25,0.5]))\n",
    "    plt.legend(fontsize=ticklabelfontsize)\n",
    "    plt.tight_layout()\n",
    "    \n",
    "    if fname != None:\n",
    "        plt.savefig(fname)\n",
    "    \n",
    "    plt.show()"
   ]
  },
  {
   "cell_type": "markdown",
   "metadata": {},
   "source": [
    "parameters"
   ]
  },
  {
   "cell_type": "code",
   "execution_count": 2,
   "metadata": {},
   "outputs": [],
   "source": [
    "datadir = '../data/'\n",
    "plotdir = '../plots/'\n",
    "\n",
    "#params to get files\n",
    "L = 100000000 #sequence length\n",
    "RBP = 5e-9 #recombination rate\n",
    "LAMBDA = 2.0 #birth rate\n",
    "K = 4.0 #carrying capacity\n",
    "W = 50 #width of habitat\n",
    "SIGMAi = 0.5 #interaction kernel SD\n",
    "MAXT = 20000 #num gens of spatial sim\n",
    "Ne = 10000 #effective pop size estimate\n",
    "U = 1.25e-8 #mutation rate\n",
    "k = 50 #number of sampled individuals\n",
    "d = 100 #max distance from center to sample individuals\n",
    "tCutoff = 1000 #gens to go back to\n",
    "nloci = 100 # the number of loci to estimate sigma at\n",
    "M = 10 #number of samples of tree\n",
    "numiter = 5 #number of relate iterations\n",
    "SIGMAd1s = [0.25, 0.5] #dispersal rates in first epoch\n",
    "SIGMAd2s = [0.25, 0.5] #second epoch\n",
    "T12 = 100 #switch time between epochs\n",
    "NREPS = 10 #number of replicates of each dispersal scenario\n",
    "\n",
    "#params for plotting\n",
    "nsites = L-1e3 # total number of sites in chromosome, note we subtract some off because the inferred chromosomes are sometimes shorter\n",
    "which_sites = np.linspace(0, nsites, nloci, dtype=int) # sites to get trees at\n",
    "\n",
    "bnds = ((1e-6,None), (1e-6,None), (-0.99,0.99), (1e-6,None), (1e-6,None), (-0.99,0.99), (1e-6,None)) #bounds on parameters being estimated\n",
    "bnds = [list(i) for i in bnds]"
   ]
  },
  {
   "cell_type": "markdown",
   "metadata": {},
   "source": [
    "load data"
   ]
  },
  {
   "cell_type": "code",
   "execution_count": 3,
   "metadata": {},
   "outputs": [],
   "source": [
    "def true_mcle_pattern(datadir, rep, SIGMAd1, SIGMAd2):\n",
    "    return datadir + 'slim_%dL_%.0eRBP_%.1fLAMBDA_%.1fK_%dW_%sSIGMAi_%sSIGMAd1_%sSIGMAd2_%dT12_%dMAXT_%drep_%dNe_%.2eU_%dk_%dd_sample_true_%dnloci_processed_%dtCutoff_mcle_dispersal.npy' %(L,RBP,LAMBDA,K,W,SIGMAi,SIGMAd1,SIGMAd2,T12,MAXT,rep,Ne,U,k,d,nloci,tCutoff)\n",
    "\n",
    "def inf_mcle_pattern(datadir, rep, SIGMAd1, SIGMAd2):\n",
    "    return datadir + 'slim_%dL_%.0eRBP_%.1fLAMBDA_%.1fK_%dW_%sSIGMAi_%sSIGMAd1_%sSIGMAd2_%dT12_%dMAXT_%drep_%dNe_%.2eU_%dk_%dd_sample_%dnumiter_inferred_%dnloci_processed_%dtCutoff_%dM_mcle_dispersal.npy' %(L,RBP,LAMBDA,K,W,SIGMAi,SIGMAd1,SIGMAd2,T12,MAXT,rep,Ne,U,k,d,numiter,nloci,tCutoff,M)\n",
    "\n",
    "def get_mcles():\n",
    "    \n",
    "    mcles_trues = np.empty((len(SIGMAd1s),len(SIGMAd2s),NREPS,7))\n",
    "    mcles_infs = np.empty((len(SIGMAd1s),len(SIGMAd2s),NREPS,7))\n",
    "    \n",
    "    for i,SIGMAd1 in enumerate(SIGMAd1s):\n",
    "        for j,SIGMAd2 in enumerate(SIGMAd2s):\n",
    "    \n",
    "            for rep in range(NREPS):\n",
    "\n",
    "                filename = true_mcle_pattern(datadir, rep, SIGMAd1, SIGMAd2)\n",
    "                try:\n",
    "                    file = np.load(filename, allow_pickle=True).item()\n",
    "\n",
    "                    if file.success == True:\n",
    "                        for k,m in enumerate(file.x):\n",
    "                            if m == bnds[k][0] or m == bnds[k][1]:\n",
    "                                print('sigma1 %f sigma2 %f rep %d with true trees hit bounds parameter %d' %(SIGMAd1, SIGMAd2, rep, k))\n",
    "        #                             file.success = False\n",
    "                    if file.success == True:     \n",
    "                        mcles_trues[i,j,rep] = file.x\n",
    "\n",
    "                    else:\n",
    "                        print('sigma1 %f sigma2 %f rep %d with true trees failed!' %(SIGMAd1, SIGMAd2, rep))\n",
    "                        mcles_trues[i,j,rep] = [np.nan] * 7\n",
    "                except:\n",
    "                    print('sigma1 %f sigma2 %f rep %d with true trees missing!' %(SIGMAd1, SIGMAd2, rep))\n",
    "                    mcles_trues[i,j,rep] = [np.nan] * 7\n",
    "\n",
    "                filename = inf_mcle_pattern(datadir, rep, SIGMAd1, SIGMAd2)\n",
    "                try:\n",
    "                    file = np.load(filename, allow_pickle=True).item()\n",
    "\n",
    "                    if file.success == True:\n",
    "                        for k,m in enumerate(file.x):\n",
    "                            if m == bnds[k][0] or m == bnds[k][1]:\n",
    "                                print('sigma1 %f sigma2 %f rep %d with inferred trees hit bounds parameter %d' %(SIGMAd1, SIGMAd2, rep, k))\n",
    "        #                             file.success = False\n",
    "                    if file.success == True:     \n",
    "                        mcles_infs[i,j,rep] = file.x\n",
    "\n",
    "                    else:\n",
    "                        print('sigma1 %f sigma2 %f rep %d with inferred trees failed!' %(SIGMAd1, SIGMAd2, rep))\n",
    "                        mcles_infs[i,j,rep] = [np.nan] * 7\n",
    "                except:\n",
    "                    print('sigma1 %f sigma2 %f rep %d with inferred trees missing!' %(SIGMAd1, SIGMAd2, rep))\n",
    "                    mcles_infs[i,j,rep] = [np.nan] * 7\n",
    "\n",
    "    return mcles_trues, mcles_infs"
   ]
  },
  {
   "cell_type": "code",
   "execution_count": null,
   "metadata": {},
   "outputs": [],
   "source": [
    "mcles_trues, mcles_infs = get_mcles()"
   ]
  },
  {
   "cell_type": "markdown",
   "metadata": {},
   "source": [
    "and now compare the 2 epoch fits to the 1 epoch fits"
   ]
  },
  {
   "cell_type": "code",
   "execution_count": 2,
   "metadata": {},
   "outputs": [],
   "source": [
    "def true_mcle_pattern_1epoch(datadir, rep, SIGMAd1, SIGMAd2):\n",
    "    return datadir + 'slim_%dL_%.0eRBP_%.1fLAMBDA_%.1fK_%dW_%sSIGMAi_%sSIGMAd1_%sSIGMAd2_%dT12_%dMAXT_%drep_%dNe_%.2eU_%dk_%dd_sample_true_%dnloci_processed_%dtCutoff_mcle_dispersal_1epoch.npy' %(L,RBP,LAMBDA,K,W,SIGMAi,SIGMAd1,SIGMAd2,T12,MAXT,rep,Ne,U,k,d,nloci,tCutoff)\n",
    "\n",
    "def inf_mcle_pattern_1epoch(datadir, rep, SIGMAd1, SIGMAd2):\n",
    "    return datadir + 'slim_%dL_%.0eRBP_%.1fLAMBDA_%.1fK_%dW_%sSIGMAi_%sSIGMAd1_%sSIGMAd2_%dT12_%dMAXT_%drep_%dNe_%.2eU_%dk_%dd_sample_%dnumiter_inferred_%dnloci_processed_%dtCutoff_%dM_mcle_dispersal_1epoch.npy' %(L,RBP,LAMBDA,K,W,SIGMAi,SIGMAd1,SIGMAd2,T12,MAXT,rep,Ne,U,k,d,numiter,nloci,tCutoff,M)\n",
    "\n",
    "\n",
    "def get_mcles_1epoch():\n",
    "    \n",
    "    mcles_trues = np.empty((len(SIGMAd1s),len(SIGMAd2s),NREPS,4))\n",
    "    mcles_infs = np.empty((len(SIGMAd1s),len(SIGMAd2s),NREPS,4))\n",
    "    \n",
    "    for i,SIGMAd1 in enumerate(SIGMAd1s):\n",
    "        for j,SIGMAd2 in enumerate(SIGMAd2s):\n",
    "            print(SIGMAd2, SIGMAd1)\n",
    "            \n",
    "            for rep in range(NREPS):\n",
    "\n",
    "                filename = true_mcle_pattern_1epoch(datadir, rep, SIGMAd1, SIGMAd2)\n",
    "                try:\n",
    "                    file = np.load(filename, allow_pickle=True).item()\n",
    "\n",
    "                    if file.success == True:\n",
    "                        for k,m in enumerate(file.x):\n",
    "                            if m == bnds[k][0] or m == bnds[k][1]:\n",
    "                                print('sigma1 %f sigma2 %f rep %d with true trees hit bounds parameter %d' %(SIGMAd1, SIGMAd2, rep, k))\n",
    "        #                             file.success = False\n",
    "                    if file.success == True:     \n",
    "                        mcles_trues[i,j,rep] = file.x\n",
    "\n",
    "                    else:\n",
    "                        print('sigma1 %f sigma2 %f rep %d with true trees failed!' %(SIGMAd1, SIGMAd2, rep))\n",
    "                        mcles_trues[i,j,rep] = [np.nan] * 4\n",
    "                except:\n",
    "                    print('sigma1 %f sigma2 %f rep %d with true trees missing!' %(SIGMAd1, SIGMAd2, rep))\n",
    "                    mcles_trues[i,j,rep] = [np.nan] * 4\n",
    "\n",
    "                filename = inf_mcle_pattern_1epoch(datadir, rep, SIGMAd1, SIGMAd2)\n",
    "                try:\n",
    "                    file = np.load(filename, allow_pickle=True).item()\n",
    "\n",
    "                    if file.success == True:\n",
    "                        for k,m in enumerate(file.x):\n",
    "                            if m == bnds[k][0] or m == bnds[k][1]:\n",
    "                                print('sigma1 %f sigma2 %f rep %d with inferred trees hit bounds parameter %d' %(SIGMAd1, SIGMAd2, rep, k))\n",
    "        #                             file.success = False\n",
    "                    if file.success == True:     \n",
    "                        mcles_infs[i,j,rep] = file.x\n",
    "\n",
    "                    else:\n",
    "                        print('sigma1 %f sigma2 %f rep %d with inferred trees failed!' %(SIGMAd1, SIGMAd2, rep))\n",
    "                        mcles_infs[i,j,rep] = [np.nan] * 4\n",
    "                except:\n",
    "                    print('sigma1 %f sigma2 %f rep %d with inferred trees missing!' %(SIGMAd1, SIGMAd2, rep))\n",
    "                    mcles_infs[i,j,rep] = [np.nan] * 4\n",
    "\n",
    "    return mcles_trues, mcles_infs"
   ]
  },
  {
   "cell_type": "code",
   "execution_count": null,
   "metadata": {},
   "outputs": [],
   "source": [
    "mcles_trues_1epoch, mcles_infs_1epoch = get_mcles_1epoch()"
   ]
  },
  {
   "cell_type": "markdown",
   "metadata": {},
   "source": [
    "plot"
   ]
  },
  {
   "cell_type": "code",
   "execution_count": 33,
   "metadata": {
    "tags": []
   },
   "outputs": [
    {
     "name": "stdout",
     "output_type": "stream",
     "text": [
      "[0.25, 0.25]\n"
     ]
    },
    {
     "data": {
      "image/png": "[encoded data removed]",
      "text/plain": [
       "<Figure size 360x360 with 1 Axes>"
      ]
     },
     "metadata": {
      "needs_background": "light"
     },
     "output_type": "display_data"
    },
    {
     "name": "stdout",
     "output_type": "stream",
     "text": [
      "[0.5, 0.25]\n"
     ]
    },
    {
     "data": {
      "image/png": "[encoded data removed]",
      "text/plain": [
       "<Figure size 360x360 with 1 Axes>"
      ]
     },
     "metadata": {
      "needs_background": "light"
     },
     "output_type": "display_data"
    },
    {
     "name": "stdout",
     "output_type": "stream",
     "text": [
      "[0.25, 0.5]\n"
     ]
    },
    {
     "data": {
      "image/png": "[encoded data removed]",
      "text/plain": [
       "<Figure size 360x360 with 1 Axes>"
      ]
     },
     "metadata": {
      "needs_background": "light"
     },
     "output_type": "display_data"
    },
    {
     "name": "stdout",
     "output_type": "stream",
     "text": [
      "[0.5, 0.5]\n"
     ]
    },
    {
     "data": {
      "image/png": "[encoded data removed]",
      "text/plain": [
       "<Figure size 360x360 with 1 Axes>"
      ]
     },
     "metadata": {
      "needs_background": "light"
     },
     "output_type": "display_data"
    }
   ],
   "source": [
    "for i in range(2):\n",
    "    for j in range(2):\n",
    "        truths = [SIGMAd2s[j],SIGMAd1s[i]]\n",
    "        print(truths)\n",
    "        fname = plotdir + 'sim_2epoch_mcles_tsplits%s.pdf' %truths\n",
    "#         fname = None\n",
    "        corrxplot(truths, mcles_trues[i,j], mcles_infs[i,j], mcles_trues_1epoch[i,j], mcles_infs_1epoch[i,j], fname=fname)"
   ]
  },
  {
   "cell_type": "markdown",
   "metadata": {},
   "source": [
    "and compare the negative log likelihoods with true trees"
   ]
  },
  {
   "cell_type": "code",
   "execution_count": 6,
   "metadata": {},
   "outputs": [
    {
     "name": "stdout",
     "output_type": "stream",
     "text": [
      "0.25 0.25\n",
      "0.5 0.25\n",
      "0.25 0.5\n",
      "0.5 0.5\n"
     ]
    }
   ],
   "source": [
    "fun_1epoch = []\n",
    "fun_2epoch = []\n",
    "\n",
    "for i,SIGMAd1 in enumerate(SIGMAd1s):\n",
    "    for j,SIGMAd2 in enumerate(SIGMAd2s):\n",
    "        print(SIGMAd2,SIGMAd1)\n",
    "\n",
    "        fun_1epoch_rep = []\n",
    "        fun_2epoch_rep = []\n",
    "        for rep in range(NREPS):\n",
    "\n",
    "            filename = true_mcle_pattern_1epoch(datadir, rep, SIGMAd1, SIGMAd2)\n",
    "            \n",
    "            try:\n",
    "                file = np.load(filename, allow_pickle=True).item()\n",
    "\n",
    "                if file.success == True:\n",
    "                    for i,m in enumerate(file.x):\n",
    "                        if m == bnds[i][0] or m == bnds[i][1]:\n",
    "                            print('sigma1 %f sigma2 %f rep %d with true trees hit bounds parameter %d' %(SIGMAd1, SIGMAd2, rep, i))\n",
    "                            file.success = False\n",
    "                \n",
    "                if file.success == True:     \n",
    "#                     print(file.x)\n",
    "#                     print(file.fun)\n",
    "                    fun_1epoch_rep.append(file.fun)\n",
    "    \n",
    "                else:\n",
    "                    print('sigma1 %f sigma2 %f rep %d with true trees failed!' %(SIGMAd1, SIGMAd2, rep))\n",
    "            \n",
    "            except:\n",
    "                print('sigma1 %f sigma2 %f rep %d with true trees missing!' %(SIGMAd1, SIGMAd2, rep))\n",
    "                \n",
    "            filename = true_mcle_pattern(datadir, rep, SIGMAd1, SIGMAd2)\n",
    "            \n",
    "            try:\n",
    "                file = np.load(filename, allow_pickle=True).item()\n",
    "\n",
    "                if file.success == True:\n",
    "                    for i,m in enumerate(file.x):\n",
    "                        if m == bnds[i][0] or m == bnds[i][1]:\n",
    "                            print('sigma1 %f sigma2 %f rep %d with true trees hit bounds parameter %d' %(SIGMAd1, SIGMAd2, rep, i))\n",
    "                            file.success = False\n",
    "                \n",
    "                if file.success == True:     \n",
    "#                     print(file.x)\n",
    "#                     print(file.fun)\n",
    "                    fun_2epoch_rep.append(file.fun)\n",
    "    \n",
    "                else:\n",
    "                    print('sigma1 %f sigma2 %f rep %d with true trees failed!' %(SIGMAd1, SIGMAd2, rep))\n",
    "            \n",
    "            except:\n",
    "                print('sigma1 %f sigma2 %f rep %d with true trees missing!' %(SIGMAd1, SIGMAd2, rep))\n",
    "\n",
    "        fun_1epoch.append(fun_1epoch_rep)\n",
    "        fun_2epoch.append(fun_2epoch_rep)      "
   ]
  },
  {
   "cell_type": "markdown",
   "metadata": {},
   "source": [
    "and we see:"
   ]
  },
  {
   "cell_type": "code",
   "execution_count": 7,
   "metadata": {},
   "outputs": [
    {
     "name": "stdout",
     "output_type": "stream",
     "text": [
      "466.81120258382526\n",
      "2216.472905483276\n",
      "530.9600261784766\n",
      "50.208121730735364\n"
     ]
    }
   ],
   "source": [
    "for f2,f1 in zip(fun_2epoch,fun_1epoch): \n",
    "    print(np.mean([-(i - j) for i,j in zip(f2,f1)]))"
   ]
  },
  {
   "cell_type": "markdown",
   "metadata": {},
   "source": [
    "so 2 epoch always more likely, especially for [0.5,0.25] (where the 2 epoch estimates are accurate and the 1 epoch estimate falls nicely in the middle), and less so for [0.5,0.5] (where both 1 and 2 epoch models are accurate - for true trees). interesting 2 epoch is equally more likely under [0.25,0.25] (where the 2 epoch model overestimates dispersal in the ancient epoch and underestimates in the current epoch, while the 1 epoch model does quite well) and [0.25,0.5] (where the 2 epoch estimates are accurate and the 1 epoch estimate is just below 0.5). so the cause of choosing the 2 epoch in the case of [0.25,0.25] seems to be stemming from the method wanting a larger dispersal rate in the ancient epoch and a smaller one in the recent epoch."
   ]
  },
  {
   "cell_type": "markdown",
   "metadata": {},
   "source": [
    "we might also want to compare the distributions of likelihood ratio test statistics (https://en.wikipedia.org/wiki/Likelihood-ratio_test)"
   ]
  },
  {
   "cell_type": "code",
   "execution_count": 23,
   "metadata": {},
   "outputs": [
    {
     "name": "stdout",
     "output_type": "stream",
     "text": [
      "[0.25, 0.25]\n"
     ]
    },
    {
     "data": {
      "image/png": "[encoded data removed]",
      "text/plain": [
       "<Figure size 432x288 with 1 Axes>"
      ]
     },
     "metadata": {
      "needs_background": "light"
     },
     "output_type": "display_data"
    },
    {
     "name": "stdout",
     "output_type": "stream",
     "text": [
      "[0.5, 0.25]\n"
     ]
    },
    {
     "data": {
      "image/png": "[encoded data removed]",
      "text/plain": [
       "<Figure size 432x288 with 1 Axes>"
      ]
     },
     "metadata": {
      "needs_background": "light"
     },
     "output_type": "display_data"
    },
    {
     "name": "stdout",
     "output_type": "stream",
     "text": [
      "[0.25, 0.5]\n"
     ]
    },
    {
     "data": {
      "image/png": "[encoded data removed]",
      "text/plain": [
       "<Figure size 432x288 with 1 Axes>"
      ]
     },
     "metadata": {
      "needs_background": "light"
     },
     "output_type": "display_data"
    },
    {
     "name": "stdout",
     "output_type": "stream",
     "text": [
      "[0.5, 0.5]\n"
     ]
    },
    {
     "data": {
      "image/png": "[encoded data removed]",
      "text/plain": [
       "<Figure size 432x288 with 1 Axes>"
      ]
     },
     "metadata": {
      "needs_background": "light"
     },
     "output_type": "display_data"
    }
   ],
   "source": [
    "sigmas = [[0.25, 0.25],[0.5, 0.25],[0.25, 0.5],[0.5, 0.5]]\n",
    "for i,(f1,f2) in enumerate(zip(fun_1epoch,fun_2epoch)):\n",
    "    print(sigmas[i])\n",
    "    \n",
    "    plt.hist([-2*(-i + j) for i,j in zip(f1,f2)])\n",
    "\n",
    "    plt.xlabel('likelihood ratio test statistic')\n",
    "    plt.ylabel('number of simulations')\n",
    "    plt.xlim(xmin=0, xmax=6000)\n",
    "    plt.ylim(ymax=5)\n",
    "    plt.show()"
   ]
  },
  {
   "cell_type": "markdown",
   "metadata": {},
   "source": [
    "no for the inferred trees"
   ]
  },
  {
   "cell_type": "code",
   "execution_count": 47,
   "metadata": {},
   "outputs": [
    {
     "name": "stdout",
     "output_type": "stream",
     "text": [
      "0.25 0.25\n",
      "0.5 0.25\n",
      "0.25 0.5\n",
      "0.5 0.5\n"
     ]
    }
   ],
   "source": [
    "fun_1epoch = []\n",
    "fun_2epoch = []\n",
    "\n",
    "for i,SIGMAd1 in enumerate(SIGMAd1s):\n",
    "    for j,SIGMAd2 in enumerate(SIGMAd2s):\n",
    "        print(SIGMAd2,SIGMAd1)\n",
    "\n",
    "        fun_1epoch_rep = []\n",
    "        fun_2epoch_rep = []\n",
    "        for rep in range(NREPS):\n",
    "\n",
    "            filename = inf_mcle_pattern_1epoch(datadir, rep, SIGMAd1, SIGMAd2)\n",
    "            \n",
    "            try:\n",
    "                file = np.load(filename, allow_pickle=True).item()\n",
    "\n",
    "                if file.success == True:\n",
    "                    for i,m in enumerate(file.x):\n",
    "                        if m == bnds[i][0] or m == bnds[i][1]:\n",
    "                            print('sigma1 %f sigma2 %f rep %d with true trees hit bounds parameter %d' %(SIGMAd1, SIGMAd2, rep, i))\n",
    "                            file.success = False\n",
    "                \n",
    "                if file.success == True:     \n",
    "#                     print(file.x)\n",
    "#                     print(file.fun)\n",
    "                    fun_1epoch_rep.append(file.fun)\n",
    "    \n",
    "                else:\n",
    "                    print('sigma1 %f sigma2 %f rep %d with true trees failed!' %(SIGMAd1, SIGMAd2, rep))\n",
    "            \n",
    "            except:\n",
    "                print('sigma1 %f sigma2 %f rep %d with true trees missing!' %(SIGMAd1, SIGMAd2, rep))\n",
    "                \n",
    "            filename = inf_mcle_pattern(datadir, rep, SIGMAd1, SIGMAd2)\n",
    "            \n",
    "            try:\n",
    "                file = np.load(filename, allow_pickle=True).item()\n",
    "\n",
    "                if file.success == True:\n",
    "                    for i,m in enumerate(file.x):\n",
    "                        if m == bnds[i][0] or m == bnds[i][1]:\n",
    "                            print('sigma1 %f sigma2 %f rep %d with true trees hit bounds parameter %d' %(SIGMAd1, SIGMAd2, rep, i))\n",
    "                            file.success = False\n",
    "                \n",
    "                if file.success == True:     \n",
    "#                     print(file.x)\n",
    "#                     print(file.fun)\n",
    "                    fun_2epoch_rep.append(file.fun)\n",
    "    \n",
    "                else:\n",
    "                    print('sigma1 %f sigma2 %f rep %d with true trees failed!' %(SIGMAd1, SIGMAd2, rep))\n",
    "            \n",
    "            except:\n",
    "                print('sigma1 %f sigma2 %f rep %d with true trees missing!' %(SIGMAd1, SIGMAd2, rep))\n",
    "\n",
    "        fun_1epoch.append(fun_1epoch_rep)\n",
    "        fun_2epoch.append(fun_2epoch_rep)      "
   ]
  },
  {
   "cell_type": "markdown",
   "metadata": {},
   "source": [
    "and we see:"
   ]
  },
  {
   "cell_type": "code",
   "execution_count": 48,
   "metadata": {},
   "outputs": [
    {
     "name": "stdout",
     "output_type": "stream",
     "text": [
      "220.61391006794057\n",
      "432.1922753677085\n",
      "727.5916796192541\n",
      "258.53018372931365\n"
     ]
    }
   ],
   "source": [
    "for f2,f1 in zip(fun_2epoch,fun_1epoch): \n",
    "    print(np.mean([-(i - j) for i,j in zip(f2,f1)]))"
   ]
  },
  {
   "cell_type": "markdown",
   "metadata": {},
   "source": [
    "interesting, with the inferred trees we do see larger support for the 2 epoch model under 2 epoch simulations than we do under 1 epoch simulations, which is nice to see! (although the 2 epoch model is always significantly better under a chi square with 3 degrees of freedom)"
   ]
  },
  {
   "cell_type": "code",
   "execution_count": null,
   "metadata": {},
   "outputs": [],
   "source": []
  }
 ],
 "metadata": {
  "kernelspec": {
   "display_name": "Python 3",
   "language": "python",
   "name": "python3"
  },
  "language_info": {
   "codemirror_mode": {
    "name": "ipython",
    "version": 3
   },
   "file_extension": ".py",
   "mimetype": "text/x-python",
   "name": "python",
   "nbconvert_exporter": "python",
   "pygments_lexer": "ipython3",
   "version": "3.9.1"
  }
 },
 "nbformat": 4,
 "nbformat_minor": 4
}
