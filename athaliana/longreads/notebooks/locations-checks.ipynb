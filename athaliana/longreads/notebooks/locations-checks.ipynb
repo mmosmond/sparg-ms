{
 "cells": [
  {
   "cell_type": "code",
   "execution_count": 221,
   "metadata": {},
   "outputs": [],
   "source": [
    "import numpy as np\n",
    "import matplotlib.pyplot as plt\n",
    "import math\n",
    "import scipy.sparse as sp\n",
    "from scipy.optimize import minimize\n",
    "import time\n",
    "from tqdm import tqdm\n",
    "import plotly.express as px\n",
    "import plotly.graph_objects as go"
   ]
  },
  {
   "cell_type": "markdown",
   "metadata": {},
   "source": [
    "load some shared times (here just a single locus)"
   ]
  },
  {
   "cell_type": "code",
   "execution_count": 188,
   "metadata": {},
   "outputs": [],
   "source": [
    "fname = '../data/T2T_Athaliana_66.Chr1.nomissing.nohet.justSNPs_haploid_polarized_masked_100000Ne_7e-9m_popsize_10numiter_0.5threshold_9966877-9969401bps_1000nsamples_sts.npy'\n",
    "stss = np.load(fname)"
   ]
  },
  {
   "cell_type": "markdown",
   "metadata": {},
   "source": [
    "load locations"
   ]
  },
  {
   "cell_type": "code",
   "execution_count": 3,
   "metadata": {},
   "outputs": [],
   "source": [
    "locations = np.load('../data/T2T_Athaliana_66.Chr1.nomissing.nohet.justSNPs_haploid_locations.npy')\n",
    "n = len(locations) #number of samples\n",
    "Tmat = np.identity(n) - [[1/n for _ in range(n)] for _ in range(n)]; Tmat = Tmat[:-1] #mean centering matrix\n",
    "locations_centered = np.matmul(Tmat, locations)"
   ]
  },
  {
   "cell_type": "markdown",
   "metadata": {},
   "source": [
    "some useful functions"
   ]
  },
  {
   "cell_type": "code",
   "execution_count": 4,
   "metadata": {},
   "outputs": [],
   "source": [
    "def _anc_times(shared_times, ancestor_time, sample):\n",
    "    \n",
    "    taa = shared_times[0,0] - ancestor_time #shared time of ancestor with itself \n",
    "\n",
    "    anc_times = [] \n",
    "    for t in shared_times[sample]:\n",
    "        anc_times.append(min(t, taa)) # shared times between ancestor and each sample lineage\n",
    "\n",
    "    anc_times.append(taa) #add shared time with itself\n",
    "        \n",
    "    return np.array(anc_times)"
   ]
  },
  {
   "cell_type": "code",
   "execution_count": 19,
   "metadata": {},
   "outputs": [],
   "source": [
    "def _log_birth_density(branching_times, phi, n, condition_on_n=True):\n",
    "    \"\"\"\n",
    "    Log probability of branching times given Yule process with branching rate phi.\n",
    "    \"\"\"\n",
    "\n",
    "    T = branching_times[-1] #storing total time as last entry for convenience\n",
    "    n0 = n - (len(branching_times) - 1) #initial number of lineages (number of samples minus number of coalescence events)\n",
    "\n",
    "    logp = 0 #initialize log probability\n",
    "    prevt = 0 #initialize time\n",
    "    k = n0 #initialize number of lineages\n",
    "    # probability of each branching time\n",
    "    for t in branching_times[:-1]: #for each branching time t\n",
    "        logp += np.log(k * phi) - k * phi *  (t - prevt) #log probability of waiting time t-prevt with k lineages\n",
    "        prevt = t #update time\n",
    "        k += 1 #update number of lineages\n",
    "\n",
    "    # probability of no branching from most recent branching to T\n",
    "    logp += - k * phi * (T - prevt)\n",
    "\n",
    "    # condition on having n samples from n0 in time T\n",
    "    if condition_on_n:\n",
    "        logp -= np.log(math.comb(k - 1, k - n0) * (1 - np.exp(-phi * T))**(k - n0)) - phi * n0 * T # see page 234 of https://www.pitt.edu/~super7/19011-20001/19531.pdf for two different expressions\n",
    "\n",
    "    return logp"
   ]
  },
  {
   "cell_type": "code",
   "execution_count": 5,
   "metadata": {},
   "outputs": [],
   "source": [
    "def _lognormpdf(x, mu, S):\n",
    "\n",
    "    \"\"\"\n",
    "    Calculate log probability density of x, when x ~ N(mu,S)\n",
    "    \"\"\"\n",
    "\n",
    "    norm_coeff = np.linalg.slogdet(S)[1] #just care about relative likelihood so drop the constant\n",
    "\n",
    "    # term in exponential (times -2)\n",
    "    err = x - mu #difference between mean and data\n",
    "    if sp.issparse(S):\n",
    "        numerator = spln.spsolve(S, err).T.dot(err) #use faster sparse methods if possible\n",
    "    else:\n",
    "        numerator = np.linalg.solve(S, err).T.dot(err) #just a fancy way of calculating err.T * S^-1  * err\n",
    "\n",
    "    return -0.5 * (norm_coeff + numerator) #add the two terms together and multiply by -1/2"
   ]
  },
  {
   "cell_type": "code",
   "execution_count": 43,
   "metadata": {},
   "outputs": [],
   "source": [
    "def _logsumexp(a):\n",
    "    \"\"\"\n",
    "    Take the log of a sum of exponentials without losing information.\n",
    "    \"\"\"\n",
    "\n",
    "    a_max = np.max(a) #max element in list a\n",
    "    tmp = np.exp(a - a_max) #now subtract off the max from each a before taking exponential (ie divide sum of exponentials by exp(a_max))\n",
    "    s = np.sum(tmp) #and sum those up\n",
    "    out = np.log(s) #and take log\n",
    "    out += a_max  #and then add max element back on (ie multiply sum by exp(a_max), ie add log(exp(a_max)) to logged sum)\n",
    "\n",
    "    return out"
   ]
  },
  {
   "cell_type": "code",
   "execution_count": 7,
   "metadata": {},
   "outputs": [],
   "source": [
    "def chop_shared_times(shared_times, tCutoff=None):\n",
    "\n",
    "    k = len(shared_times) #total number of samples\n",
    "    samples = np.arange(k) #list of samples (assumes the shared times are ordered already)\n",
    "\n",
    "    # if we don't need to cut then just return a single matrix and associated samples\n",
    "    T = shared_times[0,0] #tmrca\n",
    "\n",
    "    if tCutoff is None or tCutoff>T:\n",
    "        return [shared_times], [samples]\n",
    "\n",
    "    # if we do have to cut\n",
    "    shared_times_sinceT = tCutoff - (T-shared_times) #calculate shared time since tCutoff\n",
    "\n",
    "    # and now the harder part of grouping times and samples for each subtree \n",
    "    sts = [] #list of shared times matrices for each subtree\n",
    "    smpls = [] #list of samples in each subtree\n",
    "    taken = [False for _ in range(k)] #keep track of which samples already in a subtree\n",
    "    while sum(taken) < k: #while some samples not yet in a subtree\n",
    "        i = np.argmax(taken == False) #choose next sample, i, not yet in a subtree\n",
    "        withi = shared_times_sinceT[i] >= 0 #samples which share time with i\n",
    "        taken = np.array([i[0] or i[1] for i in zip(taken, withi)]) #update which samples taken\n",
    "        stsi = shared_times_sinceT[withi][:, withi] #shared times of subtree with i\n",
    "        smplsi = samples[np.where(withi)[0]] #samples in this subtree\n",
    "        sts.append(stsi)\n",
    "        smpls.append(smplsi)\n",
    "\n",
    "    return sts, smpls"
   ]
  },
  {
   "cell_type": "code",
   "execution_count": 9,
   "metadata": {},
   "outputs": [],
   "source": [
    "def _get_focal_index(focal_node, listoflists):\n",
    "\n",
    "    \"\"\"\n",
    "    get the subtree and index within that subtree for focal_node (listoflists here is list of samples for each subtree)\n",
    "    \"\"\"\n",
    "\n",
    "    for i,j in enumerate(listoflists):\n",
    "        if focal_node in j:\n",
    "            n = i\n",
    "            for k,l in enumerate(j):\n",
    "                if focal_node == l:\n",
    "                    m = k\n",
    "    return n,m"
   ]
  },
  {
   "cell_type": "markdown",
   "metadata": {},
   "source": [
    "mle dispersal rate and branching rate"
   ]
  },
  {
   "cell_type": "code",
   "execution_count": 339,
   "metadata": {},
   "outputs": [],
   "source": [
    "Ne = 1e5 #prior Ne\n",
    "m = '7e-9' #prior mutation rate\n",
    "numiter = 10 #number of MCMC iterations in estimating Ne\n",
    "threshold = 0.5 #fraction of trees to drop when estimating Ne\n",
    "nsamples = 1000 #number of trees per locus\n",
    "fname = '../data/T2T_Athaliana_66.nomissing.nohet.justSNPs_haploid_polarized_masked_%dNe_%sm_popsize_%dnumiter_%.1fthreshold'\n",
    "fname = fname %(Ne, m, numiter, threshold) + '_1000nsamples_%stCutoff_mle-dispersal.npy'\n",
    "mle = np.load(fname %'None', allow_pickle=True)\n",
    "sigma = np.array([[mle[0]**2, mle[2]*mle[0]*mle[1]], [mle[2]*mle[0]*mle[1], mle[1]**2]]) #mle dispersal rate\n",
    "phi = mle[-1] #branching rate"
   ]
  },
  {
   "cell_type": "markdown",
   "metadata": {},
   "source": [
    "## one tree"
   ]
  },
  {
   "cell_type": "markdown",
   "metadata": {},
   "source": [
    "choose a single tree and invert the shared time matrix"
   ]
  },
  {
   "cell_type": "code",
   "execution_count": 7,
   "metadata": {},
   "outputs": [],
   "source": [
    "shared_times = stss[0]\n",
    "shared_times_inverted = np.linalg.pinv(shared_times)"
   ]
  },
  {
   "cell_type": "markdown",
   "metadata": {},
   "source": [
    "and calculate mle mrca location"
   ]
  },
  {
   "cell_type": "code",
   "execution_count": 8,
   "metadata": {},
   "outputs": [
    {
     "data": {
      "text/plain": [
       "array([-0.45360104, 39.50508029])"
      ]
     },
     "execution_count": 8,
     "metadata": {},
     "output_type": "execute_result"
    }
   ],
   "source": [
    "numer = np.matmul(np.matmul(np.ones(n),shared_times_inverted),locations)\n",
    "denom = np.matmul(np.matmul(np.ones(n),shared_times_inverted),np.ones(n).transpose())\n",
    "mrca_loc = numer/denom\n",
    "mrca_loc"
   ]
  },
  {
   "cell_type": "markdown",
   "metadata": {},
   "source": [
    "note that the first sample is located at "
   ]
  },
  {
   "cell_type": "code",
   "execution_count": 9,
   "metadata": {},
   "outputs": [
    {
     "data": {
      "text/plain": [
       "array([13.5603, 55.9419])"
      ]
     },
     "execution_count": 9,
     "metadata": {},
     "output_type": "execute_result"
    }
   ],
   "source": [
    "sample = 0\n",
    "locations[sample]"
   ]
  },
  {
   "cell_type": "markdown",
   "metadata": {},
   "source": [
    "if we take the ancestor time to be zero the ancestor should be located at the sample"
   ]
  },
  {
   "cell_type": "code",
   "execution_count": 10,
   "metadata": {},
   "outputs": [],
   "source": [
    "ancestor_time = 0 #generations ago\n",
    "anc_times = _anc_times(shared_times, ancestor_time, sample)"
   ]
  },
  {
   "cell_type": "code",
   "execution_count": 11,
   "metadata": {},
   "outputs": [
    {
     "data": {
      "text/plain": [
       "array([13.5603, 55.9419])"
      ]
     },
     "execution_count": 11,
     "metadata": {},
     "output_type": "execute_result"
    }
   ],
   "source": [
    "mrca_loc + np.matmul(np.matmul(anc_times[:-1], shared_times_inverted), locations-mrca_loc)"
   ]
  },
  {
   "cell_type": "markdown",
   "metadata": {},
   "source": [
    "if we take the time to be the tmrca the ancestor should be located at the mrca"
   ]
  },
  {
   "cell_type": "code",
   "execution_count": 12,
   "metadata": {},
   "outputs": [],
   "source": [
    "ancestor_time = shared_times[0,0]\n",
    "anc_times = _anc_times(shared_times, ancestor_time, sample)"
   ]
  },
  {
   "cell_type": "code",
   "execution_count": 13,
   "metadata": {},
   "outputs": [
    {
     "data": {
      "text/plain": [
       "array([-0.45360104, 39.50508029])"
      ]
     },
     "execution_count": 13,
     "metadata": {},
     "output_type": "execute_result"
    }
   ],
   "source": [
    "mrca_loc + np.matmul(np.matmul(anc_times[:-1], shared_times_inverted), locations-mrca_loc) "
   ]
  },
  {
   "cell_type": "markdown",
   "metadata": {},
   "source": [
    "and we can plot in between"
   ]
  },
  {
   "cell_type": "code",
   "execution_count": 14,
   "metadata": {},
   "outputs": [],
   "source": [
    "times = np.logspace(np.log10(1),np.log10(shared_times[0,0]),100)\n",
    "anc_locs = []\n",
    "for ancestor_time in times:\n",
    "    anc_times = _anc_times(shared_times, ancestor_time, sample)\n",
    "    anc_loc = mrca_loc + np.matmul(np.matmul(anc_times[:-1], shared_times_inverted), locations-mrca_loc) \n",
    "    anc_locs.append(anc_loc)\n",
    "anc_locs = np.array(anc_locs)"
   ]
  },
  {
   "cell_type": "code",
   "execution_count": 15,
   "metadata": {},
   "outputs": [
    {
     "data": {
      "image/png": "[encoded data removed]",
      "text/plain": [
       "<Figure size 432x288 with 1 Axes>"
      ]
     },
     "metadata": {
      "needs_background": "light"
     },
     "output_type": "display_data"
    },
    {
     "data": {
      "image/png": "[encoded data removed]",
      "text/plain": [
       "<Figure size 432x288 with 1 Axes>"
      ]
     },
     "metadata": {
      "needs_background": "light"
     },
     "output_type": "display_data"
    },
    {
     "data": {
      "image/png": "[encoded data removed]",
      "text/plain": [
       "<Figure size 432x288 with 1 Axes>"
      ]
     },
     "metadata": {
      "needs_background": "light"
     },
     "output_type": "display_data"
    }
   ],
   "source": [
    "plt.plot(times, anc_locs[:,0],'o-',c='k',alpha=0.5,zorder=0)\n",
    "plt.scatter(times[0],locations[sample,0],label='sample')\n",
    "plt.scatter(times[-1],mrca_loc[0],label='mrca')\n",
    "plt.xlabel('generations ago')\n",
    "plt.ylabel('longitude')\n",
    "plt.legend()\n",
    "plt.xscale('log')\n",
    "plt.show()\n",
    "\n",
    "plt.plot(times, anc_locs[:,1],'o-',c='k',alpha=0.5,zorder=0)\n",
    "plt.scatter(times[0],locations[sample,1],label='sample')\n",
    "plt.scatter(times[-1],mrca_loc[1],label='mrca')\n",
    "plt.xlabel('generations ago')\n",
    "plt.ylabel('latitude')\n",
    "plt.legend()\n",
    "plt.xscale('log')\n",
    "plt.show()\n",
    "\n",
    "plt.plot(anc_locs[:,0],anc_locs[:,1],'o-',c='k',alpha=0.5,zorder=0)\n",
    "plt.scatter(locations[sample,0],locations[sample,1],label='sample')\n",
    "plt.scatter(mrca_loc[0],mrca_loc[1],label='mrca')\n",
    "plt.xlabel('longitude')\n",
    "plt.ylabel('latitude')\n",
    "plt.legend()\n",
    "plt.show()"
   ]
  },
  {
   "cell_type": "markdown",
   "metadata": {},
   "source": [
    "we can also calculate the variance in the ancestors location"
   ]
  },
  {
   "cell_type": "code",
   "execution_count": 16,
   "metadata": {},
   "outputs": [
    {
     "data": {
      "text/plain": [
       "-1.1420343071222305e-07"
      ]
     },
     "execution_count": 16,
     "metadata": {},
     "output_type": "execute_result"
    }
   ],
   "source": [
    "ancestor_time = 0 #generations ago\n",
    "anc_times = _anc_times(shared_times, ancestor_time, sample)\n",
    "anc_times[-1] - np.matmul(np.matmul(anc_times[:-1], shared_times_inverted), anc_times[:-1].transpose()) "
   ]
  },
  {
   "cell_type": "code",
   "execution_count": 17,
   "metadata": {},
   "outputs": [
    {
     "data": {
      "text/plain": [
       "0.0"
      ]
     },
     "execution_count": 17,
     "metadata": {},
     "output_type": "execute_result"
    }
   ],
   "source": [
    "ancestor_time = shared_times[0,0] #generations ago\n",
    "anc_times = _anc_times(shared_times, ancestor_time, sample)\n",
    "anc_times[-1] - np.matmul(np.matmul(anc_times[:-1], shared_times_inverted), anc_times[:-1].transpose()) "
   ]
  },
  {
   "cell_type": "markdown",
   "metadata": {},
   "source": [
    "but this is clearly wrong, as we get no variance at the root. this is because this method assumes the root is known with certainty. we therefore need to either add the variance in the root, or mean center."
   ]
  },
  {
   "cell_type": "markdown",
   "metadata": {},
   "source": [
    "first try mean centering"
   ]
  },
  {
   "cell_type": "code",
   "execution_count": 18,
   "metadata": {},
   "outputs": [],
   "source": [
    "shared_times_centered = np.matmul(Tmat, np.matmul(shared_times, np.transpose(Tmat))) #mean centered covariance of samples\n",
    "shared_times_centered_inverted = np.linalg.pinv(shared_times_centered)"
   ]
  },
  {
   "cell_type": "code",
   "execution_count": 19,
   "metadata": {},
   "outputs": [],
   "source": [
    "ancestor_time = 1e4 #generations ago\n",
    "anc_times = _anc_times(shared_times, ancestor_time, sample)\n",
    "# anc_times_centered = np.matmul(Tmat, anc_times[:-1]) - np.matmul( np.matmul(Tmat, shared_times), np.ones(n).reshape(-1,1))/n\n",
    "# anc_times_centered = np.matmul(Tmat, (anc_times[:-1].reshape(-1,1) - np.matmul(shared_times, np.ones(n).reshape(-1,1))/n))\n",
    "anc_times_centered = np.matmul(Tmat, (anc_times[:-1] - np.mean(shared_times, axis=1)))"
   ]
  },
  {
   "cell_type": "code",
   "execution_count": 20,
   "metadata": {},
   "outputs": [],
   "source": [
    "# alltimes = np.zeros((n+1,n+1))\n",
    "# alltimes[0,0] = anc_times[-1] #element in first row and column\n",
    "# alltimes[0,1:] = anc_times[:-1] #remainder of first row\n",
    "# alltimes[1:,0] = anc_times[:-1] #remainder of first column\n",
    "# alltimes[1:,1:] = shared_times #remainder of matrix\n",
    "\n",
    "# x = np.array([[1] + [-1/n] * n]) #vector to mean center ancestors variance\n",
    "# taa_centered = np.matmul(np.matmul(x, alltimes), x.transpose())\n",
    "\n",
    "taa_centered = anc_times[-1] - 2*np.mean(anc_times[:-1]) + np.mean(shared_times)"
   ]
  },
  {
   "cell_type": "markdown",
   "metadata": {},
   "source": [
    "and then get mle ancestor location"
   ]
  },
  {
   "cell_type": "code",
   "execution_count": 21,
   "metadata": {},
   "outputs": [
    {
     "data": {
      "text/plain": [
       "array([ 2.47784505, 44.35100514])"
      ]
     },
     "execution_count": 21,
     "metadata": {},
     "output_type": "execute_result"
    }
   ],
   "source": [
    "np.mean(locations, axis=0) + np.matmul(np.matmul(anc_times_centered.transpose(), shared_times_centered_inverted), locations_centered)"
   ]
  },
  {
   "cell_type": "markdown",
   "metadata": {},
   "source": [
    "and the proper variance"
   ]
  },
  {
   "cell_type": "code",
   "execution_count": 22,
   "metadata": {},
   "outputs": [
    {
     "data": {
      "text/plain": [
       "array([[31.26130111, 13.58493731],\n",
       "       [13.58493731, 23.93452044]])"
      ]
     },
     "execution_count": 22,
     "metadata": {},
     "output_type": "execute_result"
    }
   ],
   "source": [
    "(taa_centered - np.matmul(np.matmul(anc_times_centered.transpose(), shared_times_centered_inverted), anc_times_centered)) * sigma"
   ]
  },
  {
   "cell_type": "markdown",
   "metadata": {},
   "source": [
    "evaluate for a number of times"
   ]
  },
  {
   "cell_type": "code",
   "execution_count": 23,
   "metadata": {},
   "outputs": [],
   "source": [
    "times = np.logspace(np.log10(1),np.log10(shared_times[0,0]),100)\n",
    "anc_locs = []\n",
    "anc_vars = []\n",
    "for ancestor_time in times:\n",
    "    anc_times = _anc_times(shared_times, ancestor_time, sample)\n",
    "    anc_times_centered = np.matmul(Tmat, (anc_times[:-1].reshape(-1,1) - np.matmul(shared_times, np.ones(n).reshape(-1,1))/n))\n",
    "    alltimes = np.zeros((n+1,n+1))\n",
    "    alltimes[0,0] = anc_times[-1] #element in first row and column\n",
    "    alltimes[0,1:] = anc_times[:-1] #remainder of first row\n",
    "    alltimes[1:,0] = anc_times[:-1] #remainder of first column\n",
    "    alltimes[1:,1:] = shared_times #remainder of matrix\n",
    "    x = np.array([[1] + [-1/n] * n]) #vector to mean center ancestors variance\n",
    "    taa_centered = np.matmul(np.matmul(x, alltimes), x.transpose())\n",
    "    anc_loc = np.mean(locations, axis=0) + np.matmul(np.matmul(anc_times_centered.transpose(), shared_times_centered_inverted), locations_centered)\n",
    "    anc_locs.append(anc_loc[0])\n",
    "    anc_var = (taa_centered - np.matmul(np.matmul(anc_times_centered.transpose(), shared_times_centered_inverted), anc_times_centered)) * sigma\n",
    "    anc_vars.append(anc_var)\n",
    "anc_locs = np.array(anc_locs)\n",
    "anc_vars = np.array(anc_vars)"
   ]
  },
  {
   "cell_type": "code",
   "execution_count": 24,
   "metadata": {},
   "outputs": [
    {
     "data": {
      "image/png": "[encoded data removed]",
      "text/plain": [
       "<Figure size 432x288 with 1 Axes>"
      ]
     },
     "metadata": {
      "needs_background": "light"
     },
     "output_type": "display_data"
    },
    {
     "data": {
      "image/png": "[encoded data removed]",
      "text/plain": [
       "<Figure size 432x288 with 1 Axes>"
      ]
     },
     "metadata": {
      "needs_background": "light"
     },
     "output_type": "display_data"
    }
   ],
   "source": [
    "plt.plot(times, anc_locs[:,0],'o-',c='k',alpha=0.5,zorder=0)\n",
    "plt.scatter(times[0],locations[sample,0],label='sample')\n",
    "plt.scatter(times[-1],mrca_loc[0],label='mrca')\n",
    "plt.xlabel('generations ago')\n",
    "plt.ylabel('longitude')\n",
    "plt.legend()\n",
    "plt.xscale('log')\n",
    "plt.show()\n",
    "\n",
    "plt.plot(times, anc_vars[:,0,0]**0.5,'o-',c='k',alpha=0.5,zorder=0)\n",
    "# plt.scatter(times[0],locations[sample,0],label='sample')\n",
    "# plt.scatter(times[-1],mrca_loc[0],label='mrca')\n",
    "plt.xlabel('generations ago')\n",
    "plt.ylabel('standard deviation (degrees)')\n",
    "# plt.legend()\n",
    "plt.xscale('log')\n",
    "plt.show()"
   ]
  },
  {
   "cell_type": "markdown",
   "metadata": {},
   "source": [
    "now that we have the mean and variance of ancestor location, we have its likelihood. the next steps are 1) to average the mles over trees (BLUP) and 2) to find the average distribution over trees, weighted by importance, then numerically find the mle."
   ]
  },
  {
   "cell_type": "markdown",
   "metadata": {},
   "source": [
    "## multiple trees - BLUP"
   ]
  },
  {
   "cell_type": "markdown",
   "metadata": {},
   "source": [
    "first prep our shared times (not we already have the centered-inverses on file from the dispersal rate search)"
   ]
  },
  {
   "cell_type": "code",
   "execution_count": 61,
   "metadata": {},
   "outputs": [],
   "source": [
    "M = 10\n",
    "shared_times = stss[:M]"
   ]
  },
  {
   "cell_type": "code",
   "execution_count": 62,
   "metadata": {},
   "outputs": [],
   "source": [
    "shared_times_centered_inverted = []\n",
    "for st in shared_times:\n",
    "    stc = np.matmul(Tmat, np.matmul(st, np.transpose(Tmat))) #mean centered covariance of samples\n",
    "    stci = np.linalg.pinv(stc)\n",
    "    shared_times_centered_inverted.append(stci)\n",
    "shared_times_centered_inverted = np.array(shared_times_centered_inverted)"
   ]
  },
  {
   "cell_type": "markdown",
   "metadata": {},
   "source": [
    "then get centered ancestor times"
   ]
  },
  {
   "cell_type": "code",
   "execution_count": 63,
   "metadata": {},
   "outputs": [],
   "source": [
    "ancestor_time = 1e4\n",
    "sample = 0\n",
    "\n",
    "anc_times_centered = []\n",
    "taa_centered = []\n",
    "for st in shared_times:\n",
    "    at = _anc_times(st, ancestor_time, sample)\n",
    "    atc = np.matmul(Tmat, (at[:-1] - np.mean(st, axis=1)))\n",
    "    anc_times_centered.append(atc)\n",
    "    taac = at[-1] - 2*np.mean(at[:-1]) + np.mean(st)\n",
    "    taa_centered.append(taac)\n",
    "anc_times_centered = np.array(anc_times_centered)\n",
    "taa_centered = np.array(taa_centered)"
   ]
  },
  {
   "cell_type": "markdown",
   "metadata": {},
   "source": [
    "and mle and var in ancestor locations for each tree"
   ]
  },
  {
   "cell_type": "code",
   "execution_count": 64,
   "metadata": {},
   "outputs": [],
   "source": [
    "mle_locs = []\n",
    "var_locs = []\n",
    "\n",
    "for stci, atc, taac in zip(shared_times_centered_inverted, anc_times_centered, taa_centered):\n",
    "\n",
    "    mle_loc = np.mean(locations, axis=0) + np.matmul(np.matmul(atc.transpose(), stci), locations_centered)\n",
    "    mle_locs.append(mle_loc)\n",
    "    \n",
    "    var_loc = (taac - np.matmul(np.matmul(atc.transpose(), stci), atc)) * sigma\n",
    "    var_locs.append(var_loc)\n",
    "    \n",
    "mle_locs = np.array(mle_locs)\n",
    "var_locs = np.array(var_locs)"
   ]
  },
  {
   "cell_type": "markdown",
   "metadata": {},
   "source": [
    "we could take a simple average"
   ]
  },
  {
   "cell_type": "code",
   "execution_count": 65,
   "metadata": {},
   "outputs": [
    {
     "data": {
      "text/plain": [
       "array([ 3.05971262, 45.01008758])"
      ]
     },
     "execution_count": 65,
     "metadata": {},
     "output_type": "execute_result"
    }
   ],
   "source": [
    "np.mean(mle_locs, axis=0)"
   ]
  },
  {
   "cell_type": "markdown",
   "metadata": {},
   "source": [
    "or weight by inverse variance (\"precision-weighted\")"
   ]
  },
  {
   "cell_type": "code",
   "execution_count": 66,
   "metadata": {},
   "outputs": [
    {
     "data": {
      "text/plain": [
       "array([ 3.01185376, 44.96296875])"
      ]
     },
     "execution_count": 66,
     "metadata": {},
     "output_type": "execute_result"
    }
   ],
   "source": [
    "sumCinv = 0\n",
    "sumCinvx = np.zeros(2)\n",
    "for mle_loc, var_loc in zip(mle_locs, var_locs):\n",
    "    Cinv = np.linalg.inv(var_loc)\n",
    "    sumCinv += Cinv\n",
    "    sumCinvx += np.matmul(Cinv, mle_loc)  \n",
    "np.matmul(np.linalg.inv(sumCinv), sumCinvx)"
   ]
  },
  {
   "cell_type": "markdown",
   "metadata": {},
   "source": [
    "better-yet, we should weight by importance weights"
   ]
  },
  {
   "cell_type": "code",
   "execution_count": 67,
   "metadata": {},
   "outputs": [],
   "source": [
    "fname = '../data/T2T_Athaliana_66.Chr1.nomissing.nohet.justSNPs_haploid_polarized_masked_100000Ne_7e-9m_popsize_10numiter_0.5threshold_9966877-9969401bps_1000nsamples_cts_NonetCutoff_lpcs.npy'\n",
    "lpcs = np.load(fname, allow_pickle=True).astype(float)"
   ]
  },
  {
   "cell_type": "code",
   "execution_count": 68,
   "metadata": {},
   "outputs": [],
   "source": [
    "fname = '../data/T2T_Athaliana_66.Chr1.nomissing.nohet.justSNPs_haploid_polarized_masked_100000Ne_7e-9m_popsize_10numiter_0.5threshold_9966877-9969401bps_1000nsamples_cts_NonetCutoff_bts.npy'\n",
    "btss = np.load(fname, allow_pickle=True).astype(float)"
   ]
  },
  {
   "cell_type": "code",
   "execution_count": 70,
   "metadata": {},
   "outputs": [],
   "source": [
    "lbds = [_log_birth_density(bts, phi, n) for bts in btss]"
   ]
  },
  {
   "cell_type": "code",
   "execution_count": 71,
   "metadata": {},
   "outputs": [
    {
     "data": {
      "text/plain": [
       "array([ 2.8112437 , 44.73316141])"
      ]
     },
     "execution_count": 71,
     "metadata": {},
     "output_type": "execute_result"
    }
   ],
   "source": [
    "numer = np.sum([mle_loc * np.exp(lbd - lpc) for mle_loc,lpc,lbd in zip(mle_locs, lpcs[:M], lbds[:M])], axis=0)\n",
    "denom = np.sum([np.exp(lbd - lpc) for lpc,lbd in zip(lpcs[:M], lbds[:M])])\n",
    "numer/denom"
   ]
  },
  {
   "cell_type": "markdown",
   "metadata": {},
   "source": [
    "## multiple trees -- numerical mle"
   ]
  },
  {
   "cell_type": "markdown",
   "metadata": {},
   "source": [
    "now we search for the true mle"
   ]
  },
  {
   "cell_type": "code",
   "execution_count": 39,
   "metadata": {},
   "outputs": [],
   "source": [
    "fs = []\n",
    "\n",
    "for mle_loc, var_loc in zip(mle_locs, var_locs):\n",
    "\n",
    "    fs.append(lambda x: _lognormpdf(x, mle_loc, var_loc))"
   ]
  },
  {
   "cell_type": "code",
   "execution_count": 41,
   "metadata": {},
   "outputs": [],
   "source": [
    "def g(x):\n",
    "    return -_logsumexp([f(x) for f in fs])"
   ]
  },
  {
   "cell_type": "code",
   "execution_count": 43,
   "metadata": {},
   "outputs": [
    {
     "data": {
      "text/plain": [
       "      fun: 0.6451690165771624\n",
       " hess_inv: array([[24.67090628, 10.98910892],\n",
       "       [10.98910892, 19.2025461 ]])\n",
       "      jac: array([-8.34465027e-07,  5.96046448e-07])\n",
       "  message: 'Optimization terminated successfully.'\n",
       "     nfev: 36\n",
       "      nit: 10\n",
       "     njev: 12\n",
       "   status: 0\n",
       "  success: True\n",
       "        x: array([ 3.72764581, 45.66274645])"
      ]
     },
     "execution_count": 43,
     "metadata": {},
     "output_type": "execute_result"
    }
   ],
   "source": [
    "minimize(g, x0=locations[sample])"
   ]
  },
  {
   "cell_type": "markdown",
   "metadata": {},
   "source": [
    "how long does this take with 1000 trees?"
   ]
  },
  {
   "cell_type": "code",
   "execution_count": 45,
   "metadata": {},
   "outputs": [],
   "source": [
    "shared_times = stss"
   ]
  },
  {
   "cell_type": "code",
   "execution_count": 46,
   "metadata": {},
   "outputs": [],
   "source": [
    "shared_times_centered_inverted = []\n",
    "for st in shared_times:\n",
    "    stc = np.matmul(Tmat, np.matmul(st, np.transpose(Tmat))) #mean centered covariance of samples\n",
    "    stci = np.linalg.pinv(stc)\n",
    "    shared_times_centered_inverted.append(stci)\n",
    "shared_times_centered_inverted = np.array(shared_times_centered_inverted)"
   ]
  },
  {
   "cell_type": "code",
   "execution_count": 47,
   "metadata": {},
   "outputs": [],
   "source": [
    "ancestor_time = 1e4\n",
    "sample = 0\n",
    "\n",
    "anc_times_centered = []\n",
    "taa_centered = []\n",
    "for st in shared_times:\n",
    "    at = _anc_times(st, ancestor_time, sample)\n",
    "    atc = np.matmul(Tmat, (at[:-1] - np.mean(st, axis=1)))\n",
    "    anc_times_centered.append(atc)\n",
    "    taac = at[-1] - 2*np.mean(at[:-1]) + np.mean(st)\n",
    "    taa_centered.append(taac)\n",
    "anc_times_centered = np.array(anc_times_centered)\n",
    "taa_centered = np.array(taa_centered)"
   ]
  },
  {
   "cell_type": "code",
   "execution_count": 48,
   "metadata": {},
   "outputs": [],
   "source": [
    "mle_locs = []\n",
    "var_locs = []\n",
    "\n",
    "for stci, atc, taac in zip(shared_times_centered_inverted, anc_times_centered, taa_centered):\n",
    "\n",
    "    mle_loc = np.mean(locations, axis=0) + np.matmul(np.matmul(atc.transpose(), stci), locations_centered)\n",
    "    mle_locs.append(mle_loc)\n",
    "    \n",
    "    var_loc = (taac - np.matmul(np.matmul(atc.transpose(), stci), atc)) * sigma\n",
    "    var_locs.append(var_loc)\n",
    "    \n",
    "mle_locs = np.array(mle_locs)\n",
    "var_locs = np.array(var_locs)"
   ]
  },
  {
   "cell_type": "code",
   "execution_count": 49,
   "metadata": {},
   "outputs": [],
   "source": [
    "fs = []\n",
    "\n",
    "for mle_loc, var_loc in zip(mle_locs, var_locs):\n",
    "\n",
    "    fs.append(lambda x: _lognormpdf(x, mle_loc, var_loc))"
   ]
  },
  {
   "cell_type": "code",
   "execution_count": 50,
   "metadata": {},
   "outputs": [],
   "source": [
    "def g(x):\n",
    "    return -_logsumexp([f(x) for f in fs])"
   ]
  },
  {
   "cell_type": "code",
   "execution_count": 51,
   "metadata": {},
   "outputs": [
    {
     "name": "stdout",
     "output_type": "stream",
     "text": [
      "      fun: -4.043368945982673\n",
      " hess_inv: array([[22.43270487, 10.2798793 ],\n",
      "       [10.2798793 , 17.59034546]])\n",
      "      jac: array([-9.00030136e-06,  7.86781311e-06])\n",
      "  message: 'Optimization terminated successfully.'\n",
      "     nfev: 36\n",
      "      nit: 10\n",
      "     njev: 12\n",
      "   status: 0\n",
      "  success: True\n",
      "        x: array([ 2.34228247, 44.25165678])\n",
      "0.5842595100402832\n"
     ]
    }
   ],
   "source": [
    "t0 = time.time()\n",
    "print(minimize(g, x0=locations[sample]))\n",
    "print(time.time()-t0)"
   ]
  },
  {
   "cell_type": "markdown",
   "metadata": {},
   "source": [
    "great, very fast"
   ]
  },
  {
   "cell_type": "markdown",
   "metadata": {},
   "source": [
    "now to add importance weights"
   ]
  },
  {
   "cell_type": "code",
   "execution_count": 56,
   "metadata": {},
   "outputs": [],
   "source": [
    "def g(x):\n",
    "    return -_logsumexp([f(x) + lbd - lpc for f,lbd,lpc in zip(fs, lbds, lpcs)])"
   ]
  },
  {
   "cell_type": "code",
   "execution_count": 57,
   "metadata": {},
   "outputs": [
    {
     "name": "stdout",
     "output_type": "stream",
     "text": [
      "      fun: -36.05959094637875\n",
      " hess_inv: array([[22.45566157, 10.28902715],\n",
      "       [10.28902715, 17.58377219]])\n",
      "      jac: array([-7.62939453e-06,  7.62939453e-06])\n",
      "  message: 'Optimization terminated successfully.'\n",
      "     nfev: 36\n",
      "      nit: 10\n",
      "     njev: 12\n",
      "   status: 0\n",
      "  success: True\n",
      "        x: array([ 2.34229635, 44.2516401 ])\n",
      "0.622014045715332\n"
     ]
    }
   ],
   "source": [
    "t0 = time.time()\n",
    "print(minimize(g, x0=locations[sample]))\n",
    "print(time.time()-t0)"
   ]
  },
  {
   "cell_type": "markdown",
   "metadata": {},
   "source": [
    "## time cutoffs"
   ]
  },
  {
   "cell_type": "markdown",
   "metadata": {},
   "source": [
    "final step -- deal with chopped off trees"
   ]
  },
  {
   "cell_type": "code",
   "execution_count": 341,
   "metadata": {},
   "outputs": [],
   "source": [
    "tCutoff = int(1e4)"
   ]
  },
  {
   "cell_type": "code",
   "execution_count": 342,
   "metadata": {},
   "outputs": [],
   "source": [
    "Ne = 1e5 #prior Ne\n",
    "m = '7e-9' #prior mutation rate\n",
    "numiter = 10 #number of MCMC iterations in estimating Ne\n",
    "threshold = 0.5 #fraction of trees to drop when estimating Ne\n",
    "nsamples = 1000 #number of trees per locus\n",
    "fname = '../data/T2T_Athaliana_66.nomissing.nohet.justSNPs_haploid_polarized_masked_%dNe_%sm_popsize_%dnumiter_%.1fthreshold'\n",
    "fname = fname %(Ne, m, numiter, threshold) + '_1000nsamples_%dtCutoff_mle-dispersal.npy'\n",
    "mle = np.load(fname %tCutoff, allow_pickle=True)\n",
    "sigma = np.array([[mle[0]**2, mle[2]*mle[0]*mle[1]], [mle[2]*mle[0]*mle[1], mle[1]**2]]) #mle dispersal rate\n",
    "phi = mle[-1]"
   ]
  },
  {
   "cell_type": "markdown",
   "metadata": {},
   "source": [
    "we can load the importance weights"
   ]
  },
  {
   "cell_type": "code",
   "execution_count": 23,
   "metadata": {},
   "outputs": [],
   "source": [
    "fname = '../data/T2T_Athaliana_66.Chr1.nomissing.nohet.justSNPs_haploid_polarized_masked_100000Ne_7e-9m_popsize_10numiter_0.5threshold_9966877-9969401bps_1000nsamples_cts_%dtCutoff_lpcs.npy' %tCutoff\n",
    "lpcs = np.load(fname, allow_pickle=True).astype(float)"
   ]
  },
  {
   "cell_type": "code",
   "execution_count": 24,
   "metadata": {},
   "outputs": [],
   "source": [
    "fname = '../data/T2T_Athaliana_66.Chr1.nomissing.nohet.justSNPs_haploid_polarized_masked_100000Ne_7e-9m_popsize_10numiter_0.5threshold_9966877-9969401bps_1000nsamples_cts_%dtCutoff_bts.npy' %tCutoff\n",
    "btss = np.load(fname, allow_pickle=True)"
   ]
  },
  {
   "cell_type": "code",
   "execution_count": 25,
   "metadata": {},
   "outputs": [],
   "source": [
    "lbds = [_log_birth_density(bts, phi, n) for bts in btss]"
   ]
  },
  {
   "cell_type": "markdown",
   "metadata": {},
   "source": [
    "but to get the ancestor times, and center them, we need the chopped shared times"
   ]
  },
  {
   "cell_type": "code",
   "execution_count": 190,
   "metadata": {},
   "outputs": [],
   "source": [
    "stss_chopped = []\n",
    "samples = []\n",
    "for sts in stss:\n",
    "    sts_chopped, smpls = chop_shared_times(sts, tCutoff=tCutoff)\n",
    "    stss_chopped.append(sts_chopped)\n",
    "    samples.append(smpls)"
   ]
  },
  {
   "cell_type": "markdown",
   "metadata": {},
   "source": [
    "choose the sample and get the subtree properties"
   ]
  },
  {
   "cell_type": "code",
   "execution_count": 139,
   "metadata": {},
   "outputs": [
    {
     "name": "stderr",
     "output_type": "stream",
     "text": [
      "100%|██████████| 1000/1000 [00:00<00:00, 6454.86it/s]\n"
     ]
    }
   ],
   "source": [
    "sample = 0\n",
    "\n",
    "stss = []\n",
    "stcis = []\n",
    "locss = []\n",
    "lcs = []\n",
    "js = []\n",
    "for sts, smpls in tqdm(zip(stss_chopped, samples), total=len(samples)):\n",
    "\n",
    "    i,j = _get_focal_index(sample, smpls) #subtree and index of sample\n",
    "    js.append(j)\n",
    "    st = sts[i] #shared times in subtree\n",
    "    stss.append(st)\n",
    "    n = len(st); \n",
    "    # note that if n=1, we get lots of empty matrices below, but the mle and var are calculated correctly (sample location and sigma*t respectively)\n",
    "\n",
    "    Tmat = np.identity(n) - [[1/n for _ in range(n)] for _ in range(n)]; Tmat = Tmat[:-1] #mean centering matrix\n",
    "    stc = np.matmul(Tmat, np.matmul(st.astype(float), np.transpose(Tmat))) #center shared times matrix\n",
    "    stci = np.linalg.inv(stc) #invert (we have these in file, for dispersal rate, but probably faster to calculate than load?)\n",
    "    stcis.append(stci)\n",
    "    \n",
    "    locs = locations[smpls[i]]\n",
    "    locss.append(locs)\n",
    "    lc = np.matmul(Tmat, locs)\n",
    "    lcs.append(lc)"
   ]
  },
  {
   "cell_type": "markdown",
   "metadata": {},
   "source": [
    "choose the time and get the likelihoods"
   ]
  },
  {
   "cell_type": "code",
   "execution_count": 143,
   "metadata": {},
   "outputs": [
    {
     "name": "stderr",
     "output_type": "stream",
     "text": [
      "100%|██████████| 1000/1000 [00:00<00:00, 13240.31it/s]\n"
     ]
    }
   ],
   "source": [
    "ancestor_time = 1e3 #max not greater than tCutoff\n",
    "\n",
    "fs = []\n",
    "for st,stci,locs,lc,j in tqdm(zip(stss, stcis, locss, lcs, js), total=len(stss)):\n",
    "    \n",
    "    at = _anc_times(st, ancestor_time, j) #shared times between samples and ancestor\n",
    "    n = len(st); Tmat = np.identity(n) - [[1/n for _ in range(n)] for _ in range(n)]; Tmat = Tmat[:-1] #mean centering matrix\n",
    "    atc = np.matmul(Tmat, (at[:-1] - np.mean(st, axis=1))) #center this\n",
    "    taac = at[-1] - 2*np.mean(at[:-1]) + np.mean(st) #center shared times of ancestor with itself\n",
    "\n",
    "    mle_loc = np.mean(locs, axis=0) + np.matmul(np.matmul(atc.transpose(), stci), lc)\n",
    "    var_loc = (taac - np.matmul(np.matmul(atc.transpose(), stci), atc)) * sigma\n",
    "    fs.append(lambda x: _lognormpdf(x, mle_loc, var_loc))"
   ]
  },
  {
   "cell_type": "markdown",
   "metadata": {},
   "source": [
    "find the mle"
   ]
  },
  {
   "cell_type": "code",
   "execution_count": 144,
   "metadata": {},
   "outputs": [
    {
     "data": {
      "text/plain": [
       "      fun: -51.54979053134616\n",
       " hess_inv: array([[4.29745769, 2.45173734],\n",
       "       [2.45173734, 3.41683015]])\n",
       "      jac: array([-1.90734863e-06,  0.00000000e+00])\n",
       "  message: 'Optimization terminated successfully.'\n",
       "     nfev: 27\n",
       "      nit: 8\n",
       "     njev: 9\n",
       "   status: 0\n",
       "  success: True\n",
       "        x: array([ 8.23094213, 50.28200051])"
      ]
     },
     "execution_count": 144,
     "metadata": {},
     "output_type": "execute_result"
    }
   ],
   "source": [
    "def g(x): return -_logsumexp([f(x) + lbd - lpc for f,lbd,lpc in zip(fs, lbds, lpcs)])\n",
    "minimize(g, x0=locations[sample])"
   ]
  },
  {
   "cell_type": "markdown",
   "metadata": {},
   "source": [
    "now how to do this efficiently for 1) multiple times and 2) multiple samples?"
   ]
  },
  {
   "cell_type": "markdown",
   "metadata": {},
   "source": [
    "1) lets move a few more things up into the first loop"
   ]
  },
  {
   "cell_type": "code",
   "execution_count": 161,
   "metadata": {},
   "outputs": [
    {
     "name": "stderr",
     "output_type": "stream",
     "text": [
      "100%|██████████| 1000/1000 [00:00<00:00, 5099.09it/s]\n"
     ]
    }
   ],
   "source": [
    "sample = 0\n",
    "\n",
    "sts = []\n",
    "stmrs = []\n",
    "stms = []\n",
    "stcis = []\n",
    "locs_means = []\n",
    "stcilcs = []\n",
    "js = []\n",
    "for stsc, smpls in tqdm(zip(stss_chopped, samples), total=len(samples)):\n",
    "\n",
    "    i,j = _get_focal_index(sample, smpls) #subtree and index of sample\n",
    "    js.append(j)\n",
    "    st = stsc[i] #shared times in subtree\n",
    "    sts.append(st)\n",
    "    stmr = np.mean(st, axis=1)\n",
    "    stmrs.append(stmr)\n",
    "    stm = np.mean(st)\n",
    "    stms.append(stm)\n",
    "    n = len(st); \n",
    "    # note that if n=1, we get lots of empty matrices below, but the mle and var are calculated correctly (sample location and sigma*t respectively)\n",
    "\n",
    "    Tmat = np.identity(n) - [[1/n for _ in range(n)] for _ in range(n)]; Tmat = Tmat[:-1] #mean centering matrix\n",
    "    stc = np.matmul(Tmat, np.matmul(st.astype(float), np.transpose(Tmat))) #center shared times matrix\n",
    "    stci = np.linalg.inv(stc) #invert (we have these in file, for dispersal rate, but probably faster to calculate than load?)\n",
    "    stcis.append(stci)\n",
    "    \n",
    "    locs = locations[smpls[i]]\n",
    "    locs_mean = np.mean(locs, axis=0)\n",
    "    locs_means.append(locs_mean)\n",
    "    lc = np.matmul(Tmat, locs)\n",
    "    stcilc = np.matmul(stci, lc)\n",
    "    stcilcs.append(stcilc)"
   ]
  },
  {
   "cell_type": "markdown",
   "metadata": {},
   "source": [
    "and then loop over times"
   ]
  },
  {
   "cell_type": "code",
   "execution_count": 182,
   "metadata": {},
   "outputs": [
    {
     "name": "stdout",
     "output_type": "stream",
     "text": [
      "0 [13.50700657 55.88530113] 10.0\n",
      "0 [13.02736583 55.37591169] 100.0\n",
      "0 [ 8.23095048 50.28200719] 1000.0\n",
      "0 [ 2.0700588  43.97694015] 10000.0\n"
     ]
    }
   ],
   "source": [
    "ancestor_times = np.logspace(1,4,4) #max not greater than tCutoff\n",
    "\n",
    "for ancestor_time in ancestor_times:\n",
    "\n",
    "    fs = []\n",
    "    for st,stmr,stm,stci,lm,stcilc,j in zip(sts, stmrs, stms, stcis, locs_means, stcilcs, js):\n",
    "\n",
    "        n = len(st); Tmat = np.identity(n) - [[1/n for _ in range(n)] for _ in range(n)]; Tmat = Tmat[:-1] #mean centering matrix\n",
    "\n",
    "        # only below depends on ancestor_time and j\n",
    "        at = _anc_times(st, ancestor_time, j) #shared times between samples and ancestor\n",
    "        atc = np.matmul(Tmat, (at[:-1] - stmr)) #center this\n",
    "        taac = at[-1] - 2*np.mean(at[:-1]) + stm #center shared times of ancestor with itself\n",
    "\n",
    "        mle_loc = lm + np.matmul(atc.transpose(), stcilc) #mean loc\n",
    "        var_loc = (taac - np.matmul(np.matmul(atc.transpose(), stci), atc)) * sigma #variance in loc\n",
    "        fs.append(lambda x: _lognormpdf(x, mle_loc, var_loc)) #append likelihood\n",
    "        \n",
    "    # find min of negative of log of summed likelihoods (weighted by importance)\n",
    "    def g(x): return -_logsumexp([f(x) + lbd - lpc for f,lbd,lpc in zip(fs, lbds, lpcs)])\n",
    "    x0 = locations[sample] + (np.mean(locs_means, axis=0) - locations[sample])/tCutoff*ancestor_time #best linear guess\n",
    "    mle = minimize(g, x0=x0).x\n",
    "    print(sample, mle, ancestor_time)"
   ]
  },
  {
   "cell_type": "markdown",
   "metadata": {},
   "source": [
    "2) scaling up to multiple samples is a bit tricky with time cutoffs because a given pair of samples may or may not be in the same subtree across trees. this means that we basically have to just parallelize the above code across samples. this leaves us with a lot of jobs to run, if we want to locate every sample at every locus"
   ]
  },
  {
   "cell_type": "code",
   "execution_count": 183,
   "metadata": {},
   "outputs": [
    {
     "data": {
      "text/plain": [
       "57948"
      ]
     },
     "execution_count": 183,
     "metadata": {},
     "output_type": "execute_result"
    }
   ],
   "source": [
    "66*878"
   ]
  },
  {
   "cell_type": "markdown",
   "metadata": {},
   "source": [
    "we could try just looping over samples at a locus then, if this isn't too slow"
   ]
  },
  {
   "cell_type": "code",
   "execution_count": 327,
   "metadata": {},
   "outputs": [],
   "source": [
    "def locate_ancestors(ancestor_samples, ancestor_times, \n",
    "                     shared_times_chopped, samples, locations, sigma, log_weights, \n",
    "                     x0_final=None):\n",
    "\n",
    "    all_ancestor_locations = []\n",
    "    for sample in tqdm(ancestor_samples):\n",
    "\n",
    "        sts = []\n",
    "        stmrs = []\n",
    "        stms = []\n",
    "        stcis = []\n",
    "        locs_means = []\n",
    "        stcilcs = []\n",
    "        js = []\n",
    "        for stsc, smpls in zip(shared_times_chopped, samples):\n",
    "\n",
    "            i,j = _get_focal_index(sample, smpls) #subtree and index of sample\n",
    "            js.append(j)\n",
    "            st = stsc[i] #shared times in subtree\n",
    "            sts.append(st)\n",
    "            stmr = np.mean(st, axis=1)\n",
    "            stmrs.append(stmr)\n",
    "            stm = np.mean(st)\n",
    "            stms.append(stm)\n",
    "            n = len(st); \n",
    "            # note that if n=1, we get lots of empty matrices below, but the mle and var are calculated correctly (sample location and sigma*t respectively)\n",
    "\n",
    "            Tmat = np.identity(n) - [[1/n for _ in range(n)] for _ in range(n)]; Tmat = Tmat[:-1] #mean centering matrix\n",
    "            stc = np.matmul(Tmat, np.matmul(st.astype(float), np.transpose(Tmat))) #center shared times matrix\n",
    "            stci = np.linalg.inv(stc) #invert (we have these in file, for dispersal rate, but probably faster to calculate than load?)\n",
    "            stcis.append(stci)\n",
    "\n",
    "            locs = locations[smpls[i]]\n",
    "            locs_mean = np.mean(locs, axis=0)\n",
    "            locs_means.append(locs_mean)\n",
    "            lc = np.matmul(Tmat, locs)\n",
    "            stcilc = np.matmul(stci, lc)\n",
    "            stcilcs.append(stcilc)\n",
    "\n",
    "        ancestor_locations = locations[sample]\n",
    "        for ancestor_time in ancestor_times:\n",
    "\n",
    "            fs = []\n",
    "            for st,stmr,stm,stci,lm,stcilc,j in zip(sts, stmrs, stms, stcis, locs_means, stcilcs, js):\n",
    "\n",
    "                n = len(st); Tmat = np.identity(n) - [[1/n for _ in range(n)] for _ in range(n)]; Tmat = Tmat[:-1] #mean centering matrix\n",
    "\n",
    "                # only below depends on ancestor_time and j\n",
    "                at = _anc_times(st, ancestor_time, j) #shared times between samples and ancestor\n",
    "                atc = np.matmul(Tmat, (at[:-1] - stmr)) #center this\n",
    "                taac = at[-1] - 2*np.mean(at[:-1]) + stm #center shared times of ancestor with itself\n",
    "                mle_loc = lm + np.matmul(atc.transpose(), stcilc) #mean loc\n",
    "                var_loc = (taac - np.matmul(np.matmul(atc.transpose(), stci), atc)) * sigma #variance in loc\n",
    "                fs.append(lambda x: _lognormpdf(x, mle_loc, var_loc)) #append likelihood\n",
    "\n",
    "            # find min of negative of log of summed likelihoods (weighted by importance)\n",
    "            def g(x): \n",
    "                return -_logsumexp([f(x) + log_weight for f,log_weight in zip(fs, log_weights)])\n",
    "            x0 = locations[sample] \n",
    "            if x0_final is not None:\n",
    "                x0 = x0 + (x0_final - x0)*ancestor_time/ancestor_times[-1] #best linear guess\n",
    "            mle = minimize(g, x0=x0).x\n",
    "            ancestor_locations = np.vstack([ancestor_locations,mle])\n",
    "\n",
    "        all_ancestor_locations.append(ancestor_locations)\n",
    "        \n",
    "    return np.array(all_ancestor_locations)"
   ]
  },
  {
   "cell_type": "code",
   "execution_count": 301,
   "metadata": {},
   "outputs": [],
   "source": [
    "log_weights = lbds - lpcs"
   ]
  },
  {
   "cell_type": "code",
   "execution_count": 330,
   "metadata": {},
   "outputs": [
    {
     "name": "stderr",
     "output_type": "stream",
     "text": [
      "100%|██████████| 66/66 [01:18<00:00,  1.19s/it]\n"
     ]
    }
   ],
   "source": [
    "ancestor_samples = range(len(locations))\n",
    "ancestor_times = np.logspace(1,4,4) #max not greater than tCutoff\n",
    "\n",
    "all_ancestor_locations = locate_ancestors(ancestor_samples, ancestor_times, \n",
    "                                          stss_chopped, samples, locations, sigma, log_weights)"
   ]
  },
  {
   "cell_type": "markdown",
   "metadata": {},
   "source": [
    "great, this doesn't take too long, so let's just run this for each locus via snakemake"
   ]
  },
  {
   "cell_type": "markdown",
   "metadata": {},
   "source": [
    "and a test at plotting:"
   ]
  },
  {
   "cell_type": "code",
   "execution_count": 332,
   "metadata": {},
   "outputs": [
    {
     "data": {
      "image/png": "[encoded data removed]",
      "text/plain": [
       "<Figure size 432x288 with 1 Axes>"
      ]
     },
     "metadata": {
      "needs_background": "light"
     },
     "output_type": "display_data"
    }
   ],
   "source": [
    "ancestor_samples = range(66)\n",
    "\n",
    "for sample in ancestor_samples:\n",
    "    plt.plot(all_ancestor_locations[sample,:,0],all_ancestor_locations[sample,:,1],'o-',alpha=0.5,zorder=0)\n",
    "    plt.scatter(locations[sample,0],locations[sample,1])\n",
    "\n",
    "plt.xlabel('longitude')\n",
    "plt.ylabel('latitude')\n",
    "# plt.legend()\n",
    "plt.show()"
   ]
  },
  {
   "cell_type": "markdown",
   "metadata": {},
   "source": [
    "why not on a map with bells and whistles"
   ]
  },
  {
   "cell_type": "code",
   "execution_count": 333,
   "metadata": {},
   "outputs": [],
   "source": [
    "ids = []\n",
    "ids_file='../data/T2T_Athaliana_66.Chr%d.nomissing.nohet.justSNPs_haploid.samples' %1\n",
    "with open(ids_file, mode='r') as file:\n",
    "    next(file); next(file) #skip header and 0 row\n",
    "    for line in file: \n",
    "        ids.append(line.strip().split(' ')[0])\n",
    "\n",
    "metadata = []\n",
    "with open('../data/66_genomes_summary.txt','r') as file:\n",
    "    next(file) #skip header\n",
    "    for line in file:\n",
    "        metadata.append(line.strip().split('\\t'))\n",
    "        \n",
    "accessions = [i[1].strip().replace('_','.').split('.')[0].replace('\"','') for i in metadata]\n",
    "accessions2 = [i[3] for i in metadata]\n",
    "\n",
    "order = []\n",
    "for id in ids:\n",
    "    try:\n",
    "        ix = accessions.index(id)\n",
    "    except:\n",
    "        ix = accessions2.index(id)\n",
    "    order.append(ix)\n",
    "\n",
    "group = np.array([i[2] for i in metadata])[order]\n",
    "population_names, population_ixs = np.unique(group, return_inverse=True)"
   ]
  },
  {
   "cell_type": "code",
   "execution_count": 334,
   "metadata": {},
   "outputs": [],
   "source": [
    "colors = px.colors.qualitative.G10[:len(population_names)]"
   ]
  },
  {
   "cell_type": "code",
   "execution_count": 335,
   "metadata": {},
   "outputs": [
    {
     "data": {
      "application/vnd.plotly.v1+json": {
       "config": {
        "plotlyServerURL": "https://plot.ly"
       },
       "data": [
        {
         "hoverinfo": "text",
         "hovertext": "6137",
         "lat": [
          55.9419,
          55.885301083871596,
          55.375911050617866,
          50.282005396190065,
          43.977120331346455
         ],
         "line": {
          "color": "#3366CC",
          "width": 2
         },
         "lon": [
          13.5603,
          13.507006513392493,
          13.027364920134787,
          8.230947919488749,
          2.070454615447162
         ],
         "mode": "markers+lines",
         "name": "Eurasian",
         "opacity": 0.5,
         "type": "scattergeo"
        },
        {
         "hoverinfo": "text",
         "hovertext": "9762",
         "lat": [
          37.69,
          37.69,
          37.69,
          37.69,
          37.69
         ],
         "line": {
          "color": "#FF9900",
          "width": 2
         },
         "lon": [
          14.98,
          14.98,
          14.98,
          14.98,
          14.98
         ],
         "mode": "markers+lines",
         "name": "Non-Iberian relict",
         "opacity": 0.5,
         "type": "scattergeo"
        },
        {
         "hoverinfo": "text",
         "hovertext": "9744",
         "lat": [
          47.16,
          47.16,
          47.16,
          47.16,
          47.16
         ],
         "line": {
          "color": "#3366CC",
          "width": 2
         },
         "lon": [
          27.59,
          27.59,
          27.59,
          27.59,
          27.59
         ],
         "mode": "markers+lines",
         "name": "Eurasian",
         "opacity": 0.5,
         "showlegend": false,
         "type": "scattergeo"
        },
        {
         "hoverinfo": "text",
         "hovertext": "6923",
         "lat": [
          51.4083,
          51.37802552802435,
          51.105555670676274,
          48.38085256547472,
          43.51459960013841
         ],
         "line": {
          "color": "#3366CC",
          "width": 2
         },
         "lon": [
          -0.6383,
          -0.6358220581899948,
          -0.6135202533012855,
          -0.39050690866819243,
          -1.5561996339865016
         ],
         "mode": "markers+lines",
         "name": "Eurasian",
         "opacity": 0.5,
         "showlegend": false,
         "type": "scattergeo"
        },
        {
         "hoverinfo": "text",
         "hovertext": "9879",
         "lat": [
          37.6,
          37.60441046315545,
          37.64410454795466,
          38.04105726401944,
          40.23062056580876
         ],
         "line": {
          "color": "#DC3912",
          "width": 2
         },
         "lon": [
          -1.12,
          -1.1185607553965158,
          -1.1056075954041893,
          -0.9760592624129423,
          -0.26147849341541146
         ],
         "mode": "markers+lines",
         "name": "Iberian relict",
         "opacity": 0.5,
         "type": "scattergeo"
        },
        {
         "hoverinfo": "text",
         "hovertext": "9806",
         "lat": [
          48.56,
          48.56,
          48.56,
          48.56,
          48.56
         ],
         "line": {
          "color": "#3366CC",
          "width": 2
         },
         "lon": [
          9.16,
          9.16,
          9.16,
          9.16,
          9.16
         ],
         "mode": "markers+lines",
         "name": "Eurasian",
         "opacity": 0.5,
         "showlegend": false,
         "type": "scattergeo"
        },
        {
         "hoverinfo": "text",
         "hovertext": "9847",
         "lat": [
          43.31,
          43.31,
          43.31,
          43.31,
          43.31
         ],
         "line": {
          "color": "#3366CC",
          "width": 2
         },
         "lon": [
          -5.7,
          -5.7,
          -5.7,
          -5.7,
          -5.7
         ],
         "mode": "markers+lines",
         "name": "Eurasian",
         "opacity": 0.5,
         "showlegend": false,
         "type": "scattergeo"
        },
        {
         "hoverinfo": "text",
         "hovertext": "9830",
         "lat": [
          36.97,
          36.987240421843794,
          37.14240476781708,
          38.6940418946484,
          46.428842425568575
         ],
         "line": {
          "color": "#3366CC",
          "width": 2
         },
         "lon": [
          -3.28,
          -3.2799368921301113,
          -3.279368394212595,
          -3.2736899804209645,
          -3.245349244820579
         ],
         "mode": "markers+lines",
         "name": "Eurasian",
         "opacity": 0.5,
         "showlegend": false,
         "type": "scattergeo"
        },
        {
         "hoverinfo": "text",
         "hovertext": "9503",
         "lat": [
          55.8877,
          55.870459521500145,
          55.71529579425511,
          54.16365552195122,
          46.428872120794026
         ],
         "line": {
          "color": "#3366CC",
          "width": 2
         },
         "lon": [
          -3.21072,
          -3.2107831611359314,
          -3.21135095570409,
          -3.2170319027253838,
          -3.245349884228015
         ],
         "mode": "markers+lines",
         "name": "Eurasian",
         "opacity": 0.5,
         "showlegend": false,
         "type": "scattergeo"
        },
        {
         "hoverinfo": "text",
         "hovertext": "9900",
         "lat": [
          37.38,
          37.38,
          37.38,
          37.38,
          37.38
         ],
         "line": {
          "color": "#3366CC",
          "width": 2
         },
         "lon": [
          -6.01,
          -6.01,
          -6.01,
          -6.01,
          -6.01
         ],
         "mode": "markers+lines",
         "name": "Eurasian",
         "opacity": 0.5,
         "showlegend": false,
         "type": "scattergeo"
        },
        {
         "hoverinfo": "text",
         "hovertext": "7143",
         "lat": [
          51.0167,
          51.0167,
          51.0167,
          51.0167,
          51.0167
         ],
         "line": {
          "color": "#3366CC",
          "width": 2
         },
         "lon": [
          5.86667,
          5.86667,
          5.86667,
          5.86667,
          5.86667
         ],
         "mode": "markers+lines",
         "name": "Eurasian",
         "opacity": 0.5,
         "showlegend": false,
         "type": "scattergeo"
        },
        {
         "hoverinfo": "text",
         "hovertext": "8285",
         "lat": [
          49.4112,
          49.4112,
          49.4112,
          49.4112,
          49.4112
         ],
         "line": {
          "color": "#3366CC",
          "width": 2
         },
         "lon": [
          16.2815,
          16.2815,
          16.2815,
          16.2815,
          16.2815
         ],
         "mode": "markers+lines",
         "name": "Eurasian",
         "opacity": 0.5,
         "showlegend": false,
         "type": "scattergeo"
        },
        {
         "hoverinfo": "text",
         "hovertext": "9336",
         "lat": [
          62.8794,
          62.8794,
          62.8794,
          62.8794,
          62.8794
         ],
         "line": {
          "color": "#3366CC",
          "width": 2
         },
         "lon": [
          18.4473,
          18.4473,
          18.4473,
          18.4473,
          18.4473
         ],
         "mode": "markers+lines",
         "name": "Eurasian",
         "opacity": 0.5,
         "showlegend": false,
         "type": "scattergeo"
        },
        {
         "hoverinfo": "text",
         "hovertext": "9852",
         "lat": [
          40.46,
          40.46010060862891,
          40.461006045083955,
          40.439286244680964,
          40.36842016300417
         ],
         "line": {
          "color": "#3366CC",
          "width": 2
         },
         "lon": [
          -3.75,
          -3.753357091101008,
          -3.783571025299545,
          -3.898530453783976,
          -4.000655009261314
         ],
         "mode": "markers+lines",
         "name": "Eurasian",
         "opacity": 0.5,
         "showlegend": false,
         "type": "scattergeo"
        },
        {
         "hoverinfo": "text",
         "hovertext": "9883",
         "lat": [
          42.1,
          42.101415243493975,
          42.11415249786928,
          42.24154425615843,
          43.51462991008864
         ],
         "line": {
          "color": "#3366CC",
          "width": 2
         },
         "lon": [
          -2.56,
          -2.5589957428951307,
          -2.54995747150372,
          -2.459535948025973,
          -1.5561281923462957
         ],
         "mode": "markers+lines",
         "name": "Eurasian",
         "opacity": 0.5,
         "showlegend": false,
         "type": "scattergeo"
        },
        {
         "hoverinfo": "text",
         "hovertext": "BROU-A-10",
         "lat": [
          43.999349,
          44.013152274908364,
          44.1373819504863,
          45.504951741216516,
          43.97694454116005
         ],
         "line": {
          "color": "#3366CC",
          "width": 2
         },
         "lon": [
          2.621684,
          2.63189404406598,
          2.7237846214869075,
          3.768979275656606,
          2.0703428504114814
         ],
         "mode": "markers+lines",
         "name": "Eurasian",
         "opacity": 0.5,
         "showlegend": false,
         "type": "scattergeo"
        },
        {
         "hoverinfo": "text",
         "hovertext": "SALE-A-17",
         "lat": [
          43.024966,
          43.024966,
          43.024966,
          43.024966,
          43.024966
         ],
         "line": {
          "color": "#3366CC",
          "width": 2
         },
         "lon": [
          0.965965,
          0.965965,
          0.965965,
          0.965965,
          0.965965
         ],
         "mode": "markers+lines",
         "name": "Eurasian",
         "opacity": 0.5,
         "showlegend": false,
         "type": "scattergeo"
        },
        {
         "hoverinfo": "text",
         "hovertext": "Evs-0",
         "lat": [
          40.479175,
          40.479175,
          40.479175,
          40.479175,
          40.479175
         ],
         "line": {
          "color": "#3366CC",
          "width": 2
         },
         "lon": [
          -3.959696,
          -3.959696,
          -3.959696,
          -3.959696,
          -3.959696
         ],
         "mode": "markers+lines",
         "name": "Eurasian",
         "opacity": 0.5,
         "showlegend": false,
         "type": "scattergeo"
        },
        {
         "hoverinfo": "text",
         "hovertext": "BARC-A-17",
         "lat": [
          43.362044,
          43.35599699117194,
          43.27899701211848,
          43.11168578630952,
          43.04685597255747
         ],
         "line": {
          "color": "#3366CC",
          "width": 2
         },
         "lon": [
          0.387723,
          0.3852522952878235,
          0.35379111607241087,
          0.43197233328817153,
          0.8135958989641902
         ],
         "mode": "markers+lines",
         "name": "Eurasian",
         "opacity": 0.5,
         "showlegend": false,
         "type": "scattergeo"
        },
        {
         "hoverinfo": "text",
         "hovertext": "BANI-C-12",
         "lat": [
          43.043644,
          43.04586458698263,
          43.06585007474554,
          43.111721561341696,
          43.046739284886826
         ],
         "line": {
          "color": "#3366CC",
          "width": 2
         },
         "lon": [
          0.234303,
          0.23626891913404444,
          0.25396235299796777,
          0.43200854063683725,
          0.81348467827958
         ],
         "mode": "markers+lines",
         "name": "Eurasian",
         "opacity": 0.5,
         "showlegend": false,
         "type": "scattergeo"
        },
        {
         "hoverinfo": "text",
         "hovertext": "Cvi-0",
         "lat": [
          15.1111,
          15.1111,
          15.1111,
          15.1111,
          15.1111
         ],
         "line": {
          "color": "#FF9900",
          "width": 2
         },
         "lon": [
          -23.6167,
          -23.6167,
          -23.6167,
          -23.6167,
          -23.6167
         ],
         "mode": "markers+lines",
         "name": "Non-Iberian relict",
         "opacity": 0.5,
         "showlegend": false,
         "type": "scattergeo"
        },
        {
         "hoverinfo": "text",
         "hovertext": "Cas-6",
         "lat": [
          38.534077,
          38.534077,
          38.534077,
          38.534077,
          38.534077
         ],
         "line": {
          "color": "#DC3912",
          "width": 2
         },
         "lon": [
          -3.39072,
          -3.39072,
          -3.39072,
          -3.39072,
          -3.39072
         ],
         "mode": "markers+lines",
         "name": "Iberian relict",
         "opacity": 0.5,
         "showlegend": false,
         "type": "scattergeo"
        },
        {
         "hoverinfo": "text",
         "hovertext": "MERE-A-13",
         "lat": [
          42.656618,
          42.66370282960999,
          42.72746650377409,
          43.36512330562535,
          43.51465800950056
         ],
         "line": {
          "color": "#3366CC",
          "width": 2
         },
         "lon": [
          1.836221,
          1.826282536189704,
          1.7368367632627468,
          0.8423662640658011,
          -1.5563318364385201
         ],
         "mode": "markers+lines",
         "name": "Eurasian",
         "opacity": 0.5,
         "showlegend": false,
         "type": "scattergeo"
        },
        {
         "hoverinfo": "text",
         "hovertext": "Hum-4",
         "lat": [
          42.227184,
          42.227184,
          42.227184,
          42.227184,
          42.227184
         ],
         "line": {
          "color": "#3366CC",
          "width": 2
         },
         "lon": [
          -3.688887,
          -3.688887,
          -3.688887,
          -3.688887,
          -3.688887
         ],
         "mode": "markers+lines",
         "name": "Eurasian",
         "opacity": 0.5,
         "showlegend": false,
         "type": "scattergeo"
        },
        {
         "hoverinfo": "text",
         "hovertext": "San-9",
         "lat": [
          38.331366,
          38.33261905593539,
          38.343896528545514,
          38.45667273098545,
          39.34427936937348
         ],
         "line": {
          "color": "#DC3912",
          "width": 2
         },
         "lon": [
          -3.508882,
          -3.509182654847616,
          -3.511888516859092,
          -3.538948158307649,
          -3.7519073797544458
         ],
         "mode": "markers+lines",
         "name": "Iberian relict",
         "opacity": 0.5,
         "showlegend": false,
         "type": "scattergeo"
        },
        {
         "hoverinfo": "text",
         "hovertext": "Med-0",
         "lat": [
          42.455239,
          42.455239,
          42.455239,
          42.455239,
          42.455239
         ],
         "line": {
          "color": "#DC3912",
          "width": 2
         },
         "lon": [
          -6.765742,
          -6.765742,
          -6.765742,
          -6.765742,
          -6.765742
         ],
         "mode": "markers+lines",
         "name": "Iberian relict",
         "opacity": 0.5,
         "showlegend": false,
         "type": "scattergeo"
        },
        {
         "hoverinfo": "text",
         "hovertext": "BANI-C-1",
         "lat": [
          43.043644,
          43.04965212534537,
          43.103725341772744,
          43.111721561341696,
          43.046739284886826
         ],
         "line": {
          "color": "#3366CC",
          "width": 2
         },
         "lon": [
          0.234303,
          0.2378164532542523,
          0.2694375786925566,
          0.43200854063683725,
          0.81348467827958
         ],
         "mode": "markers+lines",
         "name": "Eurasian",
         "opacity": 0.5,
         "showlegend": false,
         "type": "scattergeo"
        },
        {
         "hoverinfo": "text",
         "hovertext": "Mos-5",
         "lat": [
          40.040579,
          40.040579,
          40.040579,
          40.040579,
          40.040579
         ],
         "line": {
          "color": "#3366CC",
          "width": 2
         },
         "lon": [
          -7.110302,
          -7.110302,
          -7.110302,
          -7.110302,
          -7.110302
         ],
         "mode": "markers+lines",
         "name": "Eurasian",
         "opacity": 0.5,
         "showlegend": false,
         "type": "scattergeo"
        },
        {
         "hoverinfo": "text",
         "hovertext": "AUZE-A-5",
         "lat": [
          43.527792,
          43.52108036659889,
          43.46067569042926,
          42.85661922295776,
          42.172084507141435
         ],
         "line": {
          "color": "#3366CC",
          "width": 2
         },
         "lon": [
          1.491628,
          1.4837610830210521,
          1.4129589464334038,
          0.704922468495711,
          -0.09742623462779397
         ],
         "mode": "markers+lines",
         "name": "Eurasian",
         "opacity": 0.5,
         "showlegend": false,
         "type": "scattergeo"
        },
        {
         "hoverinfo": "text",
         "hovertext": "Mos-9",
         "lat": [
          40.040579,
          40.040579,
          40.040579,
          40.040579,
          40.040579
         ],
         "line": {
          "color": "#DC3912",
          "width": 2
         },
         "lon": [
          -7.110302,
          -7.110302,
          -7.110302,
          -7.110302,
          -7.110302
         ],
         "mode": "markers+lines",
         "name": "Iberian relict",
         "opacity": 0.5,
         "showlegend": false,
         "type": "scattergeo"
        },
        {
         "hoverinfo": "text",
         "hovertext": "Ler-0",
         "lat": [
          52.7325,
          52.7325,
          52.7325,
          52.7325,
          52.7325
         ],
         "line": {
          "color": "#3366CC",
          "width": 2
         },
         "lon": [
          15.2369,
          15.2369,
          15.2369,
          15.2369,
          15.2369
         ],
         "mode": "markers+lines",
         "name": "Eurasian",
         "opacity": 0.5,
         "showlegend": false,
         "type": "scattergeo"
        },
        {
         "hoverinfo": "text",
         "hovertext": "Mdc-14",
         "lat": [
          38.874341,
          38.874341,
          38.874341,
          38.874341,
          38.874341
         ],
         "line": {
          "color": "#3366CC",
          "width": 2
         },
         "lon": [
          -3.52962,
          -3.52962,
          -3.52962,
          -3.52962,
          -3.52962
         ],
         "mode": "markers+lines",
         "name": "Eurasian",
         "opacity": 0.5,
         "showlegend": false,
         "type": "scattergeo"
        },
        {
         "hoverinfo": "text",
         "hovertext": "MONTM-B-7",
         "lat": [
          42.861218,
          42.861218,
          42.861218,
          42.861218,
          42.861218
         ],
         "line": {
          "color": "#3366CC",
          "width": 2
         },
         "lon": [
          0.596869,
          0.596869,
          0.596869,
          0.596869,
          0.596869
         ],
         "mode": "markers+lines",
         "name": "Eurasian",
         "opacity": 0.5,
         "showlegend": false,
         "type": "scattergeo"
        },
        {
         "hoverinfo": "text",
         "hovertext": "ANGE-B-10",
         "lat": [
          43.9121,
          43.9121,
          43.9121,
          43.9121,
          43.9121
         ],
         "line": {
          "color": "#3366CC",
          "width": 2
         },
         "lon": [
          1.6569,
          1.6569,
          1.6569,
          1.6569,
          1.6569
         ],
         "mode": "markers+lines",
         "name": "Eurasian",
         "opacity": 0.5,
         "showlegend": false,
         "type": "scattergeo"
        },
        {
         "hoverinfo": "text",
         "hovertext": "Sln-22",
         "lat": [
          40.356889,
          40.35563591781194,
          40.344358136289266,
          40.23157835176593,
          39.344010508929586
         ],
         "line": {
          "color": "#DC3912",
          "width": 2
         },
         "lon": [
          -3.994843,
          -3.9945423804989084,
          -3.9918367228131144,
          -3.964780682045095,
          -3.7517765802306147
         ],
         "mode": "markers+lines",
         "name": "Iberian relict",
         "opacity": 0.5,
         "showlegend": false,
         "type": "scattergeo"
        },
        {
         "hoverinfo": "text",
         "hovertext": "CAMA-C-2",
         "lat": [
          43.824878,
          43.82698443856427,
          43.86254706986735,
          44.74605627625675,
          43.51456233755334
         ],
         "line": {
          "color": "#3366CC",
          "width": 2
         },
         "lon": [
          2.881661,
          2.8739212767476854,
          2.7432549915588478,
          1.2762936699664276,
          -1.5562296766775205
         ],
         "mode": "markers+lines",
         "name": "Eurasian",
         "opacity": 0.5,
         "showlegend": false,
         "type": "scattergeo"
        },
        {
         "hoverinfo": "text",
         "hovertext": "BELC-C-10",
         "lat": [
          44.389212,
          44.391810114081714,
          44.42492199888873,
          44.75605678851098,
          47.93512181838822
         ],
         "line": {
          "color": "#3366CC",
          "width": 2
         },
         "lon": [
          2.336636,
          2.3356743199746335,
          2.3234177815196055,
          2.200852348802641,
          1.0241091340260238
         ],
         "mode": "markers+lines",
         "name": "Eurasian",
         "opacity": 0.5,
         "showlegend": false,
         "type": "scattergeo"
        },
        {
         "hoverinfo": "text",
         "hovertext": "MONTM-B-16",
         "lat": [
          42.861218,
          42.856807528258415,
          42.81711307185812,
          42.42015716277321,
          40.23062310221322
         ],
         "line": {
          "color": "#3366CC",
          "width": 2
         },
         "lon": [
          0.596869,
          0.5954297436513999,
          0.5824761265634242,
          0.4529238723425675,
          -0.26162189459630003
         ],
         "mode": "markers+lines",
         "name": "Eurasian",
         "opacity": 0.5,
         "showlegend": false,
         "type": "scattergeo"
        },
        {
         "hoverinfo": "text",
         "hovertext": "FERR-A-8",
         "lat": [
          43.6577,
          43.66610045180675,
          43.74170467183251,
          44.746041562635405,
          43.51457481541411
         ],
         "line": {
          "color": "#3366CC",
          "width": 2
         },
         "lon": [
          2.4437,
          2.441149311584143,
          2.418193221231813,
          1.2763035078038416,
          -1.5562240019153197
         ],
         "mode": "markers+lines",
         "name": "Eurasian",
         "opacity": 0.5,
         "showlegend": false,
         "type": "scattergeo"
        },
        {
         "hoverinfo": "text",
         "hovertext": "Hum-2",
         "lat": [
          42.227184,
          42.227184,
          42.227184,
          42.227184,
          42.227184
         ],
         "line": {
          "color": "#DC3912",
          "width": 2
         },
         "lon": [
          -3.688887,
          -3.688887,
          -3.688887,
          -3.688887,
          -3.688887
         ],
         "mode": "markers+lines",
         "name": "Iberian relict",
         "opacity": 0.5,
         "showlegend": false,
         "type": "scattergeo"
        },
        {
         "hoverinfo": "text",
         "hovertext": "Med-3",
         "lat": [
          42.455239,
          42.46466148361702,
          42.54946412823529,
          43.39752407967611,
          43.51461292766349
         ],
         "line": {
          "color": "#3366CC",
          "width": 2
         },
         "lon": [
          -6.765742,
          -6.742216624471199,
          -6.530487911407007,
          -4.41318512776485,
          -1.5561995641022057
         ],
         "mode": "markers+lines",
         "name": "Eurasian",
         "opacity": 0.5,
         "showlegend": false,
         "type": "scattergeo"
        },
        {
         "hoverinfo": "text",
         "hovertext": "FERR-A-12",
         "lat": [
          43.657743,
          43.67437086848759,
          43.8240218009175,
          45.504941860787085,
          43.97705890938523
         ],
         "line": {
          "color": "#3366CC",
          "width": 2
         },
         "lon": [
          2.44371,
          2.454725355821878,
          2.553863690382837,
          3.7689683982247653,
          2.07036371537943
         ],
         "mode": "markers+lines",
         "name": "Eurasian",
         "opacity": 0.5,
         "showlegend": false,
         "type": "scattergeo"
        },
        {
         "hoverinfo": "text",
         "hovertext": "22005",
         "lat": [
          32.7536,
          32.7536,
          32.7536,
          32.7536,
          32.7536
         ],
         "line": {
          "color": "#FF9900",
          "width": 2
         },
         "lon": [
          -17.1297,
          -17.1297,
          -17.1297,
          -17.1297,
          -17.1297
         ],
         "mode": "markers+lines",
         "name": "Non-Iberian relict",
         "opacity": 0.5,
         "showlegend": false,
         "type": "scattergeo"
        },
        {
         "hoverinfo": "text",
         "hovertext": "Evs-12",
         "lat": [
          40.479175,
          40.478709734244696,
          40.474522081523446,
          40.43930352912716,
          40.36859683798239
         ],
         "line": {
          "color": "#DC3912",
          "width": 2
         },
         "lon": [
          -3.959696,
          -3.9568646186802687,
          -3.931382494772678,
          -3.898502859534292,
          -4.00039818106864
         ],
         "mode": "markers+lines",
         "name": "Iberian relict",
         "opacity": 0.5,
         "showlegend": false,
         "type": "scattergeo"
        },
        {
         "hoverinfo": "text",
         "hovertext": "SALE-A-10",
         "lat": [
          43.024966,
          43.02521046140753,
          43.02741072027636,
          43.04941472028967,
          43.04665391802853
         ],
         "line": {
          "color": "#3366CC",
          "width": 2
         },
         "lon": [
          0.965965,
          0.9644447585193767,
          0.9507626614726775,
          0.8139428485087453,
          0.8134493824032063
         ],
         "mode": "markers+lines",
         "name": "Eurasian",
         "opacity": 0.5,
         "showlegend": false,
         "type": "scattergeo"
        },
        {
         "hoverinfo": "text",
         "hovertext": "Lor-16",
         "lat": [
          38.860067,
          38.860067,
          38.860067,
          38.860067,
          38.860067
         ],
         "line": {
          "color": "#DC3912",
          "width": 2
         },
         "lon": [
          -0.263499,
          -0.263499,
          -0.263499,
          -0.263499,
          -0.263499
         ],
         "mode": "markers+lines",
         "name": "Iberian relict",
         "opacity": 0.5,
         "showlegend": false,
         "type": "scattergeo"
        },
        {
         "hoverinfo": "text",
         "hovertext": "CAMA-C-9",
         "lat": [
          43.824878,
          43.82698443856427,
          43.86254706986735,
          44.74605627625675,
          43.51456233755334
         ],
         "line": {
          "color": "#3366CC",
          "width": 2
         },
         "lon": [
          2.881661,
          2.8739212767476854,
          2.7432549915588478,
          1.2762936699664276,
          -1.5562296766775205
         ],
         "mode": "markers+lines",
         "name": "Eurasian",
         "opacity": 0.5,
         "showlegend": false,
         "type": "scattergeo"
        },
        {
         "hoverinfo": "text",
         "hovertext": "Alo-0",
         "lat": [
          40.109691,
          40.109691,
          40.109691,
          40.109691,
          40.109691
         ],
         "line": {
          "color": "#3366CC",
          "width": 2
         },
         "lon": [
          -7.476146,
          -7.476146,
          -7.476146,
          -7.476146,
          -7.476146
         ],
         "mode": "markers+lines",
         "name": "Eurasian",
         "opacity": 0.5,
         "showlegend": false,
         "type": "scattergeo"
        },
        {
         "hoverinfo": "text",
         "hovertext": "BARC-A-12",
         "lat": [
          43.362044,
          43.35599699117194,
          43.27899701211848,
          43.11168578630952,
          43.04685597255747
         ],
         "line": {
          "color": "#3366CC",
          "width": 2
         },
         "lon": [
          0.387723,
          0.3852522952878235,
          0.35379111607241087,
          0.43197233328817153,
          0.8135958989641902
         ],
         "mode": "markers+lines",
         "name": "Eurasian",
         "opacity": 0.5,
         "showlegend": false,
         "type": "scattergeo"
        },
        {
         "hoverinfo": "text",
         "hovertext": "Cas-0",
         "lat": [
          38.534077,
          38.54641953300088,
          38.65750231276001,
          39.768345003978425,
          43.97705113935014
         ],
         "line": {
          "color": "#3366CC",
          "width": 2
         },
         "lon": [
          -3.39072,
          -3.378336205451879,
          -3.2668821701361326,
          -2.152305725227071,
          2.0704827689758654
         ],
         "mode": "markers+lines",
         "name": "Eurasian",
         "opacity": 0.5,
         "showlegend": false,
         "type": "scattergeo"
        },
        {
         "hoverinfo": "text",
         "hovertext": "Hom-4",
         "lat": [
          40.816799,
          40.82351061253551,
          40.88391530957074,
          41.48797161842885,
          42.17251001073116
         ],
         "line": {
          "color": "#3366CC",
          "width": 2
         },
         "lon": [
          -1.68601,
          -1.6781431110383005,
          -1.6073409464334039,
          -0.8993039746619866,
          -0.09695196505372074
         ],
         "mode": "markers+lines",
         "name": "Eurasian",
         "opacity": 0.5,
         "showlegend": false,
         "type": "scattergeo"
        },
        {
         "hoverinfo": "text",
         "hovertext": "GAIL-B-11",
         "lat": [
          43.909032,
          43.909032,
          43.909032,
          43.909032,
          43.909032
         ],
         "line": {
          "color": "#3366CC",
          "width": 2
         },
         "lon": [
          1.901077,
          1.901077,
          1.901077,
          1.901077,
          1.901077
         ],
         "mode": "markers+lines",
         "name": "Eurasian",
         "opacity": 0.5,
         "showlegend": false,
         "type": "scattergeo"
        },
        {
         "hoverinfo": "text",
         "hovertext": "BARA-C-5",
         "lat": [
          44.270842,
          44.270842,
          44.270842,
          44.270842,
          44.270842
         ],
         "line": {
          "color": "#3366CC",
          "width": 2
         },
         "lon": [
          2.427551,
          2.427551,
          2.427551,
          2.427551,
          2.427551
         ],
         "mode": "markers+lines",
         "name": "Eurasian",
         "opacity": 0.5,
         "showlegend": false,
         "type": "scattergeo"
        },
        {
         "hoverinfo": "text",
         "hovertext": "Alo-19",
         "lat": [
          40.109691,
          40.109691,
          40.109691,
          40.109691,
          40.109691
         ],
         "line": {
          "color": "#DC3912",
          "width": 2
         },
         "lon": [
          -7.476146,
          -7.476146,
          -7.476146,
          -7.476146,
          -7.476146
         ],
         "mode": "markers+lines",
         "name": "Iberian relict",
         "opacity": 0.5,
         "showlegend": false,
         "type": "scattergeo"
        },
        {
         "hoverinfo": "text",
         "hovertext": "BARA-C-3",
         "lat": [
          44.270842,
          44.270842,
          44.270842,
          44.270842,
          44.270842
         ],
         "line": {
          "color": "#3366CC",
          "width": 2
         },
         "lon": [
          2.427551,
          2.427551,
          2.427551,
          2.427551,
          2.427551
         ],
         "mode": "markers+lines",
         "name": "Eurasian",
         "opacity": 0.5,
         "showlegend": false,
         "type": "scattergeo"
        },
        {
         "hoverinfo": "text",
         "hovertext": "PREI-A-14",
         "lat": [
          43.717856,
          43.717856,
          43.717856,
          43.717856,
          43.717856
         ],
         "line": {
          "color": "#3366CC",
          "width": 2
         },
         "lon": [
          0.623298,
          0.623298,
          0.623298,
          0.623298,
          0.623298
         ],
         "mode": "markers+lines",
         "name": "Eurasian",
         "opacity": 0.5,
         "showlegend": false,
         "type": "scattergeo"
        },
        {
         "hoverinfo": "text",
         "hovertext": "BELC-C-12",
         "lat": [
          44.389212,
          44.391810114081714,
          44.42492199888873,
          44.75605678851098,
          47.93512181838822
         ],
         "line": {
          "color": "#3366CC",
          "width": 2
         },
         "lon": [
          2.336636,
          2.3356743199746335,
          2.3234177815196055,
          2.200852348802641,
          1.0241091340260238
         ],
         "mode": "markers+lines",
         "name": "Eurasian",
         "opacity": 0.5,
         "showlegend": false,
         "type": "scattergeo"
        },
        {
         "hoverinfo": "text",
         "hovertext": "Cat-0",
         "lat": [
          40.542081,
          40.542081,
          40.542081,
          40.542081,
          40.542081
         ],
         "line": {
          "color": "#DC3912",
          "width": 2
         },
         "lon": [
          -3.68695,
          -3.68695,
          -3.68695,
          -3.68695,
          -3.68695
         ],
         "mode": "markers+lines",
         "name": "Iberian relict",
         "opacity": 0.5,
         "showlegend": false,
         "type": "scattergeo"
        },
        {
         "hoverinfo": "text",
         "hovertext": "ANGE-B-2",
         "lat": [
          43.91214,
          43.92596517736184,
          44.050391938927326,
          45.50493887841745,
          43.97713703315922
         ],
         "line": {
          "color": "#3366CC",
          "width": 2
         },
         "lon": [
          1.656855,
          1.676539215361346,
          1.8536973896278328,
          3.7689648268228373,
          2.0705172648865546
         ],
         "mode": "markers+lines",
         "name": "Eurasian",
         "opacity": 0.5,
         "showlegend": false,
         "type": "scattergeo"
        },
        {
         "hoverinfo": "text",
         "hovertext": "Met-6",
         "lat": [
          40.261667,
          40.26203163977389,
          40.26531301199941,
          40.29816215571019,
          40.36871133243187
         ],
         "line": {
          "color": "#DC3912",
          "width": 2
         },
         "lon": [
          -4.154601,
          -4.154075308103443,
          -4.149344555684415,
          -4.101978744511915,
          -4.0002918887086265
         ],
         "mode": "markers+lines",
         "name": "Iberian relict",
         "opacity": 0.5,
         "showlegend": false,
         "type": "scattergeo"
        },
        {
         "hoverinfo": "text",
         "hovertext": "LACR-C-14",
         "lat": [
          43.000155,
          43.00023730914659,
          43.00097826327484,
          43.0083968997789,
          43.04662902883177
         ],
         "line": {
          "color": "#3366CC",
          "width": 2
         },
         "lon": [
          1.075624,
          1.0751605007358502,
          1.0709891918914107,
          1.0292595637409958,
          0.813426121736159
         ],
         "mode": "markers+lines",
         "name": "Eurasian",
         "opacity": 0.5,
         "showlegend": false,
         "type": "scattergeo"
        },
        {
         "hoverinfo": "text",
         "hovertext": "Hom-0",
         "lat": [
          40.816799,
          40.816799,
          40.816799,
          40.816799,
          40.816799
         ],
         "line": {
          "color": "#DC3912",
          "width": 2
         },
         "lon": [
          -1.68601,
          -1.68601,
          -1.68601,
          -1.68601,
          -1.68601
         ],
         "mode": "markers+lines",
         "name": "Iberian relict",
         "opacity": 0.5,
         "showlegend": false,
         "type": "scattergeo"
        },
        {
         "hoverinfo": "text",
         "hovertext": "Tanz-1",
         "lat": [
          -2.87389,
          -2.87389,
          -2.87389,
          -2.87389,
          -2.87389
         ],
         "line": {
          "color": "#FF9900",
          "width": 2
         },
         "lon": [
          36.2128,
          36.2128,
          36.2128,
          36.2128,
          36.2128
         ],
         "mode": "markers+lines",
         "name": "Non-Iberian relict",
         "opacity": 0.5,
         "showlegend": false,
         "type": "scattergeo"
        },
        {
         "hoverinfo": "text",
         "hovertext": "Col-0",
         "lat": [
          52.7325,
          52.7325,
          52.7325,
          52.7325,
          52.7325
         ],
         "line": {
          "color": "#3366CC",
          "width": 2
         },
         "lon": [
          15.2369,
          15.2369,
          15.2369,
          15.2369,
          15.2369
         ],
         "mode": "markers+lines",
         "name": "Eurasian",
         "opacity": 0.5,
         "showlegend": false,
         "type": "scattergeo"
        },
        {
         "hoverinfo": "text",
         "hovertext": "Ey15-2",
         "lat": [
          48.434522,
          48.434522,
          48.434522,
          48.434522,
          48.434522
         ],
         "line": {
          "color": "#3366CC",
          "width": 2
         },
         "lon": [
          8.767808,
          8.767808,
          8.767808,
          8.767808,
          8.767808
         ],
         "mode": "markers+lines",
         "name": "Eurasian",
         "opacity": 0.5,
         "showlegend": false,
         "type": "scattergeo"
        },
        {
         "hoverinfo": "text",
         "hovertext": "Kew-1",
         "lat": [
          51.4819,
          51.47822087292295,
          51.44510853266575,
          51.11397427416754,
          47.934897173999765
         ],
         "line": {
          "color": "#3366CC",
          "width": 2
         },
         "lon": [
          -0.2887,
          -0.2873381950521111,
          -0.27508206135359914,
          -0.15251683206723363,
          1.0242154173950901
         ],
         "mode": "markers+lines",
         "name": "Eurasian",
         "opacity": 0.5,
         "showlegend": false,
         "type": "scattergeo"
        }
       ],
       "layout": {
        "geo": {
         "landcolor": "rgb(232, 232, 232)",
         "lataxis": {
          "dtick": 5,
          "gridwidth": 0.5,
          "range": [
           30,
           63.8794
          ],
          "showgrid": true
         },
         "lonaxis": {
          "dtick": 5,
          "gridwidth": 0.5,
          "range": [
           -24.6167,
           37.2128
          ],
          "showgrid": true
         },
         "projection": {
          "type": "equirectangular"
         },
         "resolution": 50,
         "scope": "world",
         "showcountries": true,
         "showland": true
        },
        "legend": {
         "bgcolor": "rgba(0,0,0,0)",
         "title": {
          "text": ""
         },
         "x": 0.125,
         "xanchor": "left",
         "y": 0.95,
         "yanchor": "top"
        },
        "template": {
         "data": {
          "bar": [
           {
            "error_x": {
             "color": "#2a3f5f"
            },
            "error_y": {
             "color": "#2a3f5f"
            },
            "marker": {
             "line": {
              "color": "#E5ECF6",
              "width": 0.5
             },
             "pattern": {
              "fillmode": "overlay",
              "size": 10,
              "solidity": 0.2
             }
            },
            "type": "bar"
           }
          ],
          "barpolar": [
           {
            "marker": {
             "line": {
              "color": "#E5ECF6",
              "width": 0.5
             },
             "pattern": {
              "fillmode": "overlay",
              "size": 10,
              "solidity": 0.2
             }
            },
            "type": "barpolar"
           }
          ],
          "carpet": [
           {
            "aaxis": {
             "endlinecolor": "#2a3f5f",
             "gridcolor": "white",
             "linecolor": "white",
             "minorgridcolor": "white",
             "startlinecolor": "#2a3f5f"
            },
            "baxis": {
             "endlinecolor": "#2a3f5f",
             "gridcolor": "white",
             "linecolor": "white",
             "minorgridcolor": "white",
             "startlinecolor": "#2a3f5f"
            },
            "type": "carpet"
           }
          ],
          "choropleth": [
           {
            "colorbar": {
             "outlinewidth": 0,
             "ticks": ""
            },
            "type": "choropleth"
           }
          ],
          "contour": [
           {
            "colorbar": {
             "outlinewidth": 0,
             "ticks": ""
            },
            "colorscale": [
             [
              0,
              "#0d0887"
             ],
             [
              0.1111111111111111,
              "#46039f"
             ],
             [
              0.2222222222222222,
              "#7201a8"
             ],
             [
              0.3333333333333333,
              "#9c179e"
             ],
             [
              0.4444444444444444,
              "#bd3786"
             ],
             [
              0.5555555555555556,
              "#d8576b"
             ],
             [
              0.6666666666666666,
              "#ed7953"
             ],
             [
              0.7777777777777778,
              "#fb9f3a"
             ],
             [
              0.8888888888888888,
              "#fdca26"
             ],
             [
              1,
              "#f0f921"
             ]
            ],
            "type": "contour"
           }
          ],
          "contourcarpet": [
           {
            "colorbar": {
             "outlinewidth": 0,
             "ticks": ""
            },
            "type": "contourcarpet"
           }
          ],
          "heatmap": [
           {
            "colorbar": {
             "outlinewidth": 0,
             "ticks": ""
            },
            "colorscale": [
             [
              0,
              "#0d0887"
             ],
             [
              0.1111111111111111,
              "#46039f"
             ],
             [
              0.2222222222222222,
              "#7201a8"
             ],
             [
              0.3333333333333333,
              "#9c179e"
             ],
             [
              0.4444444444444444,
              "#bd3786"
             ],
             [
              0.5555555555555556,
              "#d8576b"
             ],
             [
              0.6666666666666666,
              "#ed7953"
             ],
             [
              0.7777777777777778,
              "#fb9f3a"
             ],
             [
              0.8888888888888888,
              "#fdca26"
             ],
             [
              1,
              "#f0f921"
             ]
            ],
            "type": "heatmap"
           }
          ],
          "heatmapgl": [
           {
            "colorbar": {
             "outlinewidth": 0,
             "ticks": ""
            },
            "colorscale": [
             [
              0,
              "#0d0887"
             ],
             [
              0.1111111111111111,
              "#46039f"
             ],
             [
              0.2222222222222222,
              "#7201a8"
             ],
             [
              0.3333333333333333,
              "#9c179e"
             ],
             [
              0.4444444444444444,
              "#bd3786"
             ],
             [
              0.5555555555555556,
              "#d8576b"
             ],
             [
              0.6666666666666666,
              "#ed7953"
             ],
             [
              0.7777777777777778,
              "#fb9f3a"
             ],
             [
              0.8888888888888888,
              "#fdca26"
             ],
             [
              1,
              "#f0f921"
             ]
            ],
            "type": "heatmapgl"
           }
          ],
          "histogram": [
           {
            "marker": {
             "pattern": {
              "fillmode": "overlay",
              "size": 10,
              "solidity": 0.2
             }
            },
            "type": "histogram"
           }
          ],
          "histogram2d": [
           {
            "colorbar": {
             "outlinewidth": 0,
             "ticks": ""
            },
            "colorscale": [
             [
              0,
              "#0d0887"
             ],
             [
              0.1111111111111111,
              "#46039f"
             ],
             [
              0.2222222222222222,
              "#7201a8"
             ],
             [
              0.3333333333333333,
              "#9c179e"
             ],
             [
              0.4444444444444444,
              "#bd3786"
             ],
             [
              0.5555555555555556,
              "#d8576b"
             ],
             [
              0.6666666666666666,
              "#ed7953"
             ],
             [
              0.7777777777777778,
              "#fb9f3a"
             ],
             [
              0.8888888888888888,
              "#fdca26"
             ],
             [
              1,
              "#f0f921"
             ]
            ],
            "type": "histogram2d"
           }
          ],
          "histogram2dcontour": [
           {
            "colorbar": {
             "outlinewidth": 0,
             "ticks": ""
            },
            "colorscale": [
             [
              0,
              "#0d0887"
             ],
             [
              0.1111111111111111,
              "#46039f"
             ],
             [
              0.2222222222222222,
              "#7201a8"
             ],
             [
              0.3333333333333333,
              "#9c179e"
             ],
             [
              0.4444444444444444,
              "#bd3786"
             ],
             [
              0.5555555555555556,
              "#d8576b"
             ],
             [
              0.6666666666666666,
              "#ed7953"
             ],
             [
              0.7777777777777778,
              "#fb9f3a"
             ],
             [
              0.8888888888888888,
              "#fdca26"
             ],
             [
              1,
              "#f0f921"
             ]
            ],
            "type": "histogram2dcontour"
           }
          ],
          "mesh3d": [
           {
            "colorbar": {
             "outlinewidth": 0,
             "ticks": ""
            },
            "type": "mesh3d"
           }
          ],
          "parcoords": [
           {
            "line": {
             "colorbar": {
              "outlinewidth": 0,
              "ticks": ""
             }
            },
            "type": "parcoords"
           }
          ],
          "pie": [
           {
            "automargin": true,
            "type": "pie"
           }
          ],
          "scatter": [
           {
            "fillpattern": {
             "fillmode": "overlay",
             "size": 10,
             "solidity": 0.2
            },
            "type": "scatter"
           }
          ],
          "scatter3d": [
           {
            "line": {
             "colorbar": {
              "outlinewidth": 0,
              "ticks": ""
             }
            },
            "marker": {
             "colorbar": {
              "outlinewidth": 0,
              "ticks": ""
             }
            },
            "type": "scatter3d"
           }
          ],
          "scattercarpet": [
           {
            "marker": {
             "colorbar": {
              "outlinewidth": 0,
              "ticks": ""
             }
            },
            "type": "scattercarpet"
           }
          ],
          "scattergeo": [
           {
            "marker": {
             "colorbar": {
              "outlinewidth": 0,
              "ticks": ""
             }
            },
            "type": "scattergeo"
           }
          ],
          "scattergl": [
           {
            "marker": {
             "colorbar": {
              "outlinewidth": 0,
              "ticks": ""
             }
            },
            "type": "scattergl"
           }
          ],
          "scattermapbox": [
           {
            "marker": {
             "colorbar": {
              "outlinewidth": 0,
              "ticks": ""
             }
            },
            "type": "scattermapbox"
           }
          ],
          "scatterpolar": [
           {
            "marker": {
             "colorbar": {
              "outlinewidth": 0,
              "ticks": ""
             }
            },
            "type": "scatterpolar"
           }
          ],
          "scatterpolargl": [
           {
            "marker": {
             "colorbar": {
              "outlinewidth": 0,
              "ticks": ""
             }
            },
            "type": "scatterpolargl"
           }
          ],
          "scatterternary": [
           {
            "marker": {
             "colorbar": {
              "outlinewidth": 0,
              "ticks": ""
             }
            },
            "type": "scatterternary"
           }
          ],
          "surface": [
           {
            "colorbar": {
             "outlinewidth": 0,
             "ticks": ""
            },
            "colorscale": [
             [
              0,
              "#0d0887"
             ],
             [
              0.1111111111111111,
              "#46039f"
             ],
             [
              0.2222222222222222,
              "#7201a8"
             ],
             [
              0.3333333333333333,
              "#9c179e"
             ],
             [
              0.4444444444444444,
              "#bd3786"
             ],
             [
              0.5555555555555556,
              "#d8576b"
             ],
             [
              0.6666666666666666,
              "#ed7953"
             ],
             [
              0.7777777777777778,
              "#fb9f3a"
             ],
             [
              0.8888888888888888,
              "#fdca26"
             ],
             [
              1,
              "#f0f921"
             ]
            ],
            "type": "surface"
           }
          ],
          "table": [
           {
            "cells": {
             "fill": {
              "color": "#EBF0F8"
             },
             "line": {
              "color": "white"
             }
            },
            "header": {
             "fill": {
              "color": "#C8D4E3"
             },
             "line": {
              "color": "white"
             }
            },
            "type": "table"
           }
          ]
         },
         "layout": {
          "annotationdefaults": {
           "arrowcolor": "#2a3f5f",
           "arrowhead": 0,
           "arrowwidth": 1
          },
          "autotypenumbers": "strict",
          "coloraxis": {
           "colorbar": {
            "outlinewidth": 0,
            "ticks": ""
           }
          },
          "colorscale": {
           "diverging": [
            [
             0,
             "#8e0152"
            ],
            [
             0.1,
             "#c51b7d"
            ],
            [
             0.2,
             "#de77ae"
            ],
            [
             0.3,
             "#f1b6da"
            ],
            [
             0.4,
             "#fde0ef"
            ],
            [
             0.5,
             "#f7f7f7"
            ],
            [
             0.6,
             "#e6f5d0"
            ],
            [
             0.7,
             "#b8e186"
            ],
            [
             0.8,
             "#7fbc41"
            ],
            [
             0.9,
             "#4d9221"
            ],
            [
             1,
             "#276419"
            ]
           ],
           "sequential": [
            [
             0,
             "#0d0887"
            ],
            [
             0.1111111111111111,
             "#46039f"
            ],
            [
             0.2222222222222222,
             "#7201a8"
            ],
            [
             0.3333333333333333,
             "#9c179e"
            ],
            [
             0.4444444444444444,
             "#bd3786"
            ],
            [
             0.5555555555555556,
             "#d8576b"
            ],
            [
             0.6666666666666666,
             "#ed7953"
            ],
            [
             0.7777777777777778,
             "#fb9f3a"
            ],
            [
             0.8888888888888888,
             "#fdca26"
            ],
            [
             1,
             "#f0f921"
            ]
           ],
           "sequentialminus": [
            [
             0,
             "#0d0887"
            ],
            [
             0.1111111111111111,
             "#46039f"
            ],
            [
             0.2222222222222222,
             "#7201a8"
            ],
            [
             0.3333333333333333,
             "#9c179e"
            ],
            [
             0.4444444444444444,
             "#bd3786"
            ],
            [
             0.5555555555555556,
             "#d8576b"
            ],
            [
             0.6666666666666666,
             "#ed7953"
            ],
            [
             0.7777777777777778,
             "#fb9f3a"
            ],
            [
             0.8888888888888888,
             "#fdca26"
            ],
            [
             1,
             "#f0f921"
            ]
           ]
          },
          "colorway": [
           "#636efa",
           "#EF553B",
           "#00cc96",
           "#ab63fa",
           "#FFA15A",
           "#19d3f3",
           "#FF6692",
           "#B6E880",
           "#FF97FF",
           "#FECB52"
          ],
          "font": {
           "color": "#2a3f5f"
          },
          "geo": {
           "bgcolor": "white",
           "lakecolor": "white",
           "landcolor": "#E5ECF6",
           "showlakes": true,
           "showland": true,
           "subunitcolor": "white"
          },
          "hoverlabel": {
           "align": "left"
          },
          "hovermode": "closest",
          "mapbox": {
           "style": "light"
          },
          "paper_bgcolor": "white",
          "plot_bgcolor": "#E5ECF6",
          "polar": {
           "angularaxis": {
            "gridcolor": "white",
            "linecolor": "white",
            "ticks": ""
           },
           "bgcolor": "#E5ECF6",
           "radialaxis": {
            "gridcolor": "white",
            "linecolor": "white",
            "ticks": ""
           }
          },
          "scene": {
           "xaxis": {
            "backgroundcolor": "#E5ECF6",
            "gridcolor": "white",
            "gridwidth": 2,
            "linecolor": "white",
            "showbackground": true,
            "ticks": "",
            "zerolinecolor": "white"
           },
           "yaxis": {
            "backgroundcolor": "#E5ECF6",
            "gridcolor": "white",
            "gridwidth": 2,
            "linecolor": "white",
            "showbackground": true,
            "ticks": "",
            "zerolinecolor": "white"
           },
           "zaxis": {
            "backgroundcolor": "#E5ECF6",
            "gridcolor": "white",
            "gridwidth": 2,
            "linecolor": "white",
            "showbackground": true,
            "ticks": "",
            "zerolinecolor": "white"
           }
          },
          "shapedefaults": {
           "line": {
            "color": "#2a3f5f"
           }
          },
          "ternary": {
           "aaxis": {
            "gridcolor": "white",
            "linecolor": "white",
            "ticks": ""
           },
           "baxis": {
            "gridcolor": "white",
            "linecolor": "white",
            "ticks": ""
           },
           "bgcolor": "#E5ECF6",
           "caxis": {
            "gridcolor": "white",
            "linecolor": "white",
            "ticks": ""
           }
          },
          "title": {
           "x": 0.05
          },
          "xaxis": {
           "automargin": true,
           "gridcolor": "white",
           "linecolor": "white",
           "ticks": "",
           "title": {
            "standoff": 15
           },
           "zerolinecolor": "white",
           "zerolinewidth": 2
          },
          "yaxis": {
           "automargin": true,
           "gridcolor": "white",
           "linecolor": "white",
           "ticks": "",
           "title": {
            "standoff": 15
           },
           "zerolinecolor": "white",
           "zerolinewidth": 2
          }
         }
        }
       }
      },
      "text/html": [
       "<div>                            <div id=\"1c4dcbf7-cb96-4907-aca5-13be85131d42\" class=\"plotly-graph-div\" style=\"height:525px; width:100%;\"></div>            <script type=\"text/javascript\">                require([\"plotly\"], function(Plotly) {                    window.PLOTLYENV=window.PLOTLYENV || {};                                    if (document.getElementById(\"1c4dcbf7-cb96-4907-aca5-13be85131d42\")) {                    Plotly.newPlot(                        \"1c4dcbf7-cb96-4907-aca5-13be85131d42\",                        [{\"hoverinfo\":\"text\",\"hovertext\":\"6137\",\"lat\":[55.9419,55.885301083871596,55.375911050617866,50.282005396190065,43.977120331346455],\"line\":{\"color\":\"#3366CC\",\"width\":2},\"lon\":[13.5603,13.507006513392493,13.027364920134787,8.230947919488749,2.070454615447162],\"mode\":\"markers+lines\",\"name\":\"Eurasian\",\"opacity\":0.5,\"type\":\"scattergeo\"},{\"hoverinfo\":\"text\",\"hovertext\":\"9762\",\"lat\":[37.69,37.69,37.69,37.69,37.69],\"line\":{\"color\":\"#FF9900\",\"width\":2},\"lon\":[14.98,14.98,14.98,14.98,14.98],\"mode\":\"markers+lines\",\"name\":\"Non-Iberian relict\",\"opacity\":0.5,\"type\":\"scattergeo\"},{\"hoverinfo\":\"text\",\"hovertext\":\"9744\",\"lat\":[47.16,47.16,47.16,47.16,47.16],\"line\":{\"color\":\"#3366CC\",\"width\":2},\"lon\":[27.59,27.59,27.59,27.59,27.59],\"mode\":\"markers+lines\",\"name\":\"Eurasian\",\"opacity\":0.5,\"type\":\"scattergeo\",\"showlegend\":false},{\"hoverinfo\":\"text\",\"hovertext\":\"6923\",\"lat\":[51.4083,51.37802552802435,51.105555670676274,48.38085256547472,43.51459960013841],\"line\":{\"color\":\"#3366CC\",\"width\":2},\"lon\":[-0.6383,-0.6358220581899948,-0.6135202533012855,-0.39050690866819243,-1.5561996339865016],\"mode\":\"markers+lines\",\"name\":\"Eurasian\",\"opacity\":0.5,\"type\":\"scattergeo\",\"showlegend\":false},{\"hoverinfo\":\"text\",\"hovertext\":\"9879\",\"lat\":[37.6,37.60441046315545,37.64410454795466,38.04105726401944,40.23062056580876],\"line\":{\"color\":\"#DC3912\",\"width\":2},\"lon\":[-1.12,-1.1185607553965158,-1.1056075954041893,-0.9760592624129423,-0.26147849341541146],\"mode\":\"markers+lines\",\"name\":\"Iberian relict\",\"opacity\":0.5,\"type\":\"scattergeo\"},{\"hoverinfo\":\"text\",\"hovertext\":\"9806\",\"lat\":[48.56,48.56,48.56,48.56,48.56],\"line\":{\"color\":\"#3366CC\",\"width\":2},\"lon\":[9.16,9.16,9.16,9.16,9.16],\"mode\":\"markers+lines\",\"name\":\"Eurasian\",\"opacity\":0.5,\"type\":\"scattergeo\",\"showlegend\":false},{\"hoverinfo\":\"text\",\"hovertext\":\"9847\",\"lat\":[43.31,43.31,43.31,43.31,43.31],\"line\":{\"color\":\"#3366CC\",\"width\":2},\"lon\":[-5.7,-5.7,-5.7,-5.7,-5.7],\"mode\":\"markers+lines\",\"name\":\"Eurasian\",\"opacity\":0.5,\"type\":\"scattergeo\",\"showlegend\":false},{\"hoverinfo\":\"text\",\"hovertext\":\"9830\",\"lat\":[36.97,36.987240421843794,37.14240476781708,38.6940418946484,46.428842425568575],\"line\":{\"color\":\"#3366CC\",\"width\":2},\"lon\":[-3.28,-3.2799368921301113,-3.279368394212595,-3.2736899804209645,-3.245349244820579],\"mode\":\"markers+lines\",\"name\":\"Eurasian\",\"opacity\":0.5,\"type\":\"scattergeo\",\"showlegend\":false},{\"hoverinfo\":\"text\",\"hovertext\":\"9503\",\"lat\":[55.8877,55.870459521500145,55.71529579425511,54.16365552195122,46.428872120794026],\"line\":{\"color\":\"#3366CC\",\"width\":2},\"lon\":[-3.21072,-3.2107831611359314,-3.21135095570409,-3.2170319027253838,-3.245349884228015],\"mode\":\"markers+lines\",\"name\":\"Eurasian\",\"opacity\":0.5,\"type\":\"scattergeo\",\"showlegend\":false},{\"hoverinfo\":\"text\",\"hovertext\":\"9900\",\"lat\":[37.38,37.38,37.38,37.38,37.38],\"line\":{\"color\":\"#3366CC\",\"width\":2},\"lon\":[-6.01,-6.01,-6.01,-6.01,-6.01],\"mode\":\"markers+lines\",\"name\":\"Eurasian\",\"opacity\":0.5,\"type\":\"scattergeo\",\"showlegend\":false},{\"hoverinfo\":\"text\",\"hovertext\":\"7143\",\"lat\":[51.0167,51.0167,51.0167,51.0167,51.0167],\"line\":{\"color\":\"#3366CC\",\"width\":2},\"lon\":[5.86667,5.86667,5.86667,5.86667,5.86667],\"mode\":\"markers+lines\",\"name\":\"Eurasian\",\"opacity\":0.5,\"type\":\"scattergeo\",\"showlegend\":false},{\"hoverinfo\":\"text\",\"hovertext\":\"8285\",\"lat\":[49.4112,49.4112,49.4112,49.4112,49.4112],\"line\":{\"color\":\"#3366CC\",\"width\":2},\"lon\":[16.2815,16.2815,16.2815,16.2815,16.2815],\"mode\":\"markers+lines\",\"name\":\"Eurasian\",\"opacity\":0.5,\"type\":\"scattergeo\",\"showlegend\":false},{\"hoverinfo\":\"text\",\"hovertext\":\"9336\",\"lat\":[62.8794,62.8794,62.8794,62.8794,62.8794],\"line\":{\"color\":\"#3366CC\",\"width\":2},\"lon\":[18.4473,18.4473,18.4473,18.4473,18.4473],\"mode\":\"markers+lines\",\"name\":\"Eurasian\",\"opacity\":0.5,\"type\":\"scattergeo\",\"showlegend\":false},{\"hoverinfo\":\"text\",\"hovertext\":\"9852\",\"lat\":[40.46,40.46010060862891,40.461006045083955,40.439286244680964,40.36842016300417],\"line\":{\"color\":\"#3366CC\",\"width\":2},\"lon\":[-3.75,-3.753357091101008,-3.783571025299545,-3.898530453783976,-4.000655009261314],\"mode\":\"markers+lines\",\"name\":\"Eurasian\",\"opacity\":0.5,\"type\":\"scattergeo\",\"showlegend\":false},{\"hoverinfo\":\"text\",\"hovertext\":\"9883\",\"lat\":[42.1,42.101415243493975,42.11415249786928,42.24154425615843,43.51462991008864],\"line\":{\"color\":\"#3366CC\",\"width\":2},\"lon\":[-2.56,-2.5589957428951307,-2.54995747150372,-2.459535948025973,-1.5561281923462957],\"mode\":\"markers+lines\",\"name\":\"Eurasian\",\"opacity\":0.5,\"type\":\"scattergeo\",\"showlegend\":false},{\"hoverinfo\":\"text\",\"hovertext\":\"BROU-A-10\",\"lat\":[43.999349,44.013152274908364,44.1373819504863,45.504951741216516,43.97694454116005],\"line\":{\"color\":\"#3366CC\",\"width\":2},\"lon\":[2.621684,2.63189404406598,2.7237846214869075,3.768979275656606,2.0703428504114814],\"mode\":\"markers+lines\",\"name\":\"Eurasian\",\"opacity\":0.5,\"type\":\"scattergeo\",\"showlegend\":false},{\"hoverinfo\":\"text\",\"hovertext\":\"SALE-A-17\",\"lat\":[43.024966,43.024966,43.024966,43.024966,43.024966],\"line\":{\"color\":\"#3366CC\",\"width\":2},\"lon\":[0.965965,0.965965,0.965965,0.965965,0.965965],\"mode\":\"markers+lines\",\"name\":\"Eurasian\",\"opacity\":0.5,\"type\":\"scattergeo\",\"showlegend\":false},{\"hoverinfo\":\"text\",\"hovertext\":\"Evs-0\",\"lat\":[40.479175,40.479175,40.479175,40.479175,40.479175],\"line\":{\"color\":\"#3366CC\",\"width\":2},\"lon\":[-3.959696,-3.959696,-3.959696,-3.959696,-3.959696],\"mode\":\"markers+lines\",\"name\":\"Eurasian\",\"opacity\":0.5,\"type\":\"scattergeo\",\"showlegend\":false},{\"hoverinfo\":\"text\",\"hovertext\":\"BARC-A-17\",\"lat\":[43.362044,43.35599699117194,43.27899701211848,43.11168578630952,43.04685597255747],\"line\":{\"color\":\"#3366CC\",\"width\":2},\"lon\":[0.387723,0.3852522952878235,0.35379111607241087,0.43197233328817153,0.8135958989641902],\"mode\":\"markers+lines\",\"name\":\"Eurasian\",\"opacity\":0.5,\"type\":\"scattergeo\",\"showlegend\":false},{\"hoverinfo\":\"text\",\"hovertext\":\"BANI-C-12\",\"lat\":[43.043644,43.04586458698263,43.06585007474554,43.111721561341696,43.046739284886826],\"line\":{\"color\":\"#3366CC\",\"width\":2},\"lon\":[0.234303,0.23626891913404444,0.25396235299796777,0.43200854063683725,0.81348467827958],\"mode\":\"markers+lines\",\"name\":\"Eurasian\",\"opacity\":0.5,\"type\":\"scattergeo\",\"showlegend\":false},{\"hoverinfo\":\"text\",\"hovertext\":\"Cvi-0\",\"lat\":[15.1111,15.1111,15.1111,15.1111,15.1111],\"line\":{\"color\":\"#FF9900\",\"width\":2},\"lon\":[-23.6167,-23.6167,-23.6167,-23.6167,-23.6167],\"mode\":\"markers+lines\",\"name\":\"Non-Iberian relict\",\"opacity\":0.5,\"type\":\"scattergeo\",\"showlegend\":false},{\"hoverinfo\":\"text\",\"hovertext\":\"Cas-6\",\"lat\":[38.534077,38.534077,38.534077,38.534077,38.534077],\"line\":{\"color\":\"#DC3912\",\"width\":2},\"lon\":[-3.39072,-3.39072,-3.39072,-3.39072,-3.39072],\"mode\":\"markers+lines\",\"name\":\"Iberian relict\",\"opacity\":0.5,\"type\":\"scattergeo\",\"showlegend\":false},{\"hoverinfo\":\"text\",\"hovertext\":\"MERE-A-13\",\"lat\":[42.656618,42.66370282960999,42.72746650377409,43.36512330562535,43.51465800950056],\"line\":{\"color\":\"#3366CC\",\"width\":2},\"lon\":[1.836221,1.826282536189704,1.7368367632627468,0.8423662640658011,-1.5563318364385201],\"mode\":\"markers+lines\",\"name\":\"Eurasian\",\"opacity\":0.5,\"type\":\"scattergeo\",\"showlegend\":false},{\"hoverinfo\":\"text\",\"hovertext\":\"Hum-4\",\"lat\":[42.227184,42.227184,42.227184,42.227184,42.227184],\"line\":{\"color\":\"#3366CC\",\"width\":2},\"lon\":[-3.688887,-3.688887,-3.688887,-3.688887,-3.688887],\"mode\":\"markers+lines\",\"name\":\"Eurasian\",\"opacity\":0.5,\"type\":\"scattergeo\",\"showlegend\":false},{\"hoverinfo\":\"text\",\"hovertext\":\"San-9\",\"lat\":[38.331366,38.33261905593539,38.343896528545514,38.45667273098545,39.34427936937348],\"line\":{\"color\":\"#DC3912\",\"width\":2},\"lon\":[-3.508882,-3.509182654847616,-3.511888516859092,-3.538948158307649,-3.7519073797544458],\"mode\":\"markers+lines\",\"name\":\"Iberian relict\",\"opacity\":0.5,\"type\":\"scattergeo\",\"showlegend\":false},{\"hoverinfo\":\"text\",\"hovertext\":\"Med-0\",\"lat\":[42.455239,42.455239,42.455239,42.455239,42.455239],\"line\":{\"color\":\"#DC3912\",\"width\":2},\"lon\":[-6.765742,-6.765742,-6.765742,-6.765742,-6.765742],\"mode\":\"markers+lines\",\"name\":\"Iberian relict\",\"opacity\":0.5,\"type\":\"scattergeo\",\"showlegend\":false},{\"hoverinfo\":\"text\",\"hovertext\":\"BANI-C-1\",\"lat\":[43.043644,43.04965212534537,43.103725341772744,43.111721561341696,43.046739284886826],\"line\":{\"color\":\"#3366CC\",\"width\":2},\"lon\":[0.234303,0.2378164532542523,0.2694375786925566,0.43200854063683725,0.81348467827958],\"mode\":\"markers+lines\",\"name\":\"Eurasian\",\"opacity\":0.5,\"type\":\"scattergeo\",\"showlegend\":false},{\"hoverinfo\":\"text\",\"hovertext\":\"Mos-5\",\"lat\":[40.040579,40.040579,40.040579,40.040579,40.040579],\"line\":{\"color\":\"#3366CC\",\"width\":2},\"lon\":[-7.110302,-7.110302,-7.110302,-7.110302,-7.110302],\"mode\":\"markers+lines\",\"name\":\"Eurasian\",\"opacity\":0.5,\"type\":\"scattergeo\",\"showlegend\":false},{\"hoverinfo\":\"text\",\"hovertext\":\"AUZE-A-5\",\"lat\":[43.527792,43.52108036659889,43.46067569042926,42.85661922295776,42.172084507141435],\"line\":{\"color\":\"#3366CC\",\"width\":2},\"lon\":[1.491628,1.4837610830210521,1.4129589464334038,0.704922468495711,-0.09742623462779397],\"mode\":\"markers+lines\",\"name\":\"Eurasian\",\"opacity\":0.5,\"type\":\"scattergeo\",\"showlegend\":false},{\"hoverinfo\":\"text\",\"hovertext\":\"Mos-9\",\"lat\":[40.040579,40.040579,40.040579,40.040579,40.040579],\"line\":{\"color\":\"#DC3912\",\"width\":2},\"lon\":[-7.110302,-7.110302,-7.110302,-7.110302,-7.110302],\"mode\":\"markers+lines\",\"name\":\"Iberian relict\",\"opacity\":0.5,\"type\":\"scattergeo\",\"showlegend\":false},{\"hoverinfo\":\"text\",\"hovertext\":\"Ler-0\",\"lat\":[52.7325,52.7325,52.7325,52.7325,52.7325],\"line\":{\"color\":\"#3366CC\",\"width\":2},\"lon\":[15.2369,15.2369,15.2369,15.2369,15.2369],\"mode\":\"markers+lines\",\"name\":\"Eurasian\",\"opacity\":0.5,\"type\":\"scattergeo\",\"showlegend\":false},{\"hoverinfo\":\"text\",\"hovertext\":\"Mdc-14\",\"lat\":[38.874341,38.874341,38.874341,38.874341,38.874341],\"line\":{\"color\":\"#3366CC\",\"width\":2},\"lon\":[-3.52962,-3.52962,-3.52962,-3.52962,-3.52962],\"mode\":\"markers+lines\",\"name\":\"Eurasian\",\"opacity\":0.5,\"type\":\"scattergeo\",\"showlegend\":false},{\"hoverinfo\":\"text\",\"hovertext\":\"MONTM-B-7\",\"lat\":[42.861218,42.861218,42.861218,42.861218,42.861218],\"line\":{\"color\":\"#3366CC\",\"width\":2},\"lon\":[0.596869,0.596869,0.596869,0.596869,0.596869],\"mode\":\"markers+lines\",\"name\":\"Eurasian\",\"opacity\":0.5,\"type\":\"scattergeo\",\"showlegend\":false},{\"hoverinfo\":\"text\",\"hovertext\":\"ANGE-B-10\",\"lat\":[43.9121,43.9121,43.9121,43.9121,43.9121],\"line\":{\"color\":\"#3366CC\",\"width\":2},\"lon\":[1.6569,1.6569,1.6569,1.6569,1.6569],\"mode\":\"markers+lines\",\"name\":\"Eurasian\",\"opacity\":0.5,\"type\":\"scattergeo\",\"showlegend\":false},{\"hoverinfo\":\"text\",\"hovertext\":\"Sln-22\",\"lat\":[40.356889,40.35563591781194,40.344358136289266,40.23157835176593,39.344010508929586],\"line\":{\"color\":\"#DC3912\",\"width\":2},\"lon\":[-3.994843,-3.9945423804989084,-3.9918367228131144,-3.964780682045095,-3.7517765802306147],\"mode\":\"markers+lines\",\"name\":\"Iberian relict\",\"opacity\":0.5,\"type\":\"scattergeo\",\"showlegend\":false},{\"hoverinfo\":\"text\",\"hovertext\":\"CAMA-C-2\",\"lat\":[43.824878,43.82698443856427,43.86254706986735,44.74605627625675,43.51456233755334],\"line\":{\"color\":\"#3366CC\",\"width\":2},\"lon\":[2.881661,2.8739212767476854,2.7432549915588478,1.2762936699664276,-1.5562296766775205],\"mode\":\"markers+lines\",\"name\":\"Eurasian\",\"opacity\":0.5,\"type\":\"scattergeo\",\"showlegend\":false},{\"hoverinfo\":\"text\",\"hovertext\":\"BELC-C-10\",\"lat\":[44.389212,44.391810114081714,44.42492199888873,44.75605678851098,47.93512181838822],\"line\":{\"color\":\"#3366CC\",\"width\":2},\"lon\":[2.336636,2.3356743199746335,2.3234177815196055,2.200852348802641,1.0241091340260238],\"mode\":\"markers+lines\",\"name\":\"Eurasian\",\"opacity\":0.5,\"type\":\"scattergeo\",\"showlegend\":false},{\"hoverinfo\":\"text\",\"hovertext\":\"MONTM-B-16\",\"lat\":[42.861218,42.856807528258415,42.81711307185812,42.42015716277321,40.23062310221322],\"line\":{\"color\":\"#3366CC\",\"width\":2},\"lon\":[0.596869,0.5954297436513999,0.5824761265634242,0.4529238723425675,-0.26162189459630003],\"mode\":\"markers+lines\",\"name\":\"Eurasian\",\"opacity\":0.5,\"type\":\"scattergeo\",\"showlegend\":false},{\"hoverinfo\":\"text\",\"hovertext\":\"FERR-A-8\",\"lat\":[43.6577,43.66610045180675,43.74170467183251,44.746041562635405,43.51457481541411],\"line\":{\"color\":\"#3366CC\",\"width\":2},\"lon\":[2.4437,2.441149311584143,2.418193221231813,1.2763035078038416,-1.5562240019153197],\"mode\":\"markers+lines\",\"name\":\"Eurasian\",\"opacity\":0.5,\"type\":\"scattergeo\",\"showlegend\":false},{\"hoverinfo\":\"text\",\"hovertext\":\"Hum-2\",\"lat\":[42.227184,42.227184,42.227184,42.227184,42.227184],\"line\":{\"color\":\"#DC3912\",\"width\":2},\"lon\":[-3.688887,-3.688887,-3.688887,-3.688887,-3.688887],\"mode\":\"markers+lines\",\"name\":\"Iberian relict\",\"opacity\":0.5,\"type\":\"scattergeo\",\"showlegend\":false},{\"hoverinfo\":\"text\",\"hovertext\":\"Med-3\",\"lat\":[42.455239,42.46466148361702,42.54946412823529,43.39752407967611,43.51461292766349],\"line\":{\"color\":\"#3366CC\",\"width\":2},\"lon\":[-6.765742,-6.742216624471199,-6.530487911407007,-4.41318512776485,-1.5561995641022057],\"mode\":\"markers+lines\",\"name\":\"Eurasian\",\"opacity\":0.5,\"type\":\"scattergeo\",\"showlegend\":false},{\"hoverinfo\":\"text\",\"hovertext\":\"FERR-A-12\",\"lat\":[43.657743,43.67437086848759,43.8240218009175,45.504941860787085,43.97705890938523],\"line\":{\"color\":\"#3366CC\",\"width\":2},\"lon\":[2.44371,2.454725355821878,2.553863690382837,3.7689683982247653,2.07036371537943],\"mode\":\"markers+lines\",\"name\":\"Eurasian\",\"opacity\":0.5,\"type\":\"scattergeo\",\"showlegend\":false},{\"hoverinfo\":\"text\",\"hovertext\":\"22005\",\"lat\":[32.7536,32.7536,32.7536,32.7536,32.7536],\"line\":{\"color\":\"#FF9900\",\"width\":2},\"lon\":[-17.1297,-17.1297,-17.1297,-17.1297,-17.1297],\"mode\":\"markers+lines\",\"name\":\"Non-Iberian relict\",\"opacity\":0.5,\"type\":\"scattergeo\",\"showlegend\":false},{\"hoverinfo\":\"text\",\"hovertext\":\"Evs-12\",\"lat\":[40.479175,40.478709734244696,40.474522081523446,40.43930352912716,40.36859683798239],\"line\":{\"color\":\"#DC3912\",\"width\":2},\"lon\":[-3.959696,-3.9568646186802687,-3.931382494772678,-3.898502859534292,-4.00039818106864],\"mode\":\"markers+lines\",\"name\":\"Iberian relict\",\"opacity\":0.5,\"type\":\"scattergeo\",\"showlegend\":false},{\"hoverinfo\":\"text\",\"hovertext\":\"SALE-A-10\",\"lat\":[43.024966,43.02521046140753,43.02741072027636,43.04941472028967,43.04665391802853],\"line\":{\"color\":\"#3366CC\",\"width\":2},\"lon\":[0.965965,0.9644447585193767,0.9507626614726775,0.8139428485087453,0.8134493824032063],\"mode\":\"markers+lines\",\"name\":\"Eurasian\",\"opacity\":0.5,\"type\":\"scattergeo\",\"showlegend\":false},{\"hoverinfo\":\"text\",\"hovertext\":\"Lor-16\",\"lat\":[38.860067,38.860067,38.860067,38.860067,38.860067],\"line\":{\"color\":\"#DC3912\",\"width\":2},\"lon\":[-0.263499,-0.263499,-0.263499,-0.263499,-0.263499],\"mode\":\"markers+lines\",\"name\":\"Iberian relict\",\"opacity\":0.5,\"type\":\"scattergeo\",\"showlegend\":false},{\"hoverinfo\":\"text\",\"hovertext\":\"CAMA-C-9\",\"lat\":[43.824878,43.82698443856427,43.86254706986735,44.74605627625675,43.51456233755334],\"line\":{\"color\":\"#3366CC\",\"width\":2},\"lon\":[2.881661,2.8739212767476854,2.7432549915588478,1.2762936699664276,-1.5562296766775205],\"mode\":\"markers+lines\",\"name\":\"Eurasian\",\"opacity\":0.5,\"type\":\"scattergeo\",\"showlegend\":false},{\"hoverinfo\":\"text\",\"hovertext\":\"Alo-0\",\"lat\":[40.109691,40.109691,40.109691,40.109691,40.109691],\"line\":{\"color\":\"#3366CC\",\"width\":2},\"lon\":[-7.476146,-7.476146,-7.476146,-7.476146,-7.476146],\"mode\":\"markers+lines\",\"name\":\"Eurasian\",\"opacity\":0.5,\"type\":\"scattergeo\",\"showlegend\":false},{\"hoverinfo\":\"text\",\"hovertext\":\"BARC-A-12\",\"lat\":[43.362044,43.35599699117194,43.27899701211848,43.11168578630952,43.04685597255747],\"line\":{\"color\":\"#3366CC\",\"width\":2},\"lon\":[0.387723,0.3852522952878235,0.35379111607241087,0.43197233328817153,0.8135958989641902],\"mode\":\"markers+lines\",\"name\":\"Eurasian\",\"opacity\":0.5,\"type\":\"scattergeo\",\"showlegend\":false},{\"hoverinfo\":\"text\",\"hovertext\":\"Cas-0\",\"lat\":[38.534077,38.54641953300088,38.65750231276001,39.768345003978425,43.97705113935014],\"line\":{\"color\":\"#3366CC\",\"width\":2},\"lon\":[-3.39072,-3.378336205451879,-3.2668821701361326,-2.152305725227071,2.0704827689758654],\"mode\":\"markers+lines\",\"name\":\"Eurasian\",\"opacity\":0.5,\"type\":\"scattergeo\",\"showlegend\":false},{\"hoverinfo\":\"text\",\"hovertext\":\"Hom-4\",\"lat\":[40.816799,40.82351061253551,40.88391530957074,41.48797161842885,42.17251001073116],\"line\":{\"color\":\"#3366CC\",\"width\":2},\"lon\":[-1.68601,-1.6781431110383005,-1.6073409464334039,-0.8993039746619866,-0.09695196505372074],\"mode\":\"markers+lines\",\"name\":\"Eurasian\",\"opacity\":0.5,\"type\":\"scattergeo\",\"showlegend\":false},{\"hoverinfo\":\"text\",\"hovertext\":\"GAIL-B-11\",\"lat\":[43.909032,43.909032,43.909032,43.909032,43.909032],\"line\":{\"color\":\"#3366CC\",\"width\":2},\"lon\":[1.901077,1.901077,1.901077,1.901077,1.901077],\"mode\":\"markers+lines\",\"name\":\"Eurasian\",\"opacity\":0.5,\"type\":\"scattergeo\",\"showlegend\":false},{\"hoverinfo\":\"text\",\"hovertext\":\"BARA-C-5\",\"lat\":[44.270842,44.270842,44.270842,44.270842,44.270842],\"line\":{\"color\":\"#3366CC\",\"width\":2},\"lon\":[2.427551,2.427551,2.427551,2.427551,2.427551],\"mode\":\"markers+lines\",\"name\":\"Eurasian\",\"opacity\":0.5,\"type\":\"scattergeo\",\"showlegend\":false},{\"hoverinfo\":\"text\",\"hovertext\":\"Alo-19\",\"lat\":[40.109691,40.109691,40.109691,40.109691,40.109691],\"line\":{\"color\":\"#DC3912\",\"width\":2},\"lon\":[-7.476146,-7.476146,-7.476146,-7.476146,-7.476146],\"mode\":\"markers+lines\",\"name\":\"Iberian relict\",\"opacity\":0.5,\"type\":\"scattergeo\",\"showlegend\":false},{\"hoverinfo\":\"text\",\"hovertext\":\"BARA-C-3\",\"lat\":[44.270842,44.270842,44.270842,44.270842,44.270842],\"line\":{\"color\":\"#3366CC\",\"width\":2},\"lon\":[2.427551,2.427551,2.427551,2.427551,2.427551],\"mode\":\"markers+lines\",\"name\":\"Eurasian\",\"opacity\":0.5,\"type\":\"scattergeo\",\"showlegend\":false},{\"hoverinfo\":\"text\",\"hovertext\":\"PREI-A-14\",\"lat\":[43.717856,43.717856,43.717856,43.717856,43.717856],\"line\":{\"color\":\"#3366CC\",\"width\":2},\"lon\":[0.623298,0.623298,0.623298,0.623298,0.623298],\"mode\":\"markers+lines\",\"name\":\"Eurasian\",\"opacity\":0.5,\"type\":\"scattergeo\",\"showlegend\":false},{\"hoverinfo\":\"text\",\"hovertext\":\"BELC-C-12\",\"lat\":[44.389212,44.391810114081714,44.42492199888873,44.75605678851098,47.93512181838822],\"line\":{\"color\":\"#3366CC\",\"width\":2},\"lon\":[2.336636,2.3356743199746335,2.3234177815196055,2.200852348802641,1.0241091340260238],\"mode\":\"markers+lines\",\"name\":\"Eurasian\",\"opacity\":0.5,\"type\":\"scattergeo\",\"showlegend\":false},{\"hoverinfo\":\"text\",\"hovertext\":\"Cat-0\",\"lat\":[40.542081,40.542081,40.542081,40.542081,40.542081],\"line\":{\"color\":\"#DC3912\",\"width\":2},\"lon\":[-3.68695,-3.68695,-3.68695,-3.68695,-3.68695],\"mode\":\"markers+lines\",\"name\":\"Iberian relict\",\"opacity\":0.5,\"type\":\"scattergeo\",\"showlegend\":false},{\"hoverinfo\":\"text\",\"hovertext\":\"ANGE-B-2\",\"lat\":[43.91214,43.92596517736184,44.050391938927326,45.50493887841745,43.97713703315922],\"line\":{\"color\":\"#3366CC\",\"width\":2},\"lon\":[1.656855,1.676539215361346,1.8536973896278328,3.7689648268228373,2.0705172648865546],\"mode\":\"markers+lines\",\"name\":\"Eurasian\",\"opacity\":0.5,\"type\":\"scattergeo\",\"showlegend\":false},{\"hoverinfo\":\"text\",\"hovertext\":\"Met-6\",\"lat\":[40.261667,40.26203163977389,40.26531301199941,40.29816215571019,40.36871133243187],\"line\":{\"color\":\"#DC3912\",\"width\":2},\"lon\":[-4.154601,-4.154075308103443,-4.149344555684415,-4.101978744511915,-4.0002918887086265],\"mode\":\"markers+lines\",\"name\":\"Iberian relict\",\"opacity\":0.5,\"type\":\"scattergeo\",\"showlegend\":false},{\"hoverinfo\":\"text\",\"hovertext\":\"LACR-C-14\",\"lat\":[43.000155,43.00023730914659,43.00097826327484,43.0083968997789,43.04662902883177],\"line\":{\"color\":\"#3366CC\",\"width\":2},\"lon\":[1.075624,1.0751605007358502,1.0709891918914107,1.0292595637409958,0.813426121736159],\"mode\":\"markers+lines\",\"name\":\"Eurasian\",\"opacity\":0.5,\"type\":\"scattergeo\",\"showlegend\":false},{\"hoverinfo\":\"text\",\"hovertext\":\"Hom-0\",\"lat\":[40.816799,40.816799,40.816799,40.816799,40.816799],\"line\":{\"color\":\"#DC3912\",\"width\":2},\"lon\":[-1.68601,-1.68601,-1.68601,-1.68601,-1.68601],\"mode\":\"markers+lines\",\"name\":\"Iberian relict\",\"opacity\":0.5,\"type\":\"scattergeo\",\"showlegend\":false},{\"hoverinfo\":\"text\",\"hovertext\":\"Tanz-1\",\"lat\":[-2.87389,-2.87389,-2.87389,-2.87389,-2.87389],\"line\":{\"color\":\"#FF9900\",\"width\":2},\"lon\":[36.2128,36.2128,36.2128,36.2128,36.2128],\"mode\":\"markers+lines\",\"name\":\"Non-Iberian relict\",\"opacity\":0.5,\"type\":\"scattergeo\",\"showlegend\":false},{\"hoverinfo\":\"text\",\"hovertext\":\"Col-0\",\"lat\":[52.7325,52.7325,52.7325,52.7325,52.7325],\"line\":{\"color\":\"#3366CC\",\"width\":2},\"lon\":[15.2369,15.2369,15.2369,15.2369,15.2369],\"mode\":\"markers+lines\",\"name\":\"Eurasian\",\"opacity\":0.5,\"type\":\"scattergeo\",\"showlegend\":false},{\"hoverinfo\":\"text\",\"hovertext\":\"Ey15-2\",\"lat\":[48.434522,48.434522,48.434522,48.434522,48.434522],\"line\":{\"color\":\"#3366CC\",\"width\":2},\"lon\":[8.767808,8.767808,8.767808,8.767808,8.767808],\"mode\":\"markers+lines\",\"name\":\"Eurasian\",\"opacity\":0.5,\"type\":\"scattergeo\",\"showlegend\":false},{\"hoverinfo\":\"text\",\"hovertext\":\"Kew-1\",\"lat\":[51.4819,51.47822087292295,51.44510853266575,51.11397427416754,47.934897173999765],\"line\":{\"color\":\"#3366CC\",\"width\":2},\"lon\":[-0.2887,-0.2873381950521111,-0.27508206135359914,-0.15251683206723363,1.0242154173950901],\"mode\":\"markers+lines\",\"name\":\"Eurasian\",\"opacity\":0.5,\"type\":\"scattergeo\",\"showlegend\":false}],                        {\"template\":{\"data\":{\"histogram2dcontour\":[{\"type\":\"histogram2dcontour\",\"colorbar\":{\"outlinewidth\":0,\"ticks\":\"\"},\"colorscale\":[[0.0,\"#0d0887\"],[0.1111111111111111,\"#46039f\"],[0.2222222222222222,\"#7201a8\"],[0.3333333333333333,\"#9c179e\"],[0.4444444444444444,\"#bd3786\"],[0.5555555555555556,\"#d8576b\"],[0.6666666666666666,\"#ed7953\"],[0.7777777777777778,\"#fb9f3a\"],[0.8888888888888888,\"#fdca26\"],[1.0,\"#f0f921\"]]}],\"choropleth\":[{\"type\":\"choropleth\",\"colorbar\":{\"outlinewidth\":0,\"ticks\":\"\"}}],\"histogram2d\":[{\"type\":\"histogram2d\",\"colorbar\":{\"outlinewidth\":0,\"ticks\":\"\"},\"colorscale\":[[0.0,\"#0d0887\"],[0.1111111111111111,\"#46039f\"],[0.2222222222222222,\"#7201a8\"],[0.3333333333333333,\"#9c179e\"],[0.4444444444444444,\"#bd3786\"],[0.5555555555555556,\"#d8576b\"],[0.6666666666666666,\"#ed7953\"],[0.7777777777777778,\"#fb9f3a\"],[0.8888888888888888,\"#fdca26\"],[1.0,\"#f0f921\"]]}],\"heatmap\":[{\"type\":\"heatmap\",\"colorbar\":{\"outlinewidth\":0,\"ticks\":\"\"},\"colorscale\":[[0.0,\"#0d0887\"],[0.1111111111111111,\"#46039f\"],[0.2222222222222222,\"#7201a8\"],[0.3333333333333333,\"#9c179e\"],[0.4444444444444444,\"#bd3786\"],[0.5555555555555556,\"#d8576b\"],[0.6666666666666666,\"#ed7953\"],[0.7777777777777778,\"#fb9f3a\"],[0.8888888888888888,\"#fdca26\"],[1.0,\"#f0f921\"]]}],\"heatmapgl\":[{\"type\":\"heatmapgl\",\"colorbar\":{\"outlinewidth\":0,\"ticks\":\"\"},\"colorscale\":[[0.0,\"#0d0887\"],[0.1111111111111111,\"#46039f\"],[0.2222222222222222,\"#7201a8\"],[0.3333333333333333,\"#9c179e\"],[0.4444444444444444,\"#bd3786\"],[0.5555555555555556,\"#d8576b\"],[0.6666666666666666,\"#ed7953\"],[0.7777777777777778,\"#fb9f3a\"],[0.8888888888888888,\"#fdca26\"],[1.0,\"#f0f921\"]]}],\"contourcarpet\":[{\"type\":\"contourcarpet\",\"colorbar\":{\"outlinewidth\":0,\"ticks\":\"\"}}],\"contour\":[{\"type\":\"contour\",\"colorbar\":{\"outlinewidth\":0,\"ticks\":\"\"},\"colorscale\":[[0.0,\"#0d0887\"],[0.1111111111111111,\"#46039f\"],[0.2222222222222222,\"#7201a8\"],[0.3333333333333333,\"#9c179e\"],[0.4444444444444444,\"#bd3786\"],[0.5555555555555556,\"#d8576b\"],[0.6666666666666666,\"#ed7953\"],[0.7777777777777778,\"#fb9f3a\"],[0.8888888888888888,\"#fdca26\"],[1.0,\"#f0f921\"]]}],\"surface\":[{\"type\":\"surface\",\"colorbar\":{\"outlinewidth\":0,\"ticks\":\"\"},\"colorscale\":[[0.0,\"#0d0887\"],[0.1111111111111111,\"#46039f\"],[0.2222222222222222,\"#7201a8\"],[0.3333333333333333,\"#9c179e\"],[0.4444444444444444,\"#bd3786\"],[0.5555555555555556,\"#d8576b\"],[0.6666666666666666,\"#ed7953\"],[0.7777777777777778,\"#fb9f3a\"],[0.8888888888888888,\"#fdca26\"],[1.0,\"#f0f921\"]]}],\"mesh3d\":[{\"type\":\"mesh3d\",\"colorbar\":{\"outlinewidth\":0,\"ticks\":\"\"}}],\"scatter\":[{\"fillpattern\":{\"fillmode\":\"overlay\",\"size\":10,\"solidity\":0.2},\"type\":\"scatter\"}],\"parcoords\":[{\"type\":\"parcoords\",\"line\":{\"colorbar\":{\"outlinewidth\":0,\"ticks\":\"\"}}}],\"scatterpolargl\":[{\"type\":\"scatterpolargl\",\"marker\":{\"colorbar\":{\"outlinewidth\":0,\"ticks\":\"\"}}}],\"bar\":[{\"error_x\":{\"color\":\"#2a3f5f\"},\"error_y\":{\"color\":\"#2a3f5f\"},\"marker\":{\"line\":{\"color\":\"#E5ECF6\",\"width\":0.5},\"pattern\":{\"fillmode\":\"overlay\",\"size\":10,\"solidity\":0.2}},\"type\":\"bar\"}],\"scattergeo\":[{\"type\":\"scattergeo\",\"marker\":{\"colorbar\":{\"outlinewidth\":0,\"ticks\":\"\"}}}],\"scatterpolar\":[{\"type\":\"scatterpolar\",\"marker\":{\"colorbar\":{\"outlinewidth\":0,\"ticks\":\"\"}}}],\"histogram\":[{\"marker\":{\"pattern\":{\"fillmode\":\"overlay\",\"size\":10,\"solidity\":0.2}},\"type\":\"histogram\"}],\"scattergl\":[{\"type\":\"scattergl\",\"marker\":{\"colorbar\":{\"outlinewidth\":0,\"ticks\":\"\"}}}],\"scatter3d\":[{\"type\":\"scatter3d\",\"line\":{\"colorbar\":{\"outlinewidth\":0,\"ticks\":\"\"}},\"marker\":{\"colorbar\":{\"outlinewidth\":0,\"ticks\":\"\"}}}],\"scattermapbox\":[{\"type\":\"scattermapbox\",\"marker\":{\"colorbar\":{\"outlinewidth\":0,\"ticks\":\"\"}}}],\"scatterternary\":[{\"type\":\"scatterternary\",\"marker\":{\"colorbar\":{\"outlinewidth\":0,\"ticks\":\"\"}}}],\"scattercarpet\":[{\"type\":\"scattercarpet\",\"marker\":{\"colorbar\":{\"outlinewidth\":0,\"ticks\":\"\"}}}],\"carpet\":[{\"aaxis\":{\"endlinecolor\":\"#2a3f5f\",\"gridcolor\":\"white\",\"linecolor\":\"white\",\"minorgridcolor\":\"white\",\"startlinecolor\":\"#2a3f5f\"},\"baxis\":{\"endlinecolor\":\"#2a3f5f\",\"gridcolor\":\"white\",\"linecolor\":\"white\",\"minorgridcolor\":\"white\",\"startlinecolor\":\"#2a3f5f\"},\"type\":\"carpet\"}],\"table\":[{\"cells\":{\"fill\":{\"color\":\"#EBF0F8\"},\"line\":{\"color\":\"white\"}},\"header\":{\"fill\":{\"color\":\"#C8D4E3\"},\"line\":{\"color\":\"white\"}},\"type\":\"table\"}],\"barpolar\":[{\"marker\":{\"line\":{\"color\":\"#E5ECF6\",\"width\":0.5},\"pattern\":{\"fillmode\":\"overlay\",\"size\":10,\"solidity\":0.2}},\"type\":\"barpolar\"}],\"pie\":[{\"automargin\":true,\"type\":\"pie\"}]},\"layout\":{\"autotypenumbers\":\"strict\",\"colorway\":[\"#636efa\",\"#EF553B\",\"#00cc96\",\"#ab63fa\",\"#FFA15A\",\"#19d3f3\",\"#FF6692\",\"#B6E880\",\"#FF97FF\",\"#FECB52\"],\"font\":{\"color\":\"#2a3f5f\"},\"hovermode\":\"closest\",\"hoverlabel\":{\"align\":\"left\"},\"paper_bgcolor\":\"white\",\"plot_bgcolor\":\"#E5ECF6\",\"polar\":{\"bgcolor\":\"#E5ECF6\",\"angularaxis\":{\"gridcolor\":\"white\",\"linecolor\":\"white\",\"ticks\":\"\"},\"radialaxis\":{\"gridcolor\":\"white\",\"linecolor\":\"white\",\"ticks\":\"\"}},\"ternary\":{\"bgcolor\":\"#E5ECF6\",\"aaxis\":{\"gridcolor\":\"white\",\"linecolor\":\"white\",\"ticks\":\"\"},\"baxis\":{\"gridcolor\":\"white\",\"linecolor\":\"white\",\"ticks\":\"\"},\"caxis\":{\"gridcolor\":\"white\",\"linecolor\":\"white\",\"ticks\":\"\"}},\"coloraxis\":{\"colorbar\":{\"outlinewidth\":0,\"ticks\":\"\"}},\"colorscale\":{\"sequential\":[[0.0,\"#0d0887\"],[0.1111111111111111,\"#46039f\"],[0.2222222222222222,\"#7201a8\"],[0.3333333333333333,\"#9c179e\"],[0.4444444444444444,\"#bd3786\"],[0.5555555555555556,\"#d8576b\"],[0.6666666666666666,\"#ed7953\"],[0.7777777777777778,\"#fb9f3a\"],[0.8888888888888888,\"#fdca26\"],[1.0,\"#f0f921\"]],\"sequentialminus\":[[0.0,\"#0d0887\"],[0.1111111111111111,\"#46039f\"],[0.2222222222222222,\"#7201a8\"],[0.3333333333333333,\"#9c179e\"],[0.4444444444444444,\"#bd3786\"],[0.5555555555555556,\"#d8576b\"],[0.6666666666666666,\"#ed7953\"],[0.7777777777777778,\"#fb9f3a\"],[0.8888888888888888,\"#fdca26\"],[1.0,\"#f0f921\"]],\"diverging\":[[0,\"#8e0152\"],[0.1,\"#c51b7d\"],[0.2,\"#de77ae\"],[0.3,\"#f1b6da\"],[0.4,\"#fde0ef\"],[0.5,\"#f7f7f7\"],[0.6,\"#e6f5d0\"],[0.7,\"#b8e186\"],[0.8,\"#7fbc41\"],[0.9,\"#4d9221\"],[1,\"#276419\"]]},\"xaxis\":{\"gridcolor\":\"white\",\"linecolor\":\"white\",\"ticks\":\"\",\"title\":{\"standoff\":15},\"zerolinecolor\":\"white\",\"automargin\":true,\"zerolinewidth\":2},\"yaxis\":{\"gridcolor\":\"white\",\"linecolor\":\"white\",\"ticks\":\"\",\"title\":{\"standoff\":15},\"zerolinecolor\":\"white\",\"automargin\":true,\"zerolinewidth\":2},\"scene\":{\"xaxis\":{\"backgroundcolor\":\"#E5ECF6\",\"gridcolor\":\"white\",\"linecolor\":\"white\",\"showbackground\":true,\"ticks\":\"\",\"zerolinecolor\":\"white\",\"gridwidth\":2},\"yaxis\":{\"backgroundcolor\":\"#E5ECF6\",\"gridcolor\":\"white\",\"linecolor\":\"white\",\"showbackground\":true,\"ticks\":\"\",\"zerolinecolor\":\"white\",\"gridwidth\":2},\"zaxis\":{\"backgroundcolor\":\"#E5ECF6\",\"gridcolor\":\"white\",\"linecolor\":\"white\",\"showbackground\":true,\"ticks\":\"\",\"zerolinecolor\":\"white\",\"gridwidth\":2}},\"shapedefaults\":{\"line\":{\"color\":\"#2a3f5f\"}},\"annotationdefaults\":{\"arrowcolor\":\"#2a3f5f\",\"arrowhead\":0,\"arrowwidth\":1},\"geo\":{\"bgcolor\":\"white\",\"landcolor\":\"#E5ECF6\",\"subunitcolor\":\"white\",\"showland\":true,\"showlakes\":true,\"lakecolor\":\"white\"},\"title\":{\"x\":0.05},\"mapbox\":{\"style\":\"light\"}}},\"geo\":{\"projection\":{\"type\":\"equirectangular\"},\"lonaxis\":{\"showgrid\":true,\"gridwidth\":0.5,\"range\":[-24.6167,37.2128],\"dtick\":5},\"lataxis\":{\"showgrid\":true,\"gridwidth\":0.5,\"range\":[30,63.8794],\"dtick\":5},\"scope\":\"world\",\"showland\":true,\"landcolor\":\"rgb(232, 232, 232)\",\"showcountries\":true,\"resolution\":50},\"legend\":{\"title\":{\"text\":\"\"},\"yanchor\":\"top\",\"y\":0.95,\"xanchor\":\"left\",\"x\":0.125,\"bgcolor\":\"rgba(0,0,0,0)\"}},                        {\"responsive\": true}                    ).then(function(){\n",
       "                            \n",
       "var gd = document.getElementById('1c4dcbf7-cb96-4907-aca5-13be85131d42');\n",
       "var x = new MutationObserver(function (mutations, observer) {{\n",
       "        var display = window.getComputedStyle(gd).display;\n",
       "        if (!display || display === 'none') {{\n",
       "            console.log([gd, 'removed!']);\n",
       "            Plotly.purge(gd);\n",
       "            observer.disconnect();\n",
       "        }}\n",
       "}});\n",
       "\n",
       "// Listen for the removal of the full notebook cells\n",
       "var notebookContainer = gd.closest('#notebook-container');\n",
       "if (notebookContainer) {{\n",
       "    x.observe(notebookContainer, {childList: true});\n",
       "}}\n",
       "\n",
       "// Listen for the clearing of the current output cell\n",
       "var outputEl = gd.closest('.output');\n",
       "if (outputEl) {{\n",
       "    x.observe(outputEl, {childList: true});\n",
       "}}\n",
       "\n",
       "                        })                };                });            </script>        </div>"
      ]
     },
     "metadata": {},
     "output_type": "display_data"
    }
   ],
   "source": [
    "fig = go.Figure()\n",
    "\n",
    "for sample in ancestor_samples:\n",
    "    fig.add_trace(go.Scattergeo(lon=all_ancestor_locations[sample,:,0],\n",
    "                                lat=all_ancestor_locations[sample,:,1],\n",
    "                                hoverinfo='text',\n",
    "                                hovertext=ids[sample],\n",
    "                                mode='markers+lines',\n",
    "                                line = dict(width = 2, color=colors[population_ixs[sample]]),\n",
    "                                opacity=0.5,\n",
    "#                                 legendgroup=group[sample],\n",
    "                                name=group[sample]\n",
    "                               ))\n",
    "\n",
    "fig.update_layout(\n",
    "    geo = dict(\n",
    "        scope = 'world',\n",
    "        showland = True,\n",
    "        landcolor = \"rgb(232, 232, 232)\",\n",
    "#         subunitcolor = \"rgb(255, 255, 255)\",\n",
    "#         countrycolor = \"rgb(255, 255, 255)\",\n",
    "#         showlakes = True,\n",
    "#         lakecolor = \"rgb(255, 255, 255)\",\n",
    "#         showsubunits = True,\n",
    "        showcountries = True,\n",
    "        resolution = 50,\n",
    "#         projection = dict(\n",
    "#             type = 'conic conformal',\n",
    "#             rotation_lon = meanlon\n",
    "#         ),\n",
    "        projection_type = \"equirectangular\",\n",
    "        lonaxis = dict(\n",
    "            showgrid = True,\n",
    "            gridwidth = 0.5,\n",
    "            range= [ min(locations[:,0])-1, max(locations[:,0])+1 ],\n",
    "            dtick = 5\n",
    "        ),\n",
    "        lataxis = dict (\n",
    "            showgrid = True,\n",
    "            gridwidth = 0.5,\n",
    "#             range= [ min(locations[:,1])-1, max(locations[:,1])+1 ],\n",
    "            range= [ 30, max(locations[:,1])+1 ],\n",
    "            dtick = 5\n",
    "        )\n",
    "    ),\n",
    "    legend=dict(\n",
    "    yanchor=\"top\",\n",
    "    y=0.95,\n",
    "    xanchor=\"left\",\n",
    "    x=0.125,\n",
    "    bgcolor='rgba(0,0,0,0)',\n",
    "#    bordercolor=\"Black\",\n",
    "#   borderwidth=1\n",
    "    ),\n",
    "    legend_title_text='',\n",
    "#     showlegend=False\n",
    ")\n",
    "names = set()\n",
    "fig.for_each_trace(\n",
    "    lambda trace:\n",
    "        trace.update(showlegend=False)\n",
    "        if (trace.name in names) else names.add(trace.name))\n",
    "fig.show()\n",
    "# fig.write_image(plotdir + 'locations.png')"
   ]
  },
  {
   "cell_type": "markdown",
   "metadata": {},
   "source": [
    "ok, looks like we are ready to do this across loci via snakemake"
   ]
  },
  {
   "cell_type": "code",
   "execution_count": 354,
   "metadata": {},
   "outputs": [
    {
     "data": {
      "text/plain": [
       "array([1.00000000e+01, 3.59381366e+01, 1.29154967e+02, 4.64158883e+02,\n",
       "       1.66810054e+03, 5.99484250e+03, 2.15443469e+04, 7.74263683e+04,\n",
       "       2.78255940e+05, 1.00000000e+06])"
      ]
     },
     "execution_count": 354,
     "metadata": {},
     "output_type": "execute_result"
    }
   ],
   "source": [
    "np.logspace(1,np.log10(1e6),10)"
   ]
  },
  {
   "cell_type": "code",
   "execution_count": 355,
   "metadata": {},
   "outputs": [
    {
     "data": {
      "text/plain": [
       "array([6.15313738e-02, 5.38557214e-02, 4.96940622e-01, 2.72295924e-05])"
      ]
     },
     "execution_count": 355,
     "metadata": {},
     "output_type": "execute_result"
    }
   ],
   "source": [
    "np.load('../data/T2T_Athaliana_66.nomissing.nohet.justSNPs_haploid_polarized_masked_100000Ne_7e-9m_popsize_10numiter_0.5threshold_1000nsamples_1000000tCutoff_mle-dispersal.npy')"
   ]
  },
  {
   "cell_type": "code",
   "execution_count": null,
   "metadata": {},
   "outputs": [],
   "source": []
  }
 ],
 "metadata": {
  "kernelspec": {
   "display_name": "sparg-revisions",
   "language": "python",
   "name": "sparg-revisions"
  },
  "language_info": {
   "codemirror_mode": {
    "name": "ipython",
    "version": 3
   },
   "file_extension": ".py",
   "mimetype": "text/x-python",
   "name": "python",
   "nbconvert_exporter": "python",
   "pygments_lexer": "ipython3",
   "version": "3.9.8"
  }
 },
 "nbformat": 4,
 "nbformat_minor": 4
}
