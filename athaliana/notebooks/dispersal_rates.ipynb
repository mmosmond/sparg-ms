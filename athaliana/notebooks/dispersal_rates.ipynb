{
 "cells": [
  {
   "cell_type": "markdown",
   "metadata": {},
   "source": [
    "# Plotting dispersal rate estimates"
   ]
  },
  {
   "cell_type": "code",
   "execution_count": 1,
   "metadata": {},
   "outputs": [],
   "source": [
    "import numpy as np\n",
    "import math\n",
    "import matplotlib.pyplot as plt\n",
    "import matplotlib.patches as mpatches\n",
    "from matplotlib.lines import Line2D"
   ]
  },
  {
   "cell_type": "code",
   "execution_count": 2,
   "metadata": {},
   "outputs": [],
   "source": [
    "datadir = '../data/'\n",
    "filename = '1001G'\n",
    "plotdir = '../plots/'"
   ]
  },
  {
   "cell_type": "code",
   "execution_count": 3,
   "metadata": {},
   "outputs": [],
   "source": [
    "# get mean lat of kept samples\n",
    "file = datadir + filename + '.locs'\n",
    "ind_locs = np.loadtxt(file)\n",
    "idx = [i for i,j in enumerate(ind_locs) if j[1]>-30 and j[1]<120] #remove nans and NA and Japanese samples\n",
    "kept_locs = np.array([ind_locs[i] for i in idx])\n",
    "mean_lat = np.mean(kept_locs[:,0])\n",
    "\n",
    "# find conversion from degrees to kms\n",
    "lat_to_km = np.cos(mean_lat * math.pi/180)*111 #great circle\n",
    "long_to_km = 110"
   ]
  },
  {
   "cell_type": "code",
   "execution_count": 4,
   "metadata": {},
   "outputs": [],
   "source": [
    "chr_lens = [30427671, 19698289, 23459830, 18585056, 26975502] #bp of each chromosome\n",
    "chrcumsum = np.hstack([0,np.cumsum(chr_lens)]) #to place chromosomes next to each other"
   ]
  },
  {
   "cell_type": "code",
   "execution_count": 5,
   "metadata": {},
   "outputs": [],
   "source": [
    "chromosomes = range(1,6)\n",
    "twoNe = 170000\n",
    "u = 7e-09\n",
    "numiter = 5\n",
    "threshold = 0.5\n",
    "nloci = 1000\n",
    "dCutoff = 1000\n",
    "tCutoff = 10000\n",
    "group = 'Eurasia-no-Japan'"
   ]
  },
  {
   "cell_type": "code",
   "execution_count": 6,
   "metadata": {},
   "outputs": [],
   "source": [
    "def get_mles(datadir,filename,chromosomes,loci,twoNe,u,numiter,threshold,tCutoff,dCutoff,group,tsplitss,bnds):\n",
    "\n",
    "    mcles_all = []\n",
    "    errs_all = []\n",
    "    funs_all = []\n",
    "    for tsplits in tsplitss:\n",
    "\n",
    "        mcles_chr = []\n",
    "        errs_chr = []\n",
    "        funs_chr = []\n",
    "        for chromosome in chromosomes:\n",
    "            \n",
    "            mcles = []\n",
    "            errs = []\n",
    "            funs = []\n",
    "            for locus in loci:\n",
    "\n",
    "                try:\n",
    "\n",
    "                    # load result from minimize\n",
    "                    file = datadir+filename+'_chr%d_2Ne%d_u%s_numiter%d_threshold%.1f_tCutoff%d_dCutoff%d_group%s_tsplits%s_locus%d_mle-dispersal.npy' %(chromosome,twoNe,u,numiter,threshold,tCutoff,dCutoff,group,tsplits,locus)\n",
    "                    data = np.load(file, allow_pickle=True).item()\n",
    "\n",
    "                    if data.success:\n",
    "\n",
    "                        # get mcle dispersal in each epoch\n",
    "                        mcle = data.x[:-1].reshape(len(tsplits)+1, 3)\n",
    "\n",
    "                        # check if we hit bounds\n",
    "                        for i,m in enumerate(mcle):\n",
    "                            for j,n in enumerate(m):\n",
    "                                if n == bnds[i][j][0] or n == bnds[i][j][1]:\n",
    "                                    print('warning: parameter %d, epoch %d, locus %d on chromosome %d hit bounds for tsplits %s' %(j,i,locus,chromosome,tsplits))\n",
    "\n",
    "                        # get fisher information\n",
    "                        info = data['hess_inv'].todense()\n",
    "                        # convert to standard error\n",
    "                        err = []\n",
    "                        for i,row in enumerate(info):\n",
    "                            err.append(row[i]**0.5)\n",
    "                        # keep errors of dispersal only, and reshape into epoch\n",
    "                        err = np.array(err)[:-1].reshape(len(tsplits)+1, 3) \n",
    "\n",
    "                        # convert from degrees to km\n",
    "                        mcle_km = [i * [lat_to_km, long_to_km, 1] for i in mcle]\n",
    "                        err_km = [i * [lat_to_km, long_to_km, 1] for i in err]\n",
    "\n",
    "                        mcles.append(mcle_km)\n",
    "                        errs.append(err_km)\n",
    "                        funs.append(data.fun)\n",
    "\n",
    "                    else:\n",
    "\n",
    "                        print('missing data: chromosome %d locus %d failed for tsplits %s' %(chromosome,locus,tsplits))\n",
    "                        mcles.append([[np.nan] * 3] * (len(tsplits)+1))\n",
    "                        errs.append([[np.nan] * 3] * (len(tsplits)+1))\n",
    "                        funs.append(np.nan)\n",
    "\n",
    "                except:\n",
    "\n",
    "                    print('missing data: chromosome %d locus %d missing for tsplits %s' %(chromosome,locus,tsplits))\n",
    "                    mcles.append([[np.nan] * 3] * (len(tsplits)+1))\n",
    "                    errs.append([[np.nan] * 3] * (len(tsplits)+1))\n",
    "                    funs.append(np.nan)\n",
    "\n",
    "            #append to chromosome list\n",
    "            mcles_chr.append(mcles) \n",
    "            errs_chr.append(errs) \n",
    "            funs_chr.append(funs)\n",
    "                \n",
    "        #append to tsplits list\n",
    "        mcles_all.append(mcles_chr) \n",
    "        errs_all.append(errs_chr) \n",
    "        funs_all.append(funs_chr)\n",
    "    \n",
    "    return np.array(mcles_all), np.array(errs_all), np.array(funs_all)"
   ]
  },
  {
   "cell_type": "code",
   "execution_count": 7,
   "metadata": {},
   "outputs": [],
   "source": [
    "def get_mcles(datadir,filename,chromosomes,twoNe,u,numiter,threshold,tCutoff,dCutoff,group,tsplitss,bnds):\n",
    "\n",
    "    mcles_all = []\n",
    "    errs_all = []\n",
    "    funs_all = []\n",
    "    for tsplits in tsplitss:\n",
    "\n",
    "        mcles = []\n",
    "        errs = []\n",
    "        funs = []\n",
    "        for chromosome in chromosomes:\n",
    "\n",
    "            try:\n",
    "                \n",
    "                # load result from minimize\n",
    "                file = datadir+filename+'_chr%d_2Ne%d_u%s_numiter%d_threshold%.1f_tCutoff%d_dCutoff%d_group%s_tsplits%s_mcle-dispersal.npy' %(chromosome,twoNe,u,numiter,threshold,tCutoff,dCutoff,group,tsplits)\n",
    "                data = np.load(file, allow_pickle=True).item()\n",
    "                \n",
    "                if data.success:\n",
    "\n",
    "                    # get mcle dispersal in each epoch\n",
    "                    mcle = data.x[:-1].reshape(len(tsplits)+1, 3)\n",
    "                    \n",
    "                    # check if we hit bounds\n",
    "                    for i,m in enumerate(mcle):\n",
    "                        for j,n in enumerate(m):\n",
    "                            if n == bnds[i][j][0] or n == bnds[i][j][1]:\n",
    "                                print('warning: parameter %d, epoch %d on chromosome %d hit bounds for tsplits %s' %(j,i,chromosome,tsplits))\n",
    "\n",
    "                    # get fisher information\n",
    "                    info = data['hess_inv'].todense()\n",
    "                    # convert to standard error\n",
    "                    err = []\n",
    "                    for i,row in enumerate(info):\n",
    "                        err.append(row[i]**0.5)\n",
    "                    # keep errors of dispersal only, and reshape into epoch\n",
    "                    err = np.array(err)[:-1].reshape(len(tsplits)+1, 3) \n",
    "\n",
    "                    # convert from degrees to km\n",
    "                    mcle_km = [i * [lat_to_km, long_to_km, 1] for i in mcle]\n",
    "                    err_km = [i * [lat_to_km, long_to_km, 1] for i in err]\n",
    "                    \n",
    "                    mcles.append(mcle_km)\n",
    "                    errs.append(err_km)\n",
    "                    funs.append(data.fun)\n",
    "\n",
    "                else:\n",
    "\n",
    "                    print('missing data: chromosome %d failed for tsplits %s' %(chromosome,tsplits))\n",
    "                    mcles.append([[np.nan] * 3] * (len(tsplits)+1))\n",
    "                    errs.append([[np.nan] * 3] * (len(tsplits)+1))\n",
    "                    funs.append(np.nan)\n",
    "\n",
    "            except:\n",
    "\n",
    "                print('missing data: chromosome %d missing for tsplits %s' %(chromosome,tsplits))\n",
    "                mcles.append([[np.nan] * 3] * (len(tsplits)+1))\n",
    "                errs.append([[np.nan] * 3] * (len(tsplits)+1))\n",
    "                funs.append(np.nan)\n",
    "        \n",
    "        #append to tsplits list\n",
    "        mcles_all.append(mcles) \n",
    "        errs_all.append(errs) \n",
    "        funs_all.append(funs)\n",
    "    \n",
    "    return np.array(mcles_all), np.array(errs_all), np.array(funs_all)"
   ]
  },
  {
   "cell_type": "code",
   "execution_count": 8,
   "metadata": {},
   "outputs": [],
   "source": [
    "def get_mcles_1d(datadir,filename,chromosomes,twoNe,u,numiter,threshold,tCutoff,dCutoff,group,tsplitss,bnds,dimension):\n",
    "\n",
    "    mcles_all = []\n",
    "    errs_all = []\n",
    "    funs_all = []\n",
    "    for tsplits in tsplitss:\n",
    "\n",
    "        mcles = []\n",
    "        errs = []\n",
    "        funs = []\n",
    "        for chromosome in chromosomes:\n",
    "\n",
    "            try:\n",
    "                \n",
    "                # load result from minimize\n",
    "                file = datadir+filename+'_chr%d_2Ne%d_u%s_numiter%d_threshold%.1f_tCutoff%d_dCutoff%d_group%s_tsplits%s_mcle-dispersal_%sonly.npy' %(chromosome,twoNe,u,numiter,threshold,tCutoff,dCutoff,group,tsplits,dimension)\n",
    "                data = np.load(file, allow_pickle=True).item()\n",
    "                print(data.x[-1])\n",
    "                if data.success:\n",
    "\n",
    "                    # get mcle dispersal in each epoch\n",
    "                    mcle = data.x[:-1].reshape(len(tsplits)+1, 1)\n",
    "                    \n",
    "                    # check if we hit bounds\n",
    "                    for i,m in enumerate(mcle):\n",
    "                        for j,n in enumerate(m):\n",
    "                            if n == bnds[i][j][0] or n == bnds[i][j][1]:\n",
    "                                print('warning: parameter %d, epoch %d on chromosome %d hit bounds for tsplits %s' %(j,i,chromosome,tsplits))\n",
    "\n",
    "                    # get fisher information\n",
    "                    info = data['hess_inv'].todense()\n",
    "                    # convert to standard error\n",
    "                    err = []\n",
    "                    for i,row in enumerate(info):\n",
    "                        err.append(row[i]**0.5)\n",
    "                    # keep errors of dispersal only, and reshape into epoch\n",
    "                    err = np.array(err)[:-1].reshape(len(tsplits)+1, 1) \n",
    "\n",
    "                    # convert from degrees to km\n",
    "                    mcle_km = [i * [lat_to_km, long_to_km, 1] for i in mcle]\n",
    "                    err_km = [i * [lat_to_km, long_to_km, 1] for i in err]\n",
    "                    \n",
    "                    mcles.append(mcle_km)\n",
    "                    errs.append(err_km)\n",
    "                    funs.append(data.fun)\n",
    "\n",
    "                else:\n",
    "\n",
    "                    print('missing data: chromosome %d failed for tsplits %s' %(chromosome,tsplits))\n",
    "                    mcles.append([[np.nan] * 3] * (len(tsplits)+1))\n",
    "                    errs.append([[np.nan] * 3] * (len(tsplits)+1))\n",
    "                    funs.append(np.nan)\n",
    "\n",
    "            except:\n",
    "\n",
    "                print('missing data: chromosome %d missing for tsplits %s' %(chromosome,tsplits))\n",
    "                mcles.append([[np.nan] * 3] * (len(tsplits)+1))\n",
    "                errs.append([[np.nan] * 3] * (len(tsplits)+1))\n",
    "                funs.append(np.nan)\n",
    "        \n",
    "        #append to tsplits list\n",
    "        mcles_all.append(mcles) \n",
    "        errs_all.append(errs) \n",
    "        funs_all.append(funs)\n",
    "    \n",
    "    return np.array(mcles_all), np.array(errs_all), np.array(funs_all)"
   ]
  },
  {
   "cell_type": "code",
   "execution_count": 9,
   "metadata": {},
   "outputs": [],
   "source": [
    "def plot_mles(chromosomes, chrcumsum, midpoints, mles, mcles, errs,\n",
    "              ymins = [0,0,-1], ymaxs = [600,600,1],\n",
    "              alpha = 0.8, fontsize = 18, legendfontsize = 14, ticklabelfontsize = 10,\n",
    "              cmap = plt.get_cmap('tab10'),\n",
    "              labels = [r'$\\sigma_\\mathrm{lat}$ (km)',r'$\\sigma_\\mathrm{long}$ (km)',r'$\\rho$'],\n",
    "              figsize=(15, 5), fname=None, pad_inches=0):\n",
    "\n",
    "    #set up\n",
    "    fig = plt.figure(figsize=figsize)\n",
    "    ax1 = plt.subplot2grid((3, 1), (0, 0))\n",
    "    ax2 = plt.subplot2grid((3, 1), (1, 0))\n",
    "    ax3 = plt.subplot2grid((3, 1), (2, 0))\n",
    "\n",
    "    #plot data\n",
    "    for i,ax in enumerate([ax1,ax2,ax3]):\n",
    "        for j in chromosomes:\n",
    "            ax.scatter(chrcumsum[j-1] + midpoints[j-1], mles[j-1,:,i], color = cmap(j-1), alpha = alpha, label='chromosome %d' %j) #mles\n",
    "            ax.plot(chrcumsum[j-1] + midpoints[j-1], [mcles[j-1][i] for _ in midpoints[j-1]], color = 'k', alpha = 1) #mcles\n",
    "            ax.fill_between(chrcumsum[j-1] + midpoints[j-1], mcles[j-1][i] - errs[j-1][i], mcles[j-1][i] + errs[j-1][i], color = 'k', alpha = 0.1, zorder=2) #mcle errs\n",
    "\n",
    "        ax.set_xlim(midpoints[0][0], chrcumsum[-2] + midpoints[-1][-1])\n",
    "        ax.set_ylim(ymins[i], ymaxs[i])\n",
    "        ax.set_ylabel(labels[i], fontsize=fontsize)\n",
    "        ax.tick_params(axis='both', labelsize=ticklabelfontsize)\n",
    "\n",
    "    # pretty-up\n",
    "    ax1.legend(ncol=len(chromosomes), loc='upper center', fontsize=legendfontsize)\n",
    "    ax.set_xlabel('tree midpoint (site)', fontsize=fontsize)\n",
    "    ax1.set_xticklabels([])\n",
    "    ax2.set_xticklabels([])\n",
    "\n",
    "    plt.tight_layout()\n",
    "    if fname is not None:\n",
    "        plt.savefig(fname, bbox_inches = 'tight', pad_inches = pad_inches)\n",
    "        \n",
    "    plt.show()"
   ]
  },
  {
   "cell_type": "code",
   "execution_count": 10,
   "metadata": {},
   "outputs": [],
   "source": [
    "  def plot_mcle(mcles, errs, labels=None, fname=None, ticklabelfontsize=14, axislabelsize=14, legendfontsize=10, \n",
    "              cmap=plt.get_cmap('tab10'), markers=['o','^','v','s'], log_y=False, ylims=None, \n",
    "              ylabel=None, legend=True, pad_inches=0):\n",
    "\n",
    "    # set up x spacing\n",
    "    dx = 1 #gap between lat and long \n",
    "    dxx = dx/len(mcles[0])/2 #gap between epochs\n",
    "    dxxx = dxx/len(mcles)/1.5 #gap between chromosomes\n",
    "\n",
    "    # plot mcles and error\n",
    "    patches = []\n",
    "    for i,c in enumerate(mcles): #chromosomes\n",
    "        for j,e in enumerate(c[::-1]): #epochs (reversed order: most recent to most distant)\n",
    "            for k,a in enumerate(e[:2]): #axis (just sigma_lat and sigma_long, ignore correlation)\n",
    "                x = k*dx + j*dxx + i*dxxx #x location on plot\n",
    "                plt.scatter(x, a, color = cmap(i), marker = markers[j]) #mcle\n",
    "                plt.plot([x, x], [a - errs[i][j][k], a + errs[i][j][k]], color = cmap(i)) #error\n",
    "\n",
    "            # epoch labels\n",
    "            if legend and labels is not None:\n",
    "                if i == 0: #just do this once per epoch\n",
    "                    patches.append(Line2D([0], [0], marker = markers[j], label = labels[j], color = 'grey'))\n",
    "                \n",
    "    # legend\n",
    "    if legend and labels is not None:\n",
    "        plt.legend(handles = patches, fontsize = legendfontsize)\n",
    "\n",
    "    # axis ticks\n",
    "    plt.tick_params(axis = 'both', labelsize = ticklabelfontsize)\n",
    "        \n",
    "    # x axis\n",
    "    plt.xticks([k*dx + (j*dxx + i*dxxx)/2 for k in range(2)], \n",
    "               [r'$\\sigma_\\mathrm{lat}$', r'$\\sigma_\\mathrm{long}$'])\n",
    "\n",
    "    # y axis\n",
    "    if log_y:\n",
    "        plt.yscale('log')\n",
    "    if ylims is not None:\n",
    "        plt.ylim(ylims)\n",
    "    if ylabel is not None:\n",
    "        plt.ylabel(ylabel, fontsize = axislabelsize)\n",
    "\n",
    "    # save\n",
    "    if fname is not None:\n",
    "        plt.tight_layout()\n",
    "        plt.savefig(fname, bbox_inches = 'tight', pad_inches = pad_inches)\n",
    "\n",
    "    plt.show()"
   ]
  },
  {
   "cell_type": "code",
   "execution_count": 11,
   "metadata": {},
   "outputs": [],
   "source": [
    "def likelihood_comparison(i,j):\n",
    "\n",
    "    for k,tsplitsi in enumerate(tsplitsss[i]):\n",
    "        for l,tsplitsj in enumerate(tsplitsss[j]):\n",
    "            \n",
    "            print('\\ntsplits = %s (alt) vs. tsplits = %s (null)\\n' %(tsplitsj,tsplitsi))\n",
    "            \n",
    "            ratio_tests = []\n",
    "            for chromosome in chromosomes:\n",
    "            \n",
    "                print('chromosome %d:' %chromosome)\n",
    "                \n",
    "                try:\n",
    "                    null_loglikelihood = -funs_all[i][k][chromosome-1]\n",
    "                    alt_loglikelihood = -funs_all[j][l][chromosome-1]\n",
    "                    ratio_test =  -2 * (null_loglikelihood - alt_loglikelihood)\n",
    "\n",
    "                except:\n",
    "                    ratio_test = np.nan\n",
    "\n",
    "                print(ratio_test) #test statistic (chi square with df determined by difference in number of parameters between models)\n",
    "                ratio_tests.append(ratio_test)\n",
    "\n",
    "            print('mean:')\n",
    "            print(np.nanmean(ratio_tests))"
   ]
  },
  {
   "cell_type": "code",
   "execution_count": 12,
   "metadata": {},
   "outputs": [],
   "source": [
    "ylims = [0,600]"
   ]
  },
  {
   "cell_type": "markdown",
   "metadata": {},
   "source": [
    "## 1 epoch"
   ]
  },
  {
   "cell_type": "code",
   "execution_count": 13,
   "metadata": {},
   "outputs": [],
   "source": [
    "tsplitss = [[]]\n",
    "bnds = ((1e-6,None), (1e-6,None), (-0.99,0.99))\n",
    "bnds = [list(i) for i in bnds]\n",
    "bnds = [bnds for _ in range(len(tsplitss[0])+1)]"
   ]
  },
  {
   "cell_type": "markdown",
   "metadata": {},
   "source": [
    "get mles"
   ]
  },
  {
   "cell_type": "code",
   "execution_count": 13,
   "metadata": {},
   "outputs": [
    {
     "name": "stdout",
     "output_type": "stream",
     "text": [
      "warning: parameter 0, epoch 0, locus 591 on chromosome 1 hit bounds for tsplits []\n",
      "warning: parameter 0, epoch 0, locus 772 on chromosome 1 hit bounds for tsplits []\n",
      "warning: parameter 2, epoch 0, locus 772 on chromosome 1 hit bounds for tsplits []\n",
      "warning: parameter 0, epoch 0, locus 871 on chromosome 1 hit bounds for tsplits []\n",
      "missing data: chromosome 2 locus 35 missing for tsplits []\n",
      "warning: parameter 0, epoch 0, locus 60 on chromosome 2 hit bounds for tsplits []\n",
      "missing data: chromosome 2 locus 211 missing for tsplits []\n",
      "missing data: chromosome 2 locus 979 missing for tsplits []\n",
      "missing data: chromosome 3 locus 281 missing for tsplits []\n",
      "missing data: chromosome 3 locus 892 missing for tsplits []\n",
      "missing data: chromosome 3 locus 982 missing for tsplits []\n",
      "missing data: chromosome 3 locus 989 missing for tsplits []\n",
      "warning: parameter 0, epoch 0, locus 148 on chromosome 4 hit bounds for tsplits []\n",
      "warning: parameter 2, epoch 0, locus 148 on chromosome 4 hit bounds for tsplits []\n",
      "warning: parameter 0, epoch 0, locus 155 on chromosome 4 hit bounds for tsplits []\n",
      "warning: parameter 2, epoch 0, locus 155 on chromosome 4 hit bounds for tsplits []\n",
      "warning: parameter 0, epoch 0, locus 300 on chromosome 4 hit bounds for tsplits []\n",
      "warning: parameter 2, epoch 0, locus 300 on chromosome 4 hit bounds for tsplits []\n",
      "missing data: chromosome 4 locus 405 missing for tsplits []\n",
      "missing data: chromosome 4 locus 448 missing for tsplits []\n",
      "warning: parameter 0, epoch 0, locus 458 on chromosome 4 hit bounds for tsplits []\n",
      "warning: parameter 2, epoch 0, locus 458 on chromosome 4 hit bounds for tsplits []\n",
      "warning: parameter 1, epoch 0, locus 545 on chromosome 4 hit bounds for tsplits []\n",
      "warning: parameter 2, epoch 0, locus 545 on chromosome 4 hit bounds for tsplits []\n",
      "warning: parameter 0, epoch 0, locus 963 on chromosome 4 hit bounds for tsplits []\n",
      "warning: parameter 2, epoch 0, locus 963 on chromosome 4 hit bounds for tsplits []\n",
      "warning: parameter 0, epoch 0, locus 522 on chromosome 5 hit bounds for tsplits []\n",
      "warning: parameter 2, epoch 0, locus 522 on chromosome 5 hit bounds for tsplits []\n",
      "warning: parameter 0, epoch 0, locus 942 on chromosome 5 hit bounds for tsplits []\n"
     ]
    }
   ],
   "source": [
    "nloci = 1000\n",
    "loci = range(0,nloci,1)\n",
    "mles, mle_errs, mle_funs = get_mles(datadir,filename,chromosomes,loci,twoNe,u,numiter,threshold,tCutoff,dCutoff,group,tsplitss,bnds)"
   ]
  },
  {
   "cell_type": "markdown",
   "metadata": {},
   "source": [
    "and associated genomic locations"
   ]
  },
  {
   "cell_type": "code",
   "execution_count": 14,
   "metadata": {},
   "outputs": [],
   "source": [
    "midpoints = []\n",
    "for chromosome in chromosomes:\n",
    "    # get tree indices we have mles for\n",
    "    npz = np.load(datadir + '1001G' + '_chr%d_2Ne%d_u%s_popsize_numiter%d_threshold%.1f_nloci%d.npz' \n",
    "              %(chromosome,twoNe,u,numiter,threshold,nloci))\n",
    "    which_loci = npz['which_trees']\n",
    "    intervals = npz['intervals']\n",
    "    midpoints.append([(i[1] + i[0])/2 for i in intervals])"
   ]
  },
  {
   "cell_type": "markdown",
   "metadata": {},
   "source": [
    "get mcles"
   ]
  },
  {
   "cell_type": "code",
   "execution_count": 15,
   "metadata": {},
   "outputs": [],
   "source": [
    "mcles, errs, funs = get_mcles(datadir,filename,chromosomes,twoNe,u,numiter,threshold,tCutoff,dCutoff,group,tsplitss,bnds)"
   ]
  },
  {
   "cell_type": "markdown",
   "metadata": {},
   "source": [
    "plot together"
   ]
  },
  {
   "cell_type": "code",
   "execution_count": 17,
   "metadata": {},
   "outputs": [
    {
     "data": {
      "image/png": "[encoded data removed]",
      "text/plain": [
       "<Figure size 1080x360 with 3 Axes>"
      ]
     },
     "metadata": {
      "needs_background": "light"
     },
     "output_type": "display_data"
    }
   ],
   "source": [
    "for mle,mcle,err,tsplits in zip(mles,mcles,errs,tsplitss):\n",
    "    fname = (plotdir+filename+'_tCutoff%d_tsplits%s_group%s_mle-dispersal.pdf' %(tCutoff,tsplits,group)).replace(' ','')\n",
    "#     fname = None\n",
    "    plot_mles(chromosomes, chrcumsum, np.array(midpoints)[:,loci], mle[:,:,0], mcle[:,0], err[:,0], fname=fname)"
   ]
  },
  {
   "cell_type": "markdown",
   "metadata": {},
   "source": [
    "plot mcles"
   ]
  },
  {
   "cell_type": "code",
   "execution_count": 13,
   "metadata": {},
   "outputs": [
    {
     "data": {
      "image/png": "[encoded data removed]",
      "text/plain": [
       "<Figure size 432x288 with 1 Axes>"
      ]
     },
     "metadata": {
      "needs_background": "light"
     },
     "output_type": "display_data"
    }
   ],
   "source": [
    "for mcle,err,tsplits in zip(mcles,errs,tsplitss):\n",
    "    fname = (plotdir+filename+'_tCutoff%d_tsplits%s_group%s_mcle-dispersal.pdf' %(tCutoff,tsplits,group)).replace(' ','')\n",
    "    plot_mcle(mcle, err, ylabel='kilometers', fname=fname, ylims=ylims)"
   ]
  },
  {
   "cell_type": "markdown",
   "metadata": {},
   "source": [
    "longitudinal dispersal : latitudinal dispersal ratio"
   ]
  },
  {
   "cell_type": "code",
   "execution_count": 23,
   "metadata": {},
   "outputs": [
    {
     "data": {
      "text/plain": [
       "9.915586575616741"
      ]
     },
     "execution_count": 23,
     "metadata": {},
     "output_type": "execute_result"
    }
   ],
   "source": [
    "mean_mcle = np.mean(mcles, axis=(0,1,2))\n",
    "mean_mcle[1]**2 / mean_mcle[0]**2"
   ]
  },
  {
   "cell_type": "markdown",
   "metadata": {},
   "source": [
    "and when we estimate lat and long dispersal separately we get almost exactly the same thing"
   ]
  },
  {
   "cell_type": "code",
   "execution_count": 14,
   "metadata": {},
   "outputs": [
    {
     "name": "stdout",
     "output_type": "stream",
     "text": [
      "0.008706185725247109\n",
      "0.007725604370416068\n",
      "0.008229113151651838\n",
      "0.008407153915108417\n",
      "0.008596782775866505\n"
     ]
    }
   ],
   "source": [
    "xmcles, xerrs, xfuns = get_mcles_1d(datadir,filename,chromosomes,twoNe,u,numiter,threshold,tCutoff,dCutoff,group,tsplitss,bnds,'x')"
   ]
  },
  {
   "cell_type": "markdown",
   "metadata": {},
   "source": [
    "the SD in longitude"
   ]
  },
  {
   "cell_type": "code",
   "execution_count": 20,
   "metadata": {},
   "outputs": [
    {
     "data": {
      "text/plain": [
       "259.40094244492497"
      ]
     },
     "execution_count": 20,
     "metadata": {},
     "output_type": "execute_result"
    }
   ],
   "source": [
    "np.mean(xmcles[:,:,:,1])"
   ]
  },
  {
   "cell_type": "code",
   "execution_count": 17,
   "metadata": {},
   "outputs": [
    {
     "name": "stdout",
     "output_type": "stream",
     "text": [
      "0.008775360737379613\n",
      "0.00779157214674213\n",
      "0.008442356026941603\n",
      "0.008401495883445041\n",
      "0.008673213243933713\n"
     ]
    }
   ],
   "source": [
    "ymcles, yerrs, yfuns = get_mcles_1d(datadir,filename,chromosomes,twoNe,u,numiter,threshold,tCutoff,dCutoff,group,tsplitss,bnds,'y')"
   ]
  },
  {
   "cell_type": "markdown",
   "metadata": {},
   "source": [
    "the SD in latitude"
   ]
  },
  {
   "cell_type": "code",
   "execution_count": 21,
   "metadata": {},
   "outputs": [
    {
     "data": {
      "text/plain": [
       "81.45668136430706"
      ]
     },
     "execution_count": 21,
     "metadata": {},
     "output_type": "execute_result"
    }
   ],
   "source": [
    "np.mean(ymcles[:,:,:,0])"
   ]
  },
  {
   "cell_type": "markdown",
   "metadata": {},
   "source": [
    "the ratio of the variances"
   ]
  },
  {
   "cell_type": "code",
   "execution_count": 19,
   "metadata": {},
   "outputs": [
    {
     "data": {
      "text/plain": [
       "10.14120762478164"
      ]
     },
     "execution_count": 19,
     "metadata": {},
     "output_type": "execute_result"
    }
   ],
   "source": [
    "np.mean(xmcles[:,:,:,1])**2 / np.mean(ymcles[:,:,:,0])**2"
   ]
  },
  {
   "cell_type": "markdown",
   "metadata": {},
   "source": [
    "## 2 epochs "
   ]
  },
  {
   "cell_type": "code",
   "execution_count": 10,
   "metadata": {},
   "outputs": [],
   "source": [
    "tsplitss = [[10],[100],[1000]]\n",
    "bnds = ((1e-6,None), (1e-6,None), (-0.99,0.99))\n",
    "bnds = [list(i) for i in bnds]\n",
    "bnds = [bnds for _ in range(len(tsplitss[0])+1)]"
   ]
  },
  {
   "cell_type": "markdown",
   "metadata": {},
   "source": [
    "get mcles"
   ]
  },
  {
   "cell_type": "code",
   "execution_count": 175,
   "metadata": {},
   "outputs": [
    {
     "name": "stdout",
     "output_type": "stream",
     "text": [
      "warning: parameter 2, epoch 0 on chromosome 1 hit bounds for tsplits [100]\n",
      "warning: parameter 1, epoch 0 on chromosome 1 hit bounds for tsplits [1000]\n",
      "warning: parameter 1, epoch 0 on chromosome 2 hit bounds for tsplits [1000]\n",
      "warning: parameter 0, epoch 0 on chromosome 3 hit bounds for tsplits [1000]\n",
      "warning: parameter 0, epoch 0 on chromosome 4 hit bounds for tsplits [1000]\n",
      "warning: parameter 1, epoch 0 on chromosome 4 hit bounds for tsplits [1000]\n",
      "warning: parameter 0, epoch 0 on chromosome 5 hit bounds for tsplits [1000]\n"
     ]
    }
   ],
   "source": [
    "mcles, errs, funs = get_mcles(datadir,filename,chromosomes,twoNe,u,numiter,threshold,tCutoff,dCutoff,group,tsplitss,bnds)"
   ]
  },
  {
   "cell_type": "markdown",
   "metadata": {},
   "source": [
    "plot mcles"
   ]
  },
  {
   "cell_type": "code",
   "execution_count": 176,
   "metadata": {},
   "outputs": [
    {
     "data": {
      "image/png": "[encoded data removed]",
      "text/plain": [
       "<Figure size 432x288 with 1 Axes>"
      ]
     },
     "metadata": {
      "needs_background": "light"
     },
     "output_type": "display_data"
    },
    {
     "data": {
      "image/png": "[encoded data removed]",
      "text/plain": [
       "<Figure size 432x288 with 1 Axes>"
      ]
     },
     "metadata": {
      "needs_background": "light"
     },
     "output_type": "display_data"
    },
    {
     "data": {
      "image/png": "[encoded data removed]",
      "text/plain": [
       "<Figure size 432x288 with 1 Axes>"
      ]
     },
     "metadata": {
      "needs_background": "light"
     },
     "output_type": "display_data"
    }
   ],
   "source": [
    "for mcle,err,tsplits in zip(mcles,errs,tsplitss):\n",
    "    \n",
    "    fname = (plotdir+filename+'_tCutoff%d_tsplits%s_group%s_mcle-dispersal.pdf' %(tCutoff,tsplits,group)).replace(' ','')\n",
    "    \n",
    "    ts = [0] + tsplits + [tCutoff]\n",
    "    labels = []\n",
    "    for i in range(len(ts)-1):\n",
    "        labels.append(r'%d < t < %d' %tuple(ts[i:i+2]))\n",
    "    \n",
    "    plot_mcle(mcle, err, ylabel='kilometers', fname=fname, labels=labels, ylims=ylims)"
   ]
  },
  {
   "cell_type": "markdown",
   "metadata": {},
   "source": [
    "## 3 epochs "
   ]
  },
  {
   "cell_type": "code",
   "execution_count": 177,
   "metadata": {},
   "outputs": [],
   "source": [
    "tsplitss = [[10,100],[10,1000],[100,1000]]\n",
    "bnds = ((1e-6,None), (1e-6,None), (-0.99,0.99))\n",
    "bnds = [list(i) for i in bnds]\n",
    "bnds = [bnds for _ in range(len(tsplitss[0])+1)]"
   ]
  },
  {
   "cell_type": "markdown",
   "metadata": {},
   "source": [
    "get mcles"
   ]
  },
  {
   "cell_type": "code",
   "execution_count": 178,
   "metadata": {},
   "outputs": [
    {
     "name": "stdout",
     "output_type": "stream",
     "text": [
      "warning: parameter 0, epoch 0 on chromosome 2 hit bounds for tsplits [10, 1000]\n",
      "warning: parameter 1, epoch 0 on chromosome 2 hit bounds for tsplits [10, 1000]\n",
      "warning: parameter 0, epoch 0 on chromosome 4 hit bounds for tsplits [10, 1000]\n",
      "warning: parameter 1, epoch 0 on chromosome 4 hit bounds for tsplits [10, 1000]\n",
      "warning: parameter 0, epoch 0 on chromosome 5 hit bounds for tsplits [10, 1000]\n"
     ]
    }
   ],
   "source": [
    "mcles, errs, funs = get_mcles(datadir,filename,chromosomes,twoNe,u,numiter,threshold,tCutoff,dCutoff,group,tsplitss,bnds)"
   ]
  },
  {
   "cell_type": "markdown",
   "metadata": {},
   "source": [
    "plot mcles"
   ]
  },
  {
   "cell_type": "code",
   "execution_count": 179,
   "metadata": {},
   "outputs": [
    {
     "data": {
      "image/png": "[encoded data removed]",
      "text/plain": [
       "<Figure size 432x288 with 1 Axes>"
      ]
     },
     "metadata": {
      "needs_background": "light"
     },
     "output_type": "display_data"
    },
    {
     "data": {
      "image/png": "[encoded data removed]",
      "text/plain": [
       "<Figure size 432x288 with 1 Axes>"
      ]
     },
     "metadata": {
      "needs_background": "light"
     },
     "output_type": "display_data"
    },
    {
     "data": {
      "image/png": "[encoded data removed]",
      "text/plain": [
       "<Figure size 432x288 with 1 Axes>"
      ]
     },
     "metadata": {
      "needs_background": "light"
     },
     "output_type": "display_data"
    }
   ],
   "source": [
    "for mcle,err,tsplits in zip(mcles,errs,tsplitss):\n",
    "    \n",
    "    fname = (plotdir+filename+'_tCutoff%d_tsplits%s_group%s_mcle-dispersal.pdf' %(tCutoff,tsplits,group)).replace(' ','')\n",
    "    \n",
    "    ts = [0] + tsplits + [tCutoff]\n",
    "    labels = []\n",
    "    for i in range(len(ts)-1):\n",
    "        labels.append(r'%d < t < %d' %tuple(ts[i:i+2]))\n",
    "    \n",
    "    plot_mcle(mcle, err, ylabel='kilometers', fname=fname, labels=labels, ylims=ylims)"
   ]
  },
  {
   "cell_type": "markdown",
   "metadata": {},
   "source": [
    "## 4 epochs "
   ]
  },
  {
   "cell_type": "code",
   "execution_count": 180,
   "metadata": {},
   "outputs": [],
   "source": [
    "tsplitss = [[10,100,1000]]\n",
    "bnds = ((1e-6,None), (1e-6,None), (-0.99,0.99))\n",
    "bnds = [list(i) for i in bnds]\n",
    "bnds = [bnds for _ in range(len(tsplitss[0])+1)]"
   ]
  },
  {
   "cell_type": "markdown",
   "metadata": {},
   "source": [
    "get mcles"
   ]
  },
  {
   "cell_type": "code",
   "execution_count": 181,
   "metadata": {},
   "outputs": [
    {
     "name": "stdout",
     "output_type": "stream",
     "text": [
      "warning: parameter 0, epoch 0 on chromosome 1 hit bounds for tsplits [10, 100, 1000]\n",
      "warning: parameter 0, epoch 0 on chromosome 3 hit bounds for tsplits [10, 100, 1000]\n",
      "warning: parameter 1, epoch 0 on chromosome 3 hit bounds for tsplits [10, 100, 1000]\n",
      "warning: parameter 0, epoch 0 on chromosome 4 hit bounds for tsplits [10, 100, 1000]\n",
      "warning: parameter 1, epoch 0 on chromosome 4 hit bounds for tsplits [10, 100, 1000]\n",
      "warning: parameter 0, epoch 0 on chromosome 5 hit bounds for tsplits [10, 100, 1000]\n",
      "warning: parameter 1, epoch 0 on chromosome 5 hit bounds for tsplits [10, 100, 1000]\n"
     ]
    }
   ],
   "source": [
    "mcles, errs, funs = get_mcles(datadir,filename,chromosomes,twoNe,u,numiter,threshold,tCutoff,dCutoff,group,tsplitss,bnds)"
   ]
  },
  {
   "cell_type": "markdown",
   "metadata": {},
   "source": [
    "plot mcles"
   ]
  },
  {
   "cell_type": "code",
   "execution_count": 182,
   "metadata": {
    "scrolled": true
   },
   "outputs": [
    {
     "data": {
      "image/png": "[encoded data removed]",
      "text/plain": [
       "<Figure size 432x288 with 1 Axes>"
      ]
     },
     "metadata": {
      "needs_background": "light"
     },
     "output_type": "display_data"
    }
   ],
   "source": [
    "for mcle,err,tsplits in zip(mcles,errs,tsplitss):\n",
    "    \n",
    "    fname = (plotdir+filename+'_tCutoff%d_tsplits%s_group%s_mcle-dispersal.pdf' %(tCutoff,tsplits,group)).replace(' ','')\n",
    "    \n",
    "    ts = [0] + tsplits + [tCutoff]\n",
    "    labels = []\n",
    "    for i in range(len(ts)-1):\n",
    "        labels.append(r'%d < t < %d' %tuple(ts[i:i+2]))\n",
    "    \n",
    "    plot_mcle(mcle, err, ylabel='kilometers', fname=fname, labels=labels, ylims=ylims)"
   ]
  },
  {
   "cell_type": "markdown",
   "metadata": {},
   "source": [
    "# likelihood ratios (ie finding the best models)"
   ]
  },
  {
   "cell_type": "markdown",
   "metadata": {},
   "source": [
    "load all data"
   ]
  },
  {
   "cell_type": "code",
   "execution_count": 250,
   "metadata": {
    "scrolled": true
   },
   "outputs": [
    {
     "name": "stdout",
     "output_type": "stream",
     "text": [
      "warning: parameter 2, epoch 0 on chromosome 1 hit bounds for tsplits [100]\n",
      "warning: parameter 1, epoch 0 on chromosome 1 hit bounds for tsplits [1000]\n",
      "warning: parameter 1, epoch 0 on chromosome 2 hit bounds for tsplits [1000]\n",
      "warning: parameter 0, epoch 0 on chromosome 3 hit bounds for tsplits [1000]\n",
      "warning: parameter 0, epoch 0 on chromosome 4 hit bounds for tsplits [1000]\n",
      "warning: parameter 1, epoch 0 on chromosome 4 hit bounds for tsplits [1000]\n",
      "warning: parameter 0, epoch 0 on chromosome 5 hit bounds for tsplits [1000]\n",
      "warning: parameter 0, epoch 0 on chromosome 2 hit bounds for tsplits [10, 1000]\n",
      "warning: parameter 1, epoch 0 on chromosome 2 hit bounds for tsplits [10, 1000]\n",
      "warning: parameter 0, epoch 0 on chromosome 4 hit bounds for tsplits [10, 1000]\n",
      "warning: parameter 1, epoch 0 on chromosome 4 hit bounds for tsplits [10, 1000]\n",
      "warning: parameter 0, epoch 0 on chromosome 5 hit bounds for tsplits [10, 1000]\n",
      "warning: parameter 0, epoch 0 on chromosome 1 hit bounds for tsplits [10, 100, 1000]\n",
      "warning: parameter 0, epoch 0 on chromosome 3 hit bounds for tsplits [10, 100, 1000]\n",
      "warning: parameter 1, epoch 0 on chromosome 3 hit bounds for tsplits [10, 100, 1000]\n",
      "warning: parameter 0, epoch 0 on chromosome 4 hit bounds for tsplits [10, 100, 1000]\n",
      "warning: parameter 1, epoch 0 on chromosome 4 hit bounds for tsplits [10, 100, 1000]\n",
      "warning: parameter 0, epoch 0 on chromosome 5 hit bounds for tsplits [10, 100, 1000]\n",
      "warning: parameter 1, epoch 0 on chromosome 5 hit bounds for tsplits [10, 100, 1000]\n"
     ]
    }
   ],
   "source": [
    "tsplitss1 = [[]]\n",
    "tsplitss2 = [[10],[100],[1000]]\n",
    "tsplitss3 = [[10,100],[10,1000],[100,1000]]\n",
    "tsplitss4 = [[10,100,1000]]\n",
    "tsplitsss = [tsplitss1, tsplitss2, tsplitss3, tsplitss4]\n",
    "\n",
    "mcles_all = []\n",
    "errs_all = []\n",
    "funs_all = []\n",
    "for tsplitss in tsplitsss:\n",
    "    bnds = ((1e-6,None), (1e-6,None), (-0.99,0.99))\n",
    "    bnds = [list(i) for i in bnds]\n",
    "    bnds = [bnds for _ in range(len(tsplitss[0])+1)]\n",
    "    mcles, errs, funs = get_mcles(datadir,filename,chromosomes,twoNe,u,numiter,threshold,tCutoff,dCutoff,group,tsplitss,bnds)\n",
    "    mcles_all.append(mcles)\n",
    "    errs_all.append(errs)\n",
    "    funs_all.append(funs)"
   ]
  },
  {
   "cell_type": "markdown",
   "metadata": {},
   "source": [
    "### 2epoch vs 1epoch"
   ]
  },
  {
   "cell_type": "code",
   "execution_count": 248,
   "metadata": {
    "scrolled": true
   },
   "outputs": [
    {
     "name": "stdout",
     "output_type": "stream",
     "text": [
      "\n",
      "tsplits = [10] (alt) vs. tsplits = [] (null)\n",
      "\n",
      "chromosome 1:\n",
      "106837.09533173149\n",
      "chromosome 2:\n",
      "117432.68337612273\n",
      "chromosome 3:\n",
      "115251.79385021911\n",
      "chromosome 4:\n",
      "109523.40102781192\n",
      "chromosome 5:\n",
      "111605.50303167349\n",
      "mean:\n",
      "112130.09532351175\n",
      "\n",
      "tsplits = [100] (alt) vs. tsplits = [] (null)\n",
      "\n",
      "chromosome 1:\n",
      "42882.52394199872\n",
      "chromosome 2:\n",
      "46398.27558779437\n",
      "chromosome 3:\n",
      "45574.09853544517\n",
      "chromosome 4:\n",
      "45294.19423083577\n",
      "chromosome 5:\n",
      "44480.96461917111\n",
      "mean:\n",
      "44926.01138304903\n",
      "\n",
      "tsplits = [1000] (alt) vs. tsplits = [] (null)\n",
      "\n",
      "chromosome 1:\n",
      "4422.057925463421\n",
      "chromosome 2:\n",
      "5174.669051416102\n",
      "chromosome 3:\n",
      "4716.562625003979\n",
      "chromosome 4:\n",
      "4674.8139347221\n",
      "chromosome 5:\n",
      "4606.73632151098\n",
      "mean:\n",
      "4718.967971623317\n"
     ]
    }
   ],
   "source": [
    "likelihood_comparison(0,1)"
   ]
  },
  {
   "cell_type": "markdown",
   "metadata": {},
   "source": [
    "so all 2 epoch models are better than the 1 epoch model"
   ]
  },
  {
   "cell_type": "markdown",
   "metadata": {},
   "source": [
    "### 2epoch vs 2epoch"
   ]
  },
  {
   "cell_type": "code",
   "execution_count": 235,
   "metadata": {
    "scrolled": true
   },
   "outputs": [
    {
     "name": "stdout",
     "output_type": "stream",
     "text": [
      "\n",
      "tsplits = [10] (alt) vs. tsplits = [10] (null)\n",
      "\n",
      "chromosome 1:\n",
      "-0.0\n",
      "chromosome 2:\n",
      "-0.0\n",
      "chromosome 3:\n",
      "-0.0\n",
      "chromosome 4:\n",
      "-0.0\n",
      "chromosome 5:\n",
      "-0.0\n",
      "mean:\n",
      "0.0\n",
      "\n",
      "tsplits = [100] (alt) vs. tsplits = [10] (null)\n",
      "\n",
      "chromosome 1:\n",
      "-63954.571389732766\n",
      "chromosome 2:\n",
      "-71034.40778832836\n",
      "chromosome 3:\n",
      "-69677.69531477394\n",
      "chromosome 4:\n",
      "-64229.206796976156\n",
      "chromosome 5:\n",
      "-67124.53841250238\n",
      "mean:\n",
      "-67204.08394046272\n",
      "\n",
      "tsplits = [1000] (alt) vs. tsplits = [10] (null)\n",
      "\n",
      "chromosome 1:\n",
      "-102415.03740626806\n",
      "chromosome 2:\n",
      "-112258.01432470663\n",
      "chromosome 3:\n",
      "-110535.23122521513\n",
      "chromosome 4:\n",
      "-104848.58709308982\n",
      "chromosome 5:\n",
      "-106998.76671016251\n",
      "mean:\n",
      "-107411.12735188843\n",
      "\n",
      "tsplits = [10] (alt) vs. tsplits = [100] (null)\n",
      "\n",
      "chromosome 1:\n",
      "63954.571389732766\n",
      "chromosome 2:\n",
      "71034.40778832836\n",
      "chromosome 3:\n",
      "69677.69531477394\n",
      "chromosome 4:\n",
      "64229.206796976156\n",
      "chromosome 5:\n",
      "67124.53841250238\n",
      "mean:\n",
      "67204.08394046272\n",
      "\n",
      "tsplits = [100] (alt) vs. tsplits = [100] (null)\n",
      "\n",
      "chromosome 1:\n",
      "-0.0\n",
      "chromosome 2:\n",
      "-0.0\n",
      "chromosome 3:\n",
      "-0.0\n",
      "chromosome 4:\n",
      "-0.0\n",
      "chromosome 5:\n",
      "-0.0\n",
      "mean:\n",
      "0.0\n",
      "\n",
      "tsplits = [1000] (alt) vs. tsplits = [100] (null)\n",
      "\n",
      "chromosome 1:\n",
      "-38460.4660165353\n",
      "chromosome 2:\n",
      "-41223.60653637827\n",
      "chromosome 3:\n",
      "-40857.53591044119\n",
      "chromosome 4:\n",
      "-40619.38029611367\n",
      "chromosome 5:\n",
      "-39874.22829766013\n",
      "mean:\n",
      "-40207.04341142571\n",
      "\n",
      "tsplits = [10] (alt) vs. tsplits = [1000] (null)\n",
      "\n",
      "chromosome 1:\n",
      "102415.03740626806\n",
      "chromosome 2:\n",
      "112258.01432470663\n",
      "chromosome 3:\n",
      "110535.23122521513\n",
      "chromosome 4:\n",
      "104848.58709308982\n",
      "chromosome 5:\n",
      "106998.76671016251\n",
      "mean:\n",
      "107411.12735188843\n",
      "\n",
      "tsplits = [100] (alt) vs. tsplits = [1000] (null)\n",
      "\n",
      "chromosome 1:\n",
      "38460.4660165353\n",
      "chromosome 2:\n",
      "41223.60653637827\n",
      "chromosome 3:\n",
      "40857.53591044119\n",
      "chromosome 4:\n",
      "40619.38029611367\n",
      "chromosome 5:\n",
      "39874.22829766013\n",
      "mean:\n",
      "40207.04341142571\n",
      "\n",
      "tsplits = [1000] (alt) vs. tsplits = [1000] (null)\n",
      "\n",
      "chromosome 1:\n",
      "-0.0\n",
      "chromosome 2:\n",
      "-0.0\n",
      "chromosome 3:\n",
      "-0.0\n",
      "chromosome 4:\n",
      "-0.0\n",
      "chromosome 5:\n",
      "-0.0\n",
      "mean:\n",
      "0.0\n"
     ]
    }
   ],
   "source": [
    "likelihood_comparison(1,1)"
   ]
  },
  {
   "cell_type": "markdown",
   "metadata": {},
   "source": [
    "so best to worst 2 epoch model is: [10], [100], [1000]"
   ]
  },
  {
   "cell_type": "markdown",
   "metadata": {},
   "source": [
    "### 3epoch vs 1epoch"
   ]
  },
  {
   "cell_type": "code",
   "execution_count": 236,
   "metadata": {
    "scrolled": true
   },
   "outputs": [
    {
     "name": "stdout",
     "output_type": "stream",
     "text": [
      "\n",
      "tsplits = [10, 100] (alt) vs. tsplits = [] (null)\n",
      "\n",
      "chromosome 1:\n",
      "108872.81371298456\n",
      "chromosome 2:\n",
      "118863.44466754515\n",
      "chromosome 3:\n",
      "117231.64381997252\n",
      "chromosome 4:\n",
      "111713.45498592441\n",
      "chromosome 5:\n",
      "113670.45051520166\n",
      "mean:\n",
      "114070.36154032566\n",
      "\n",
      "tsplits = [10, 1000] (alt) vs. tsplits = [] (null)\n",
      "\n",
      "chromosome 1:\n",
      "109923.01267628209\n",
      "chromosome 2:\n",
      "120951.57362721604\n",
      "chromosome 3:\n",
      "118555.93765678897\n",
      "chromosome 4:\n",
      "112729.14514046733\n",
      "chromosome 5:\n",
      "114684.5199223503\n",
      "mean:\n",
      "115368.83780462094\n",
      "\n",
      "tsplits = [100, 1000] (alt) vs. tsplits = [] (null)\n",
      "\n",
      "chromosome 1:\n",
      "42899.37905340444\n",
      "chromosome 2:\n",
      "46491.878490822855\n",
      "chromosome 3:\n",
      "45603.24560751498\n",
      "chromosome 4:\n",
      "45310.22750891431\n",
      "chromosome 5:\n",
      "44485.19556149864\n",
      "mean:\n",
      "44957.985244431045\n"
     ]
    }
   ],
   "source": [
    "likelihood_comparison(0,2)"
   ]
  },
  {
   "cell_type": "markdown",
   "metadata": {},
   "source": [
    "any 3 epoch is better than 1 epoch"
   ]
  },
  {
   "cell_type": "markdown",
   "metadata": {},
   "source": [
    "### 3epoch vs 2epoch"
   ]
  },
  {
   "cell_type": "code",
   "execution_count": 237,
   "metadata": {
    "scrolled": true
   },
   "outputs": [
    {
     "name": "stdout",
     "output_type": "stream",
     "text": [
      "\n",
      "tsplits = [10, 100] (alt) vs. tsplits = [10] (null)\n",
      "\n",
      "chromosome 1:\n",
      "2035.7183812530711\n",
      "chromosome 2:\n",
      "1430.7612914224155\n",
      "chromosome 3:\n",
      "1979.8499697534135\n",
      "chromosome 4:\n",
      "2190.0539581124904\n",
      "chromosome 5:\n",
      "2064.9474835281726\n",
      "mean:\n",
      "1940.2662168139127\n",
      "\n",
      "tsplits = [10, 1000] (alt) vs. tsplits = [10] (null)\n",
      "\n",
      "chromosome 1:\n",
      "3085.917344550602\n",
      "chromosome 2:\n",
      "3518.8902510933112\n",
      "chromosome 3:\n",
      "3304.1438065698603\n",
      "chromosome 4:\n",
      "3205.744112655404\n",
      "chromosome 5:\n",
      "3079.0168906768085\n",
      "mean:\n",
      "3238.7424811091973\n",
      "\n",
      "tsplits = [100, 1000] (alt) vs. tsplits = [10] (null)\n",
      "\n",
      "chromosome 1:\n",
      "-63937.71627832705\n",
      "chromosome 2:\n",
      "-70940.80488529988\n",
      "chromosome 3:\n",
      "-69648.54824270413\n",
      "chromosome 4:\n",
      "-64213.173518897616\n",
      "chromosome 5:\n",
      "-67120.30747017486\n",
      "mean:\n",
      "-67172.11007908071\n",
      "\n",
      "tsplits = [10, 100] (alt) vs. tsplits = [100] (null)\n",
      "\n",
      "chromosome 1:\n",
      "65990.28977098584\n",
      "chromosome 2:\n",
      "72465.16907975078\n",
      "chromosome 3:\n",
      "71657.54528452735\n",
      "chromosome 4:\n",
      "66419.26075508865\n",
      "chromosome 5:\n",
      "69189.48589603056\n",
      "mean:\n",
      "69144.35015727664\n",
      "\n",
      "tsplits = [10, 1000] (alt) vs. tsplits = [100] (null)\n",
      "\n",
      "chromosome 1:\n",
      "67040.48873428337\n",
      "chromosome 2:\n",
      "74553.29803942167\n",
      "chromosome 3:\n",
      "72981.8391213438\n",
      "chromosome 4:\n",
      "67434.95090963156\n",
      "chromosome 5:\n",
      "70203.5553031792\n",
      "mean:\n",
      "70442.82642157192\n",
      "\n",
      "tsplits = [100, 1000] (alt) vs. tsplits = [100] (null)\n",
      "\n",
      "chromosome 1:\n",
      "16.85511140571907\n",
      "chromosome 2:\n",
      "93.60290302848443\n",
      "chromosome 3:\n",
      "29.147072069812566\n",
      "chromosome 4:\n",
      "16.033278078539297\n",
      "chromosome 5:\n",
      "4.230942327529192\n",
      "mean:\n",
      "31.973861382016914\n",
      "\n",
      "tsplits = [10, 100] (alt) vs. tsplits = [1000] (null)\n",
      "\n",
      "chromosome 1:\n",
      "104450.75578752114\n",
      "chromosome 2:\n",
      "113688.77561612905\n",
      "chromosome 3:\n",
      "112515.08119496854\n",
      "chromosome 4:\n",
      "107038.64105120231\n",
      "chromosome 5:\n",
      "109063.71419369068\n",
      "mean:\n",
      "109351.39356870235\n",
      "\n",
      "tsplits = [10, 1000] (alt) vs. tsplits = [1000] (null)\n",
      "\n",
      "chromosome 1:\n",
      "105500.95475081867\n",
      "chromosome 2:\n",
      "115776.90457579994\n",
      "chromosome 3:\n",
      "113839.37503178499\n",
      "chromosome 4:\n",
      "108054.33120574523\n",
      "chromosome 5:\n",
      "110077.78360083932\n",
      "mean:\n",
      "110649.86983299763\n",
      "\n",
      "tsplits = [100, 1000] (alt) vs. tsplits = [1000] (null)\n",
      "\n",
      "chromosome 1:\n",
      "38477.32112794102\n",
      "chromosome 2:\n",
      "41317.20943940675\n",
      "chromosome 3:\n",
      "40886.682982511\n",
      "chromosome 4:\n",
      "40635.41357419221\n",
      "chromosome 5:\n",
      "39878.45923998766\n",
      "mean:\n",
      "40239.01727280773\n"
     ]
    }
   ],
   "source": [
    "likelihood_comparison(1,2)"
   ]
  },
  {
   "cell_type": "markdown",
   "metadata": {},
   "source": [
    "so as long as 3 epoch has tsplit=10 it is better than any 2 epoch model"
   ]
  },
  {
   "cell_type": "markdown",
   "metadata": {},
   "source": [
    "### 3epoch vs 3epoch"
   ]
  },
  {
   "cell_type": "code",
   "execution_count": 238,
   "metadata": {
    "scrolled": true
   },
   "outputs": [
    {
     "name": "stdout",
     "output_type": "stream",
     "text": [
      "\n",
      "tsplits = [10, 100] (alt) vs. tsplits = [10, 100] (null)\n",
      "\n",
      "chromosome 1:\n",
      "-0.0\n",
      "chromosome 2:\n",
      "-0.0\n",
      "chromosome 3:\n",
      "-0.0\n",
      "chromosome 4:\n",
      "-0.0\n",
      "chromosome 5:\n",
      "-0.0\n",
      "mean:\n",
      "0.0\n",
      "\n",
      "tsplits = [10, 1000] (alt) vs. tsplits = [10, 100] (null)\n",
      "\n",
      "chromosome 1:\n",
      "1050.198963297531\n",
      "chromosome 2:\n",
      "2088.1289596708957\n",
      "chromosome 3:\n",
      "1324.2938368164469\n",
      "chromosome 4:\n",
      "1015.6901545429137\n",
      "chromosome 5:\n",
      "1014.069407148636\n",
      "mean:\n",
      "1298.4762642952846\n",
      "\n",
      "tsplits = [100, 1000] (alt) vs. tsplits = [10, 100] (null)\n",
      "\n",
      "chromosome 1:\n",
      "-65973.43465958012\n",
      "chromosome 2:\n",
      "-72371.56617672229\n",
      "chromosome 3:\n",
      "-71628.39821245754\n",
      "chromosome 4:\n",
      "-66403.2274770101\n",
      "chromosome 5:\n",
      "-69185.25495370303\n",
      "mean:\n",
      "-69112.37629589462\n",
      "\n",
      "tsplits = [10, 100] (alt) vs. tsplits = [10, 1000] (null)\n",
      "\n",
      "chromosome 1:\n",
      "-1050.198963297531\n",
      "chromosome 2:\n",
      "-2088.1289596708957\n",
      "chromosome 3:\n",
      "-1324.2938368164469\n",
      "chromosome 4:\n",
      "-1015.6901545429137\n",
      "chromosome 5:\n",
      "-1014.069407148636\n",
      "mean:\n",
      "-1298.4762642952846\n",
      "\n",
      "tsplits = [10, 1000] (alt) vs. tsplits = [10, 1000] (null)\n",
      "\n",
      "chromosome 1:\n",
      "-0.0\n",
      "chromosome 2:\n",
      "-0.0\n",
      "chromosome 3:\n",
      "-0.0\n",
      "chromosome 4:\n",
      "-0.0\n",
      "chromosome 5:\n",
      "-0.0\n",
      "mean:\n",
      "0.0\n",
      "\n",
      "tsplits = [100, 1000] (alt) vs. tsplits = [10, 1000] (null)\n",
      "\n",
      "chromosome 1:\n",
      "-67023.63362287765\n",
      "chromosome 2:\n",
      "-74459.69513639319\n",
      "chromosome 3:\n",
      "-72952.69204927399\n",
      "chromosome 4:\n",
      "-67418.91763155302\n",
      "chromosome 5:\n",
      "-70199.32436085166\n",
      "mean:\n",
      "-70410.8525601899\n",
      "\n",
      "tsplits = [10, 100] (alt) vs. tsplits = [100, 1000] (null)\n",
      "\n",
      "chromosome 1:\n",
      "65973.43465958012\n",
      "chromosome 2:\n",
      "72371.56617672229\n",
      "chromosome 3:\n",
      "71628.39821245754\n",
      "chromosome 4:\n",
      "66403.2274770101\n",
      "chromosome 5:\n",
      "69185.25495370303\n",
      "mean:\n",
      "69112.37629589462\n",
      "\n",
      "tsplits = [10, 1000] (alt) vs. tsplits = [100, 1000] (null)\n",
      "\n",
      "chromosome 1:\n",
      "67023.63362287765\n",
      "chromosome 2:\n",
      "74459.69513639319\n",
      "chromosome 3:\n",
      "72952.69204927399\n",
      "chromosome 4:\n",
      "67418.91763155302\n",
      "chromosome 5:\n",
      "70199.32436085166\n",
      "mean:\n",
      "70410.8525601899\n",
      "\n",
      "tsplits = [100, 1000] (alt) vs. tsplits = [100, 1000] (null)\n",
      "\n",
      "chromosome 1:\n",
      "-0.0\n",
      "chromosome 2:\n",
      "-0.0\n",
      "chromosome 3:\n",
      "-0.0\n",
      "chromosome 4:\n",
      "-0.0\n",
      "chromosome 5:\n",
      "-0.0\n",
      "mean:\n",
      "0.0\n"
     ]
    }
   ],
   "source": [
    "likelihood_comparison(2,2)"
   ]
  },
  {
   "cell_type": "markdown",
   "metadata": {},
   "source": [
    "and [10,1000] is the best 3 epoch model, followed by [10,100], then [100,1000]"
   ]
  },
  {
   "cell_type": "markdown",
   "metadata": {},
   "source": [
    "### 4epoch vs 1epoch"
   ]
  },
  {
   "cell_type": "code",
   "execution_count": 239,
   "metadata": {
    "scrolled": true
   },
   "outputs": [
    {
     "name": "stdout",
     "output_type": "stream",
     "text": [
      "\n",
      "tsplits = [10, 100, 1000] (alt) vs. tsplits = [] (null)\n",
      "\n",
      "chromosome 1:\n",
      "111153.5697276456\n",
      "chromosome 2:\n",
      "97791.92159426212\n",
      "chromosome 3:\n",
      "119733.00811786915\n",
      "chromosome 4:\n",
      "114065.43001541286\n",
      "chromosome 5:\n",
      "115943.09372277441\n",
      "mean:\n",
      "111737.40463559283\n"
     ]
    }
   ],
   "source": [
    "likelihood_comparison(0,3)"
   ]
  },
  {
   "cell_type": "markdown",
   "metadata": {},
   "source": [
    "4 epoch better than 1 epoch"
   ]
  },
  {
   "cell_type": "markdown",
   "metadata": {},
   "source": [
    "### 4epoch vs 2epoch"
   ]
  },
  {
   "cell_type": "code",
   "execution_count": 240,
   "metadata": {
    "scrolled": true
   },
   "outputs": [
    {
     "name": "stdout",
     "output_type": "stream",
     "text": [
      "\n",
      "tsplits = [10, 100, 1000] (alt) vs. tsplits = [10] (null)\n",
      "\n",
      "chromosome 1:\n",
      "4316.47439591412\n",
      "chromosome 2:\n",
      "-19640.76178186061\n",
      "chromosome 3:\n",
      "4481.214267650037\n",
      "chromosome 4:\n",
      "4542.028987600934\n",
      "chromosome 5:\n",
      "4337.590691100922\n",
      "mean:\n",
      "-392.69068791891914\n",
      "\n",
      "tsplits = [10, 100, 1000] (alt) vs. tsplits = [100] (null)\n",
      "\n",
      "chromosome 1:\n",
      "68271.04578564689\n",
      "chromosome 2:\n",
      "51393.64600646775\n",
      "chromosome 3:\n",
      "74158.90958242398\n",
      "chromosome 4:\n",
      "68771.23578457709\n",
      "chromosome 5:\n",
      "71462.1291036033\n",
      "mean:\n",
      "66811.3932525438\n",
      "\n",
      "tsplits = [10, 100, 1000] (alt) vs. tsplits = [1000] (null)\n",
      "\n",
      "chromosome 1:\n",
      "106731.51180218218\n",
      "chromosome 2:\n",
      "92617.25254284602\n",
      "chromosome 3:\n",
      "115016.44549286517\n",
      "chromosome 4:\n",
      "109390.61608069076\n",
      "chromosome 5:\n",
      "111336.35740126343\n",
      "mean:\n",
      "107018.4366639695\n"
     ]
    }
   ],
   "source": [
    "likelihood_comparison(1,3)"
   ]
  },
  {
   "cell_type": "markdown",
   "metadata": {},
   "source": [
    "4 epoch generally better than any 2 epoch model"
   ]
  },
  {
   "cell_type": "markdown",
   "metadata": {},
   "source": [
    "### 4epoch vs 3epoch"
   ]
  },
  {
   "cell_type": "code",
   "execution_count": 241,
   "metadata": {
    "scrolled": true
   },
   "outputs": [
    {
     "name": "stdout",
     "output_type": "stream",
     "text": [
      "\n",
      "tsplits = [10, 100, 1000] (alt) vs. tsplits = [10, 100] (null)\n",
      "\n",
      "chromosome 1:\n",
      "2280.7560146610485\n",
      "chromosome 2:\n",
      "-21071.523073283024\n",
      "chromosome 3:\n",
      "2501.3642978966236\n",
      "chromosome 4:\n",
      "2351.9750294884434\n",
      "chromosome 5:\n",
      "2272.64320757275\n",
      "mean:\n",
      "-2332.956904732832\n",
      "\n",
      "tsplits = [10, 100, 1000] (alt) vs. tsplits = [10, 1000] (null)\n",
      "\n",
      "chromosome 1:\n",
      "1230.5570513635175\n",
      "chromosome 2:\n",
      "-23159.65203295392\n",
      "chromosome 3:\n",
      "1177.0704610801768\n",
      "chromosome 4:\n",
      "1336.2848749455297\n",
      "chromosome 5:\n",
      "1258.5738004241139\n",
      "mean:\n",
      "-3631.4331690281165\n",
      "\n",
      "tsplits = [10, 100, 1000] (alt) vs. tsplits = [100, 1000] (null)\n",
      "\n",
      "chromosome 1:\n",
      "68254.19067424117\n",
      "chromosome 2:\n",
      "51300.04310343927\n",
      "chromosome 3:\n",
      "74129.76251035416\n",
      "chromosome 4:\n",
      "68755.20250649855\n",
      "chromosome 5:\n",
      "71457.89816127578\n",
      "mean:\n",
      "66779.41939116179\n"
     ]
    }
   ],
   "source": [
    "likelihood_comparison(2,3)"
   ]
  },
  {
   "cell_type": "markdown",
   "metadata": {},
   "source": [
    "4 epoch generally better than any 3 epoch model"
   ]
  },
  {
   "cell_type": "markdown",
   "metadata": {},
   "source": [
    "## plot best models of each together"
   ]
  },
  {
   "cell_type": "code",
   "execution_count": 252,
   "metadata": {
    "scrolled": true
   },
   "outputs": [
    {
     "data": {
      "image/png": "[encoded data removed]",
      "text/plain": [
       "<Figure size 1080x360 with 1 Axes>"
      ]
     },
     "metadata": {
      "needs_background": "light"
     },
     "output_type": "display_data"
    }
   ],
   "source": [
    "mcles = [mcles_all[0][0], #1 epoch model\n",
    "         mcles_all[1][0],  #best 2 epoch model\n",
    "         mcles_all[2][1], #best 3 epoch model\n",
    "         mcles_all[3][0] #best 4 epoch model\n",
    "        ]\n",
    "errs = [errs_all[0][0], \n",
    "        errs_all[1][0], \n",
    "        errs_all[2][1], \n",
    "        errs_all[3][0]\n",
    "       ]\n",
    "\n",
    "fname = (plotdir+filename+'_tCutoff%d_group%s_mcle-dispersal.pdf' %(tCutoff,group)).replace(' ','')\n",
    "\n",
    "ticklabelfontsize = 14\n",
    "axislabelsize = 14\n",
    "legendfontsize = 10\n",
    "cmap = plt.get_cmap('tab10')\n",
    "markers = ['o','^','v','s']\n",
    "# epoch_names = [r'recent epoch ($t < %d$)' %tsplit, r'distant epoch ($t > %d$)' %tsplit, '1 epoch model']\n",
    "\n",
    "# patches = []\n",
    "xticks = []\n",
    "fig, ax = plt.subplots(figsize = (15,5))\n",
    "\n",
    "for i,n in enumerate(mcles): #model\n",
    "#     print(n)\n",
    "    for j,c in enumerate(n): #chromosomes\n",
    "#         print(c)\n",
    "        for k,e in enumerate(c[::-1]): #epochs (flipped so most recent first)\n",
    "#             print(e)\n",
    "            for l,a in enumerate(e[:2]): #axis (just use lat and long - ignore correlation)\n",
    "\n",
    "                dxxxx = 1 #distance between chromosomes\n",
    "                dxxx = dxxxx * len(chromosomes) + 1*dxxxx #distance between epochs\n",
    "                dxx = dxxx * (i+1) #distance between lat and long\n",
    "                dx = dxx * 1  #distance between models\n",
    "        \n",
    "                x = i*dx + l*dxx + k*dxxx + j*dxxxx #x location in plot\n",
    "                ax.scatter(x, a, color=cmap(j), marker = markers[k]) #MLE\n",
    "                ax.plot([x, x], [a - errs[i][j][k][0], a + errs[i][j][k][0]], color=cmap(j)) #error bars\n",
    "\n",
    "    # gray shading to delimit lat and long\n",
    "    x0 = i*dx - 1\n",
    "    x1 = x0 + dxx\n",
    "    ax.axvspan(x0, x1, alpha=0.1, color='k')\n",
    "    \n",
    "    # vertical lines to delimit models\n",
    "    if i>0:\n",
    "        ax.axvline(x0, color='k')\n",
    "        \n",
    "    # x ticks\n",
    "    for l in [0,1]:\n",
    "        x0 = i*dx + l*dxx\n",
    "        x1 = x0 + k*dxxx + j*dxxxx\n",
    "        xticks.append((x1+x0)/2)\n",
    "    \n",
    "                \n",
    "#             # 2 epoch labels\n",
    "#             if i==0 and j ==0:\n",
    "#                 patches.append(Line2D([0], [0], marker = markers[k], label=epoch_names[k], color='grey'))\n",
    "# patches = patches[::-1] #reverse order\n",
    "\n",
    "# # 1 epoch label\n",
    "# patches.append(Line2D([0], [0], marker = markers[-1], fillstyle='none', label=epoch_names[-1], color='grey'))\n",
    "\n",
    "# plt.legend(handles=patches[::-1], fontsize=legendfontsize)\n",
    "\n",
    "# x axis\n",
    "ax.tick_params(axis='both', labelsize=ticklabelfontsize)\n",
    "plt.xticks(xticks, [r'$\\sigma_\\mathrm{lat}$', r'$\\sigma_\\mathrm{long}$'] * len(mcles))\n",
    "for i in range(len(mcles)):\n",
    "    ax.text(sum(xticks[i*2:i*2+2])/2, ax.get_ylim()[1]*1.025, \n",
    "            '%d-epoch' %(i+1), ha='center', va='center', fontsize=axislabelsize)\n",
    "    \n",
    "# y axis\n",
    "# plt.yscale('log')\n",
    "ax.set_xlim(xmin=-1, xmax=x+1)\n",
    "ax.set_ylim(ymin=0)\n",
    "ax.set_ylabel('kilometers', fontsize=axislabelsize)\n",
    "\n",
    "# legend\n",
    "xpos = [i*dxxxx*(len(chromosomes)+1)*(i+1) for i in range(1,len(mcles))]\n",
    "y = ax.get_ylim()[1]*0.95\n",
    "dy = ax.get_ylim()[1]*0.06\n",
    "labels = ['0<t<10\\n10<t<10000','0<t<10\\n10<t<1000\\n1000<t<10000','0<t<10\\n10<t<100\\n100<t<1000\\n1000<t<10000']\n",
    "for i,x in enumerate(xpos):\n",
    "    for j in range(i+2):\n",
    "        ax.scatter(x, y - dy*j, marker=markers[j], color='k')\n",
    "    ax.text(x+1, y + dy/3, labels[i], ha='left', va='top', fontsize=axislabelsize)\n",
    "    \n",
    "\n",
    "# plt.tight_layout()\n",
    "plt.savefig(fname, bbox_inches = 'tight', pad_inches = 0)\n",
    "plt.show()"
   ]
  },
  {
   "cell_type": "code",
   "execution_count": null,
   "metadata": {},
   "outputs": [],
   "source": []
  }
 ],
 "metadata": {
  "kernelspec": {
   "display_name": "Python 3",
   "language": "python",
   "name": "python3"
  },
  "language_info": {
   "codemirror_mode": {
    "name": "ipython",
    "version": 3
   },
   "file_extension": ".py",
   "mimetype": "text/x-python",
   "name": "python",
   "nbconvert_exporter": "python",
   "pygments_lexer": "ipython3",
   "version": "3.9.1"
  }
 },
 "nbformat": 4,
 "nbformat_minor": 4
}
