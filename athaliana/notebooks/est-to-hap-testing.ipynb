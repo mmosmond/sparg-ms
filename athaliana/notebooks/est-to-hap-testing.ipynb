{
 "cells": [
  {
   "cell_type": "code",
   "execution_count": 62,
   "metadata": {},
   "outputs": [],
   "source": [
    "from Bio.Seq import Seq "
   ]
  },
  {
   "cell_type": "code",
   "execution_count": 63,
   "metadata": {},
   "outputs": [],
   "source": [
    "from Bio.SeqRecord import SeqRecord"
   ]
  },
  {
   "cell_type": "code",
   "execution_count": 64,
   "metadata": {},
   "outputs": [],
   "source": [
    "from Bio import SeqIO"
   ]
  },
  {
   "cell_type": "code",
   "execution_count": 65,
   "metadata": {},
   "outputs": [],
   "source": [
    "input = [\"../data/cvi_africa_and1001.EVA_2020-10-20.vcf.gz_dip2Norm.vcf.b.gz.vcf_atcgOnly.vcf.gz_chr1.vcf_keep-samples.vcf_biallelic.vcf_imputed.vcf.gz.est\", \"../data/cvi_africa_and1001.EVA_2020-10-20.vcf.gz_dip2Norm.vcf.b.gz.vcf_atcgOnly.vcf.gz_chr1.vcf_keep-samples.vcf_biallelic.vcf_imputed.vcf.gz.est_pvalues.txt\"]"
   ]
  },
  {
   "cell_type": "code",
   "execution_count": 66,
   "metadata": {},
   "outputs": [],
   "source": [
    "output = [\"../data/test.fa\"]"
   ]
  },
  {
   "cell_type": "code",
   "execution_count": 67,
   "metadata": {},
   "outputs": [],
   "source": [
    "# get major and minor alleles \n",
    "majors = []\n",
    "minors = []\n",
    "nucs = ['A','C','G','T'] #order of nucleotides in .est files\n",
    "with open(input[0], 'r') as f: #.est file\n",
    "    for line in f: #go line by line\n",
    "        n = [int(i) for i in line.split(' ')[0].split(',')] #count of nucleotides A,C,G,T\n",
    "        majors.append(nucs[n.index(max(n))]) #major allele (i guess if they have the exact same frequency then we arbitrarily choose the first?)\n",
    "        minors.append(nucs[n.index(min([i for i in n if i>0]))]) #minor allele "
   ]
  },
  {
   "cell_type": "code",
   "execution_count": 49,
   "metadata": {
    "scrolled": true
   },
   "outputs": [
    {
     "name": "stdout",
     "output_type": "stream",
     "text": [
      "225959\n",
      "0.052794245224232844\n"
     ]
    }
   ],
   "source": [
    "# decide which allele is ancestral\n",
    "ancestrals = majors #start by assuming the major allele is ancestral \n",
    "deriveds = minors\n",
    "nflips = 0\n",
    "with open(input[1], 'r') as f: #pvalues file\n",
    "    for i,line in enumerate(f): #go line by line\n",
    "        if float(line) < 0.5: #if the probability that the major allele is ancestral is less than 0.5 \n",
    "            ancestrals[i] = minors[i] #then we make the minor allele ancestral\n",
    "            deriveds[i] = majors[i]\n",
    "            nflips += 1 #curious how many flips we have\n",
    "print(nflips)\n",
    "print(nflips/len(majors)) #fraction flipped"
   ]
  },
  {
   "cell_type": "code",
   "execution_count": 50,
   "metadata": {},
   "outputs": [
    {
     "data": {
      "text/plain": [
       "1"
      ]
     },
     "execution_count": 50,
     "metadata": {},
     "output_type": "execute_result"
    }
   ],
   "source": [
    "# save as fasta to polarize haps with Relate\n",
    "ancestor = Seq(\"\".join(ancestrals))\n",
    "record = SeqRecord(ancestor, id=\"ancestral Arabidopsis thaliana sequence inferred by est-sfs;\", description='outgroups: Arabidopsis lyrata, Boechera stricta, and Malcolmia maritima') #make sequence\n",
    "SeqIO.write(record, output[0], \"fasta\") #save sequence"
   ]
  },
  {
   "cell_type": "code",
   "execution_count": 56,
   "metadata": {
    "scrolled": true
   },
   "outputs": [
    {
     "name": "stdout",
     "output_type": "stream",
     "text": [
      "['2', 'C', 'T']\n",
      "['3', 'C', 'G']\n",
      "['15', 'C', 'T']\n",
      "['16', 'C', 'A']\n",
      "['18', 'T', 'C']\n",
      "['19', 'A', 'G']\n",
      "['21', 'A', 'T']\n",
      "['22', 'C', 'T']\n",
      "['25', 'T', 'A']\n",
      "['35', 'A', 'G']\n",
      "['36', 'A', 'T']\n"
     ]
    }
   ],
   "source": [
    "with open('../data/cvi_africa_and1001.EVA_2020-10-20.vcf.gz_dip2Norm.vcf.b.gz.vcf_atcgOnly.vcf.gz_chr1.vcf_keep-samples.vcf_biallelic.vcf_imputed.vcf.gz.hap') as f:\n",
    "    for i,line in enumerate(f):\n",
    "        if i > 10:\n",
    "            break\n",
    "        else:\n",
    "            print(line.split(' ')[2:5])"
   ]
  },
  {
   "cell_type": "code",
   "execution_count": 79,
   "metadata": {},
   "outputs": [],
   "source": [
    "    input = [\"../data/cvi_africa_and1001.EVA_2020-10-20.vcf.gz_dip2Norm.vcf.b.gz.vcf_atcgOnly.vcf.gz_chr1.vcf_keep-samples.vcf_biallelic.vcf_imputed.vcf.gz.est\", \"../data/cvi_africa_and1001.EVA_2020-10-20.vcf.gz_dip2Norm.vcf.b.gz.vcf_atcgOnly.vcf.gz_chr1.vcf_keep-samples.vcf_biallelic.vcf_imputed.vcf.gz.est_pvalues.txt\",'../data/cvi_africa_and1001.EVA_2020-10-20.vcf.gz_dip2Norm.vcf.b.gz.vcf_atcgOnly.vcf.gz_chr1.vcf_keep-samples.vcf_biallelic.vcf_imputed.vcf.gz.hap']"
   ]
  },
  {
   "cell_type": "code",
   "execution_count": 80,
   "metadata": {},
   "outputs": [],
   "source": [
    "output = [\"../data/test.hap\"]"
   ]
  },
  {
   "cell_type": "code",
   "execution_count": 86,
   "metadata": {},
   "outputs": [],
   "source": [
    "import itertools"
   ]
  },
  {
   "cell_type": "code",
   "execution_count": 152,
   "metadata": {},
   "outputs": [
    {
     "name": "stdout",
     "output_type": "stream",
     "text": [
      "0,3078,0,22 0,0,0,0 0,0,0,0 0,0,0,0\n",
      "\n",
      "['1:2_C_T', '1:2_C_T', '2', 'C', 'T']\n",
      "1.000000\n",
      "\n",
      "0,3089,11,0 0,0,0,0 0,0,0,0 0,0,0,0\n",
      "\n",
      "['1:3_C_G', '1:3_C_G', '3', 'C', 'G']\n",
      "0.952478\n",
      "\n",
      "0,3090,0,10 0,0,0,0 0,0,0,0 0,0,0,0\n",
      "\n",
      "['1:15_C_T', '1:15_C_T', '15', 'C', 'T']\n",
      "0.973029\n",
      "\n",
      "9,3091,0,0 0,0,0,0 0,0,0,0 0,0,0,0\n",
      "\n",
      "['1:16_C_A', '1:16_C_A', '16', 'C', 'A']\n",
      "0.952478\n",
      "\n",
      "0,10,0,3090 0,0,0,0 0,0,0,0 0,0,0,0\n",
      "\n",
      "['1:18_T_C', '1:18_T_C', '18', 'T', 'C']\n",
      "0.966003\n",
      "\n",
      "3096,0,4,0 0,0,0,0 0,0,0,0 0,0,0,0\n",
      "\n",
      "['1:19_A_G', '1:19_A_G', '19', 'A', 'G']\n",
      "1.000000\n",
      "\n",
      "2898,0,0,202 0,0,0,0 0,0,0,0 0,0,0,0\n",
      "\n",
      "['1:21_A_T', '1:21_A_T', '21', 'A', 'T']\n",
      "0.779363\n",
      "\n",
      "0,3060,0,40 0,0,0,0 0,0,0,0 0,0,0,0\n",
      "\n",
      "['1:22_C_T', '1:22_C_T', '22', 'C', 'T']\n",
      "0.966003\n",
      "\n",
      "4,0,0,3096 0,0,0,0 0,0,0,0 0,0,0,0\n",
      "\n",
      "['1:25_T_A', '1:25_T_A', '25', 'T', 'A']\n",
      "0.910587\n",
      "\n",
      "3052,0,48,0 0,0,0,0 0,0,0,0 0,0,0,0\n",
      "\n",
      "['1:35_A_G', '1:35_A_G', '35', 'A', 'G']\n",
      "0.983041\n",
      "\n",
      "0\n"
     ]
    }
   ],
   "source": [
    "nucs = ['A', 'C', 'G', 'T'] #order of nucleotides in est\n",
    "nflips = 0\n",
    "with open(input[0],'r') as f: #est input file with counts of alleles \n",
    "    with open(input[1],'r') as g:  #pvalues from est-sfs\n",
    "        with open(input[2],'r') as h: #haps file\n",
    "            with open(output[0],'w') as out: #polarized haps file\n",
    "                for i, (est, p, hap) in enumerate(zip(f, g, h)): #one line at a time\n",
    "                    if i < 10:\n",
    "                        print(est)\n",
    "                        print(hap.split(' ')[:5])\n",
    "                        print(p)\n",
    "                    else:\n",
    "                        break\n",
    "                    # get major and minor alleles\n",
    "                    n = [int(i) for i in est.split(' ')[0].split(',')] #count of nucleotides\n",
    "                    major = nucs[n.index(max(n))]\n",
    "                    minor = nucs[n.index(min([i for i in n if i>0]))]\n",
    "                    # get haps\n",
    "                    haps = hap.split(' ')\n",
    "                    #special cases of a fixed allele or equal frequencies will produce major==minor\n",
    "                    snp = True\n",
    "                    fix = False\n",
    "                    if major == minor:\n",
    "                        print(haps[:5])\n",
    "                        print(est)\n",
    "                        try:\n",
    "                            [major, minor] = [nucs[i] for i,c in enumerate(n) if c == max(n)] #assign major and minor in order of nucs list\n",
    "                            print('equal frequencies at snp %d, so using sister taxa'%i)\n",
    "                        except:\n",
    "                            print('snp %d not a snp, so not writing to outfile \\n'%i)\n",
    "                            snp = False\n",
    "                        if snp:\n",
    "                            no = [int(i) for i in est.split(' ')[1].split(',')] #nucleotide counts for closest outgroup\n",
    "                            if sum(no) == 1:\n",
    "                                fix = True\n",
    "                            else:\n",
    "                                print('no info from sister taxa, so moving to next outgroup')\n",
    "                                no = [int(i) for i in est.split(' ')[2].split(',')] #next closest outgroup\n",
    "                                if sum(no) == 1:\n",
    "                                    fix = True\n",
    "                                else:\n",
    "                                    print('no info from cousin taxa, so moving to next outgroup')\n",
    "                                    no = [int(i) for i in est.split(' ')[3].split(',')] #next closest outgroup\n",
    "                                    if sum(no) == 1:\n",
    "                                        fix = True\n",
    "                                    else:\n",
    "                                        print('no info from any outgroup, so choosing major as first allele in nucs list')\n",
    "                                        print(major, minor)\n",
    "                                        print(p)\n",
    "                                        print('\\n')\n",
    "                    if fix:\n",
    "                        if major == nucs[no.index(max(no))]: #if the major allele matches the outgroup\n",
    "                                # done\n",
    "                                print(major, minor)\n",
    "                                print('\\n')                            \n",
    "                        elif minor == nucs[no.index(max(no))]: #if the minor matches the outgroup\n",
    "                                #switch\n",
    "                                tmp = major\n",
    "                                major = minor\n",
    "                                minor = tmp \n",
    "                                print(major, minor)\n",
    "                                print('\\n')\n",
    "                        else:\n",
    "                            print('no help from outgroups, sticking with nucs order')\n",
    "                            print(major, minor)\n",
    "                            print('\\n')\n",
    "\n",
    "                    if snp:\n",
    "                        # set up next line of polarized haps file\n",
    "                        reference = haps[3] #reference allele\n",
    "                        alternate = haps[4] #alternate allele\n",
    "                        #check\n",
    "                        error = False\n",
    "                        if reference!= major and reference != minor:\n",
    "                            error = True\n",
    "                        if alternate!= major and alternate != minor:\n",
    "                            error = True\n",
    "                        if error:\n",
    "                            print('error: reference or alternate not matching major or minor at snp %d'%i)\n",
    "                            break\n",
    "                        #if the probability that the major allele is ancestral is greater or equal to 0.5 \n",
    "                        ancestral = major\n",
    "                        derived = minor\n",
    "                        if float(p) < 0.5:\n",
    "                            ancestral = minor\n",
    "                            derived = major\n",
    "                        #only need to flip if reference is not ancestral\n",
    "                        if reference != ancestral:\n",
    "                            nflips += 1\n",
    "                            haps[3] = ancestral #make the reference allele ancestral\n",
    "                            haps[4] = derived #make the alternate allele derived\n",
    "                            haps[5:] = [1 - int(i) for i in haps[5:]] #flip the haps\n",
    "                            hap = (' ').join(map(str,haps))+'\\n'\n",
    "                        # write to outfile\n",
    "                        out.write(hap)\n",
    "            \n",
    "print(nflips)"
   ]
  },
  {
   "cell_type": "markdown",
   "metadata": {},
   "source": [
    "testing the alignment of the files"
   ]
  },
  {
   "cell_type": "code",
   "execution_count": 35,
   "metadata": {},
   "outputs": [],
   "source": [
    "hapfile = '../data/cvi_africa_and1001.EVA_2020-10-20.vcf.gz_dip2Norm.vcf.b.gz.vcf_atcgOnly.vcf.gz_chr1.vcf_keep-samples.vcf_biallelic.vcf_imputed.vcf.gz.hap'\n",
    "estfile = '../data/cvi_africa_and1001.EVA_2020-10-20.vcf.gz_dip2Norm.vcf.b.gz.vcf_atcgOnly.vcf.gz_chr1.vcf_keep-samples.vcf_biallelic.vcf_imputed.vcf.gz.est'\n",
    "pvaluesfile = '../data/cvi_africa_and1001.EVA_2020-10-20.vcf.gz_dip2Norm.vcf.b.gz.vcf_atcgOnly.vcf.gz_chr1.vcf_keep-samples.vcf_biallelic.vcf_imputed.vcf.gz.est_pvalues.txt'\n",
    "\n",
    "x = []\n",
    "y = []\n",
    "input = [hapfile, estfile, pvaluesfile]\n",
    "with open(input[0],'r') as f: \n",
    "    with open(input[1],'r') as g:  \n",
    "        with open(input[2],'r') as h:\n",
    "            n = 0\n",
    "            for i,j,k in zip(f,g,h):\n",
    "                if n>1e6:\n",
    "                    break\n",
    "                else:\n",
    "                    haps = i.split(' ')\n",
    "#                     print(haps[3:5], sum([int(i) for i in haps[5:]]))\n",
    "#                     print(j)\n",
    "#                     print(k)\n",
    "                    x.append(sum([int(i) for i in haps[5:]]))\n",
    "                    y.append(float(k))\n",
    "                    n += 1"
   ]
  },
  {
   "cell_type": "code",
   "execution_count": 15,
   "metadata": {},
   "outputs": [],
   "source": [
    "import matplotlib.pyplot as plt"
   ]
  },
  {
   "cell_type": "code",
   "execution_count": 36,
   "metadata": {},
   "outputs": [
    {
     "data": {
      "image/png": "[encoded data removed]",
      "text/plain": [
       "<Figure size 432x288 with 1 Axes>"
      ]
     },
     "metadata": {
      "needs_background": "light"
     },
     "output_type": "display_data"
    }
   ],
   "source": [
    "plt.scatter(x,y)\n",
    "plt.show()"
   ]
  },
  {
   "cell_type": "code",
   "execution_count": 37,
   "metadata": {},
   "outputs": [
    {
     "data": {
      "text/plain": [
       "48011"
      ]
     },
     "execution_count": 37,
     "metadata": {},
     "output_type": "execute_result"
    }
   ],
   "source": [
    "x.index(1550)"
   ]
  },
  {
   "cell_type": "code",
   "execution_count": null,
   "metadata": {},
   "outputs": [],
   "source": []
  }
 ],
 "metadata": {
  "kernelspec": {
   "display_name": "Python 3",
   "language": "python",
   "name": "python3"
  },
  "language_info": {
   "codemirror_mode": {
    "name": "ipython",
    "version": 3
   },
   "file_extension": ".py",
   "mimetype": "text/x-python",
   "name": "python",
   "nbconvert_exporter": "python",
   "pygments_lexer": "ipython3",
   "version": "3.8.5"
  }
 },
 "nbformat": 4,
 "nbformat_minor": 4
}
